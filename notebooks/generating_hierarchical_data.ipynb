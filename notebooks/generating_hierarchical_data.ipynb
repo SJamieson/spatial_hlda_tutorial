{
  "cells": [
    {
      "cell_type": "markdown",
      "metadata": {
        "collapsed": true,
        "pycharm": {
          "name": "#%% md\n"
        }
      },
      "source": "# Generating Hierarchical Data\n"
    },
    {
      "cell_type": "code",
      "execution_count": 81,
      "outputs": [],
      "source": "\nfrom typing import List, Dict\n\nfrom PIL import Image\n\nfrom notebooks.hierarchy_plotting import *\n\nimage_width \u003d 5\nsamples_per_pixel \u003d 100\neta \u003d 1 # GEM alpha parameter - controls distribution along path\nalpha \u003d 1E0 # \nbeta \u003d 0.01\n\ntwo_level_tree \u003d\\\n[Node(\u0027white\u0027, [\n        Node(\u0027red\u0027, None),\n        Node(\u0027green\u0027, None),\n        Node(\u0027blue\u0027, None)\n    ])\n]\n\nthree_level_tree \u003d\\\n[Node(\u0027white\u0027, [\n        Node(\u0027red\u0027, [\n            Node(\u0027green\u0027, None)\n        ]),\n        Node(\u0027blue\u0027, None)\n    ])\n]\n\nfour_level_tree \u003d\\\n[Node(\u0027white\u0027, [\n        Node(\u0027red\u0027, [\n            Node(\u0027green\u0027, [\n                Node(\u0027blue\u0027, None)\n            ])\n        ])\n    ])\n]",
      "metadata": {
        "pycharm": {
          "metadata": false,
          "name": "#%%\n",
          "is_executing": false
        }
      }
    },
    {
      "cell_type": "markdown",
      "source": "\nNow to generate images!\n",
      "metadata": {
        "pycharm": {
          "metadata": false,
          "name": "#%% md\n"
        }
      }
    },
    {
      "cell_type": "code",
      "execution_count": 82,
      "outputs": [
        {
          "name": "stdout",
          "text": [
            "{\u0027white\u0027: 6, \u0027red\u0027: 1, \u0027green\u0027: 91, \u0027blue\u0027: 2}\n{\u0027white\u0027: 94, \u0027red\u0027: 3, \u0027green\u0027: 0, \u0027blue\u0027: 3}\n{\u0027white\u0027: 43, \u0027red\u0027: 1, \u0027green\u0027: 56, \u0027blue\u0027: 0}\n{\u0027white\u0027: 4, \u0027red\u0027: 0, \u0027green\u0027: 95, \u0027blue\u0027: 1}\n{\u0027white\u0027: 25, \u0027red\u0027: 1, \u0027green\u0027: 72, \u0027blue\u0027: 2}\n{\u0027white\u0027: 96, \u0027red\u0027: 2, \u0027green\u0027: 2, \u0027blue\u0027: 0}\n{\u0027white\u0027: 93, \u0027red\u0027: 5, \u0027green\u0027: 0, \u0027blue\u0027: 2}\n{\u0027white\u0027: 37, \u0027red\u0027: 2, \u0027green\u0027: 60, \u0027blue\u0027: 1}\n{\u0027white\u0027: 92, \u0027red\u0027: 7, \u0027green\u0027: 0, \u0027blue\u0027: 1}\n{\u0027white\u0027: 70, \u0027red\u0027: 28, \u0027green\u0027: 2, \u0027blue\u0027: 0}\n{\u0027white\u0027: 16, \u0027red\u0027: 1, \u0027green\u0027: 81, \u0027blue\u0027: 2}\n{\u0027white\u0027: 37, \u0027red\u0027: 61, \u0027green\u0027: 0, \u0027blue\u0027: 2}\n{\u0027white\u0027: 25, \u0027red\u0027: 75, \u0027green\u0027: 0, \u0027blue\u0027: 0}\n{\u0027white\u0027: 29, \u0027red\u0027: 68, \u0027green\u0027: 2, \u0027blue\u0027: 1}\n{\u0027white\u0027: 43, \u0027red\u0027: 57, \u0027green\u0027: 0, \u0027blue\u0027: 0}\n{\u0027white\u0027: 24, \u0027red\u0027: 73, \u0027green\u0027: 2, \u0027blue\u0027: 1}\n{\u0027white\u0027: 12, \u0027red\u0027: 88, \u0027green\u0027: 0, \u0027blue\u0027: 0}\n{\u0027white\u0027: 89, \u0027red\u0027: 2, \u0027green\u0027: 1, \u0027blue\u0027: 8}\n{\u0027white\u0027: 73, \u0027red\u0027: 23, \u0027green\u0027: 1, \u0027blue\u0027: 3}\n{\u0027white\u0027: 41, \u0027red\u0027: 58, \u0027green\u0027: 1, \u0027blue\u0027: 0}\n{\u0027white\u0027: 21, \u0027red\u0027: 0, \u0027green\u0027: 1, \u0027blue\u0027: 78}\n{\u0027white\u0027: 6, \u0027red\u0027: 91, \u0027green\u0027: 2, \u0027blue\u0027: 1}\n{\u0027white\u0027: 51, \u0027red\u0027: 45, \u0027green\u0027: 3, \u0027blue\u0027: 1}\n{\u0027white\u0027: 47, \u0027red\u0027: 51, \u0027green\u0027: 1, \u0027blue\u0027: 1}\n{\u0027white\u0027: 51, \u0027red\u0027: 48, \u0027green\u0027: 0, \u0027blue\u0027: 1}\n{\u0027white\u0027: 37, \u0027red\u0027: 36, \u0027green\u0027: 26, \u0027blue\u0027: 1}\n{\u0027white\u0027: 74, \u0027red\u0027: 2, \u0027green\u0027: 0, \u0027blue\u0027: 24}\n{\u0027white\u0027: 88, \u0027red\u0027: 0, \u0027green\u0027: 1, \u0027blue\u0027: 11}\n{\u0027white\u0027: 23, \u0027red\u0027: 54, \u0027green\u0027: 22, \u0027blue\u0027: 1}\n{\u0027white\u0027: 77, \u0027red\u0027: 0, \u0027green\u0027: 0, \u0027blue\u0027: 23}\n{\u0027white\u0027: 87, \u0027red\u0027: 2, \u0027green\u0027: 8, \u0027blue\u0027: 3}\n{\u0027white\u0027: 85, \u0027red\u0027: 4, \u0027green\u0027: 10, \u0027blue\u0027: 1}\n{\u0027white\u0027: 50, \u0027red\u0027: 12, \u0027green\u0027: 36, \u0027blue\u0027: 2}\n{\u0027white\u0027: 34, \u0027red\u0027: 1, \u0027green\u0027: 1, \u0027blue\u0027: 64}\n{\u0027white\u0027: 85, \u0027red\u0027: 0, \u0027green\u0027: 14, \u0027blue\u0027: 1}\n{\u0027white\u0027: 87, \u0027red\u0027: 2, \u0027green\u0027: 10, \u0027blue\u0027: 1}\n{\u0027white\u0027: 29, \u0027red\u0027: 13, \u0027green\u0027: 58, \u0027blue\u0027: 0}\n{\u0027white\u0027: 35, \u0027red\u0027: 0, \u0027green\u0027: 1, \u0027blue\u0027: 64}\n{\u0027white\u0027: 57, \u0027red\u0027: 42, \u0027green\u0027: 1, \u0027blue\u0027: 0}\n{\u0027white\u0027: 92, \u0027red\u0027: 2, \u0027green\u0027: 3, \u0027blue\u0027: 3}\n{\u0027white\u0027: 85, \u0027red\u0027: 2, \u0027green\u0027: 2, \u0027blue\u0027: 11}\n{\u0027white\u0027: 54, \u0027red\u0027: 28, \u0027green\u0027: 18, \u0027blue\u0027: 0}\n{\u0027white\u0027: 26, \u0027red\u0027: 54, \u0027green\u0027: 18, \u0027blue\u0027: 2}\n{\u0027white\u0027: 15, \u0027red\u0027: 38, \u0027green\u0027: 46, \u0027blue\u0027: 1}\n{\u0027white\u0027: 75, \u0027red\u0027: 14, \u0027green\u0027: 11, \u0027blue\u0027: 0}\n{\u0027white\u0027: 62, \u0027red\u0027: 7, \u0027green\u0027: 30, \u0027blue\u0027: 1}\n{\u0027white\u0027: 45, \u0027red\u0027: 10, \u0027green\u0027: 44, \u0027blue\u0027: 1}\n{\u0027white\u0027: 62, \u0027red\u0027: 2, \u0027green\u0027: 0, \u0027blue\u0027: 36}\n{\u0027white\u0027: 15, \u0027red\u0027: 76, \u0027green\u0027: 7, \u0027blue\u0027: 2}\n{\u0027white\u0027: 26, \u0027red\u0027: 1, \u0027green\u0027: 0, \u0027blue\u0027: 73}\n{\u0027white\u0027: 12, \u0027red\u0027: 79, \u0027green\u0027: 3, \u0027blue\u0027: 6}\n{\u0027white\u0027: 50, \u0027red\u0027: 40, \u0027green\u0027: 7, \u0027blue\u0027: 3}\n{\u0027white\u0027: 81, \u0027red\u0027: 19, \u0027green\u0027: 0, \u0027blue\u0027: 0}\n{\u0027white\u0027: 88, \u0027red\u0027: 3, \u0027green\u0027: 7, \u0027blue\u0027: 2}\n{\u0027white\u0027: 58, \u0027red\u0027: 16, \u0027green\u0027: 5, \u0027blue\u0027: 21}\n{\u0027white\u0027: 6, \u0027red\u0027: 36, \u0027green\u0027: 50, \u0027blue\u0027: 8}\n{\u0027white\u0027: 36, \u0027red\u0027: 12, \u0027green\u0027: 37, \u0027blue\u0027: 15}\n{\u0027white\u0027: 34, \u0027red\u0027: 1, \u0027green\u0027: 8, \u0027blue\u0027: 57}\n{\u0027white\u0027: 86, \u0027red\u0027: 4, \u0027green\u0027: 1, \u0027blue\u0027: 9}\n{\u0027white\u0027: 20, \u0027red\u0027: 7, \u0027green\u0027: 50, \u0027blue\u0027: 23}\n{\u0027white\u0027: 73, \u0027red\u0027: 23, \u0027green\u0027: 3, \u0027blue\u0027: 1}\n{\u0027white\u0027: 5, \u0027red\u0027: 11, \u0027green\u0027: 59, \u0027blue\u0027: 25}\n{\u0027white\u0027: 71, \u0027red\u0027: 27, \u0027green\u0027: 2, \u0027blue\u0027: 0}\n{\u0027white\u0027: 48, \u0027red\u0027: 3, \u0027green\u0027: 10, \u0027blue\u0027: 39}\n{\u0027white\u0027: 11, \u0027red\u0027: 58, \u0027green\u0027: 6, \u0027blue\u0027: 25}\n{\u0027white\u0027: 27, \u0027red\u0027: 15, \u0027green\u0027: 21, \u0027blue\u0027: 37}\n{\u0027white\u0027: 29, \u0027red\u0027: 25, \u0027green\u0027: 24, \u0027blue\u0027: 22}\n{\u0027white\u0027: 25, \u0027red\u0027: 65, \u0027green\u0027: 8, \u0027blue\u0027: 2}\n{\u0027white\u0027: 37, \u0027red\u0027: 29, \u0027green\u0027: 21, \u0027blue\u0027: 13}\n{\u0027white\u0027: 67, \u0027red\u0027: 10, \u0027green\u0027: 6, \u0027blue\u0027: 17}\n{\u0027white\u0027: 5, \u0027red\u0027: 60, \u0027green\u0027: 1, \u0027blue\u0027: 34}\n{\u0027white\u0027: 28, \u0027red\u0027: 31, \u0027green\u0027: 21, \u0027blue\u0027: 20}\n{\u0027white\u0027: 3, \u0027red\u0027: 61, \u0027green\u0027: 17, \u0027blue\u0027: 19}\n{\u0027white\u0027: 24, \u0027red\u0027: 7, \u0027green\u0027: 63, \u0027blue\u0027: 6}\n{\u0027white\u0027: 33, \u0027red\u0027: 18, \u0027green\u0027: 13, \u0027blue\u0027: 36}\n"
          ],
          "output_type": "stream"
        },
        {
          "data": {
            "text/plain": "\u003cmatplotlib.image.AxesImage at 0x7fa64fa54588\u003e"
          },
          "metadata": {},
          "output_type": "execute_result",
          "execution_count": 82
        },
        {
          "data": {
            "text/plain": "\u003cFigure size 432x288 with 1 Axes\u003e",
            "image/png": "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\u003d\n"
          },
          "metadata": {
            "needs_background": "light"
          },
          "output_type": "display_data"
        },
        {
          "data": {
            "text/plain": "\u003cFigure size 432x288 with 1 Axes\u003e",
            "image/png": "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\u003d\n"
          },
          "metadata": {
            "needs_background": "light"
          },
          "output_type": "display_data"
        },
        {
          "data": {
            "text/plain": "\u003cFigure size 432x288 with 1 Axes\u003e",
            "image/png": "iVBORw0KGgoAAAANSUhEUgAAAPgAAAD8CAYAAABaQGkdAAAABHNCSVQICAgIfAhkiAAAAAlwSFlzAAALEgAACxIB0t1+/AAAADl0RVh0U29mdHdhcmUAbWF0cGxvdGxpYiB2ZXJzaW9uIDMuMC4yLCBodHRwOi8vbWF0cGxvdGxpYi5vcmcvOIA7rQAACcFJREFUeJzt3V+IXPUZxvHn6boh1qSN0VQ0G4ygtQahkSxBGkohCI1/MLda9KIIoaAlUsEq7Y30poGi3lgkmGBBUaQGlGCxgSSIYNWNRkm6CkFtXQxNNCZuWjQmeXuxcxE0m/nNzjn723n5fmBhJxlOHsJ+98zMLmccEQKQ03dqDwDQHgIHEiNwIDECBxIjcCAxAgcSI3AgMQIHEiNwILHz2jjoRUPnxcjwvDYO3biDS07XntCTkQsurz2hJxPHvq49odiCw5O1JxQ7fHpSk6e/dLf7tRL4yPA8/f3yK9s4dOP+8Kv/1Z7Qk02r/lx7Qk9++/LB2hOK/eSx3bUnFPv98ReK7sdDdCAxAgcSI3AgMQIHEiNwIDECBxIjcCAxAgcSI3AgMQIHEiNwIDECBxIjcCAxAgcSI3AgMQIHEisK3PY62+/bPmD7gbZHAWhG18BtD0l6TNKNklZIut32iraHAehfyRl8taQDEfFBRJyQ9Kyk9e3OAtCEksCXSvr4jNsTnT8DMMeVBH62Kzd+603FbW+wPWZ77Mipk/0vA9C3ksAnJC074/aIpE++eaeI2BwRoxExuniolYu1AuhRSeBvSrrK9hW250m6TdKL7c4C0ISup9qIOGn7HkkvSxqStDUi9re+DEDfih5LR8RLkl5qeQuAhvGbbEBiBA4kRuBAYgQOJEbgQGIEDiRG4EBiBA4kRuBAYgQOJEbgQGIEDiRG4EBiBA4kRuBAYgQOJEbgQGLtXB3xB4t16u5ftHLopn3/mq9rT+jJ6L8frT2hJ79cuLr2hGLHfn1J7QnFTm0pS5czOJAYgQOJETiQGIEDiRE4kBiBA4kROJAYgQOJETiQGIEDiRE4kBiBA4kROJAYgQOJETiQGIEDiRE4kFjXwG1vtX3I9r7ZGASgOSVn8CclrWt5B4AWdA08Il6RdGQWtgBoGM/BgcQaC9z2Bttjtsc+O/7fpg4LoA+NBR4RmyNiNCJGL1pwQVOHBdAHHqIDiZX8mOwZSa9Jutr2hO272p8FoAld3x4hIm6fjSEAmsdDdCAxAgcSI3AgMQIHEiNwIDECBxIjcCAxAgcSI3AgMQIHEiNwIDECBxIjcCAxAgcSI3AgMQIHEut6wYeZGF7wPV3205+3cejGfbjlstoTevLO+lW1J/Tk0xceqT2h2M4Pj9eeUGzo2GTR/TiDA4kROJAYgQOJETiQGIEDiRE4kBiBA4kROJAYgQOJETiQGIEDiRE4kBiBA4kROJAYgQOJETiQGIEDiXUN3PYy27tsj9veb3vjbAwD0L+SSzadlHRfRLxle6GkPbZ3RMQ/W94GoE9dz+ARcTAi3up8PilpXNLStocB6F9Pz8FtL5d0naTX2xgDoFnFgdteIOl5SfdGxBdn+fsNtsdsjx3+/PMmNwKYoaLAbQ9rKu6nI2Lb2e4TEZsjYjQiRpdceGGTGwHMUMmr6Ja0RdJ4RDzc/iQATSk5g6+RdKektbb3dj5uankXgAZ0/TFZRLwqybOwBUDD+E02IDECBxIjcCAxAgcSI3AgMQIHEiNwIDECBxIjcCAxAgcSI3AgMQIHEiNwIDECBxIjcCAxAgcSI3AgsZI3PujZ1/OH9Z8rL2nj0I3702++W3tCTza99KPaE3ryw5+tqT2h2F837ak9odiR9WXpcgYHEiNwIDECBxIjcCAxAgcSI3AgMQIHEiNwIDECBxIjcCAxAgcSI3AgMQIHEiNwIDECBxIjcCAxAgcS6xq47fm237D9ju39th+ajWEA+ldy3ZevJK2NiOO2hyW9avtvEfGPlrcB6FPXwCMiJB3v3BzufESbowA0o+g5uO0h23slHZK0IyJeb3cWgCYUBR4RpyJipaQRSattX/vN+9jeYHvM9tiRTz9reieAGejpVfSIOCppt6R1Z/m7zRExGhGjiy++qKF5APpR8ir6EtuLOp+fL+kGSe+1PQxA/0peRb9U0l9sD2nqG8JzEbG93VkAmlDyKvq7kq6bhS0AGsZvsgGJETiQGIEDiRE4kBiBA4kROJAYgQOJETiQGIEDiRE4kBiBA4kROJAYgQOJETiQGIEDiRE4kFjJFV169uXnJ7Rv20Qbh27cHxc/VXtCT+5+/EjtCT1Z8sjvak8oturxlbUnFHvz8HjR/TiDA4kROJAYgQOJETiQGIEDiRE4kBiBA4kROJAYgQOJETiQGIEDiRE4kBiBA4kROJAYgQOJETiQGIEDiRUHbnvI9tu2t7c5CEBzejmDb5RUdp0YAHNCUeC2RyTdLOmJducAaFLpGfxRSfdLOt3iFgAN6xq47VskHYqIPV3ut8H2mO2xo5NHGxsIYOZKzuBrJN1q+yNJz0paa/tb1xqOiM0RMRoRo4sWLmp4JoCZ6Bp4RDwYESMRsVzSbZJ2RsQdrS8D0Dd+Dg4k1tM7m0TEbkm7W1kCoHGcwYHECBxIjMCBxAgcSIzAgcQIHEiMwIHECBxIjMCBxAgcSIzAgcQIHEiMwIHECBxIjMCBxAgcSIzAgcQcEc0f1D4s6V8NH/ZiSZ82fMw2DdLeQdoqDdbetrZeHhFLut2plcDbYHssIkZr7yg1SHsHaas0WHtrb+UhOpAYgQOJDVLgm2sP6NEg7R2krdJg7a26dWCegwPo3SCdwQH0aCACt73O9vu2D9h+oPaec7G91fYh2/tqb+nG9jLbu2yP295ve2PtTdOxPd/2G7bf6Wx9qPamEraHbL9te3uNf3/OB257SNJjkm6UtELS7bZX1F11Tk9KWld7RKGTku6LiGskXS/p7jn8f/uVpLUR8WNJKyWts3195U0lNkoar/WPz/nAJa2WdCAiPoiIE5p6h9P1lTdNKyJekXSk9o4SEXEwIt7qfD6pqS/EpXVXnV1MOd65Odz5mNMvINkekXSzpCdqbRiEwJdK+viM2xOao1+Eg8z2cknXSXq97pLpdR7u7pV0SNKOiJizWzselXS/pNO1BgxC4D7Ln83p79yDxvYCSc9Lujcivqi9ZzoRcSoiVkoakbTa9rW1N03H9i2SDkXEnpo7BiHwCUnLzrg9IumTSlvSsT2sqbifjohttfeUiIijmnqX27n8WscaSbfa/khTTyvX2n5qtkcMQuBvSrrK9hW250m6TdKLlTelYNuStkgaj4iHa+85F9tLbC/qfH6+pBskvVd31fQi4sGIGImI5Zr6mt0ZEXfM9o45H3hEnJR0j6SXNfUi0HMRsb/uqunZfkbSa5Kutj1h+67am85hjaQ7NXV22dv5uKn2qGlcKmmX7Xc19U1/R0RU+dHTIOE32YDE5vwZHMDMETiQGIEDiRE4kBiBA4kROJAYgQOJETiQ2P8B87EL00KC+0EAAAAASUVORK5CYII\u003d\n"
          },
          "metadata": {
            "needs_background": "light"
          },
          "output_type": "display_data"
        }
      ],
      "source": "\ndef sample_path(tree : List[Node], prior : Dict[str, int], alpha : float, partial_path \u003d None):\n    if partial_path is None:\n\t    partial_path \u003d list()\n    if tree is None:\n        return partial_path, prior\n    weights \u003d np.array([prior[node[0]] + alpha for node in tree])\n    choice \u003d np.argmax(np.random.multinomial(1, weights / float(np.sum(weights))))\n    next_node \u003d tree[choice]\n    prior[next_node[0]] +\u003d 1\n    return sample_path(next_node[1], prior, alpha, partial_path + [next_node])\n\ndef sample_topic_weights_dp(path, eta):\n    weights \u003d {\u0027white\u0027: 0, \u0027red\u0027: 0, \u0027green\u0027: 0, \u0027blue\u0027: 0}\n    stick_len \u003d 1\n    for node in path[:-1]:\n        weights[node[0]] \u003d stick_len * np.random.beta(1, eta)\n        stick_len -\u003d weights[node[0]]\n    weights[path[-1][0]] \u003d stick_len\n    return weights\n\ndef sample_topic_weights_dirichlet(path, prior, alpha):\n    weights \u003d {}\n    for node in path:\n        weights[node[0]] \u003d prior[node[0]] + alpha\n    return weights\n\ndef sample_words(num_words, prior, beta):\n    keys \u003d list(prior.keys())\n    weights \u003d np.array([prior[node_name] + beta for node_name in keys])\n    words \u003d np.random.multinomial(num_words, weights / float(np.sum(weights)))\n    return {keys[i]: words[i] for i in range(len(keys))}\n\ndef generate_image(image_size, tree, alpha, beta, eta, num_words\u003d100):\n    image \u003d Image.new(\u0027RGB\u0027, (image_size, image_size), color\u003d(0,0,0))\n    pixels \u003d image.load()\n    path_prior \u003d {\u0027white\u0027: 0, \u0027red\u0027: 0, \u0027green\u0027: 0, \u0027blue\u0027: 0}\n    topic_prior \u003d {\u0027white\u0027: 0, \u0027red\u0027: 0, \u0027green\u0027: 0, \u0027blue\u0027: 0}\n    colors \u003d {\u0027white\u0027: [1,1,1], \u0027red\u0027: [1,0,0], \u0027green\u0027: [0,1,0], \u0027blue\u0027: [0,0,1]}\n    for x in range(image_size):\n        for y in range(image_size):\n            path, path_prior \u003d sample_path(tree, path_prior, alpha)\n            topic_weights \u003d sample_topic_weights_dp(path, eta)\n            words \u003d sample_words(num_words, topic_weights, beta)\n            print(words)\n            for color, count in words.items():\n                pixels[x,y] \u003d tuple(pixels[x,y][color_idx] + colors[color][color_idx] * count\n                                    for color_idx in range(3))\n            pixels[x,y] \u003d tuple(int(pixels[x,y][color_idx] * 255. / num_words)\n                                for color_idx in range(3))\n    return np.array(image, dtype\u003dnp.uint8)\n\nplt.figure(1)\nplt.imshow(generate_image(image_width, two_level_tree, alpha, beta, eta))\nplt.figure(2)\nplt.imshow(generate_image(image_width, three_level_tree, alpha, beta, eta))\nplt.figure(3)\nplt.imshow(generate_image(image_width, four_level_tree, alpha, beta, eta))",
      "metadata": {
        "pycharm": {
          "metadata": false,
          "name": "#%%\n",
          "is_executing": false
        }
      }
    },
    {
      "cell_type": "code",
      "execution_count": null,
      "outputs": [],
      "source": "",
      "metadata": {
        "pycharm": {
          "metadata": false,
          "name": "#%%\n",
          "is_executing": true
        }
      }
    },
    {
      "cell_type": "code",
      "execution_count": null,
      "outputs": [],
      "source": "\n",
      "metadata": {
        "pycharm": {
          "metadata": false,
          "name": "#%%\n"
        }
      }
    }
  ],
  "metadata": {
    "language_info": {
      "codemirror_mode": {
        "name": "ipython",
        "version": 2
      },
      "file_extension": ".py",
      "mimetype": "text/x-python",
      "name": "python",
      "nbconvert_exporter": "python",
      "pygments_lexer": "ipython2",
      "version": "2.7.6"
    },
    "kernelspec": {
      "name": "python3",
      "language": "python",
      "display_name": "Python 3"
    }
  },
  "nbformat": 4,
  "nbformat_minor": 0
}