{
 "cells": [
  {
   "cell_type": "markdown",
   "metadata": {
    "collapsed": true,
    "pycharm": {
     "name": "#%% md\n"
    }
   },
   "source": [
    "# Generating Hierarchical Data\n"
   ]
  },
  {
   "cell_type": "code",
   "execution_count": 21,
   "metadata": {
    "pycharm": {
     "is_executing": false,
     "metadata": false,
     "name": "#%%\n"
    }
   },
   "outputs": [
    {
     "data": {
      "image/png": "[encoded data removed]",
      "text/plain": [
       "<Figure size 432x288 with 5 Axes>"
      ]
     },
     "metadata": {
      "needs_background": "light"
     },
     "output_type": "display_data"
    },
    {
     "data": {
      "image/png": "[encoded data removed]",
      "text/plain": [
       "<Figure size 432x288 with 5 Axes>"
      ]
     },
     "metadata": {
      "needs_background": "light"
     },
     "output_type": "display_data"
    },
    {
     "data": {
      "image/png": "[encoded data removed]",
      "text/plain": [
       "<Figure size 432x288 with 5 Axes>"
      ]
     },
     "metadata": {
      "needs_background": "light"
     },
     "output_type": "display_data"
    }
   ],
   "source": [
    "from typing import List, Dict\n",
    "from PIL import Image\n",
    "from IPython.display import display\n",
    "from hierarchy_plotting import *\n",
    "%matplotlib inline\n",
    "\n",
    "image_width = 5\n",
    "samples_per_pixel = 100\n",
    "\n",
    "two_level_tree =\\\n",
    "[Node('white', [\n",
    "        Node('red', None),\n",
    "        Node('green', None),\n",
    "        Node('blue', None)\n",
    "    ])\n",
    "]\n",
    "\n",
    "three_level_tree =\\\n",
    "[Node('white', [\n",
    "        Node('red', [\n",
    "            Node('green', None)\n",
    "        ]),\n",
    "        Node('blue', None)\n",
    "    ])\n",
    "]\n",
    "\n",
    "four_level_tree =\\\n",
    "[Node('white', [\n",
    "        Node('red', [\n",
    "            Node('green', [\n",
    "                Node('blue', None)\n",
    "            ])\n",
    "        ])\n",
    "    ])\n",
    "]\n",
    "\n",
    "def create_color_image(color, save=None):\n",
    "    img = Image.new('RGB', (5, 5), color=color)\n",
    "    if save:\n",
    "        plt.imsave(save + '.png', np.array(img), vmin=0, vmax=255)\n",
    "    return np.array(img, dtype=np.uint8)\n",
    "\n",
    "create_color_image((255, 255, 255), 'output/white')\n",
    "create_color_image((255, 0, 0), 'output/red')\n",
    "create_color_image((0, 255, 0), 'output/green')\n",
    "create_color_image((0, 0, 255), 'output/blue')\n",
    "\n",
    "def show_tree(tree):\n",
    "    G = nx.DiGraph()\n",
    "    build_graph_from_tree(G, tree, 'output/{}.png')\n",
    "    tree_fig : plt.Figure = plt.figure()\n",
    "    plot_image_hierarchy(tree_fig, G)\n",
    "    tree_fig.savefig('output/sivic-3a-top.png')\n",
    "    tree_fig.show()\n",
    "    return tree_fig\n",
    "\n",
    "two_level_tree_fig = show_tree(two_level_tree)\n",
    "three_level_tree_fig = show_tree(three_level_tree)\n",
    "four_level_tree_fig = show_tree(four_level_tree)"
   ]
  },
  {
   "cell_type": "markdown",
   "metadata": {
    "pycharm": {
     "metadata": false,
     "name": "#%% md\n"
    }
   },
   "source": [
    "\n",
    "Now to generate images!\n"
   ]
  },
  {
   "cell_type": "code",
   "execution_count": 72,
   "metadata": {
    "pycharm": {
     "is_executing": false,
     "metadata": false,
     "name": "#%%\n"
    }
   },
   "outputs": [],
   "source": [
    "def sample_path(tree : List[Node], prior : Dict[str, int], partial_path = None, path_weights=None):\n",
    "    if partial_path is None:\n",
    "        partial_path = list()\n",
    "        path_weights = {k: 0 for k in prior.keys()}\n",
    "    if tree is None:\n",
    "        return partial_path, path_weights\n",
    "    weights = np.array([prior[node[0]] for node in tree])\n",
    "    choice = np.argmax(np.random.multinomial(1, weights / float(np.sum(weights))))\n",
    "    next_node = tree[choice]\n",
    "    path_weights[next_node[0]] = prior[next_node[0]]\n",
    "    return sample_path(next_node[1], prior, partial_path + [next_node], path_weights)\n",
    "\n",
    "def sample_path_weights_dp(path, eta):\n",
    "    weights = {'white': 0, 'red': 0, 'green': 0, 'blue': 0}\n",
    "    stick_len = 1\n",
    "    for node in path[:-1]:\n",
    "        weights[node[0]] = stick_len * np.random.beta(1, eta)\n",
    "        stick_len -= weights[node[0]]\n",
    "    weights[path[-1][0]] = stick_len\n",
    "    return weights\n",
    "\n",
    "def sample_topic_weights_dirichlet(topic_names, alpha):\n",
    "    weights = np.random.dirichlet([alpha] * len(topic_names))\n",
    "    return {name: weights[i] for i, name in enumerate(topic_names)}\n",
    "\n",
    "def sample_words(num_words, prior, beta):\n",
    "    keys = list(prior.keys())\n",
    "    weights = np.array([prior[node_name] + beta for node_name in keys])\n",
    "    words = np.random.multinomial(num_words, weights / float(np.sum(weights)))\n",
    "    return {keys[i]: words[i] for i in range(len(keys))}\n",
    "\n",
    "def generate_image(image_size, tree, alpha, beta, eta, num_words=100):\n",
    "    image = Image.new('RGB', (image_size, image_size), color=(0,0,0))\n",
    "    pixels = image.load()\n",
    "    path_prior = {'white': 0, 'red': 0, 'green': 0, 'blue': 0}\n",
    "    topic_weights = sample_topic_weights_dirichlet(list(path_prior.keys()), alpha)\n",
    "    colors = {'white': [1,1,1], 'red': [1,0,0], 'green': [0,1,0], 'blue': [0,0,1]}\n",
    "    for x in range(image_size):\n",
    "        for y in range(image_size):\n",
    "            path, path_weights = sample_path(tree, topic_weights)\n",
    "            # path_weights = sample_path_weights_dirichlet(path, topic_weights, alpha)\n",
    "            words = sample_words(num_words, path_weights, beta)\n",
    "            # print(words)\n",
    "            for color, count in words.items():\n",
    "                pixels[x,y] = tuple(pixels[x,y][color_idx] + colors[color][color_idx] * count\n",
    "                                    for color_idx in range(3))\n",
    "            pixels[x,y] = tuple(int(pixels[x,y][color_idx] * 255. / num_words)\n",
    "                                for color_idx in range(3))\n",
    "    return np.array(image, dtype=np.uint8), topic_weights\n",
    "\n",
    "def plot_topic_histogram(topic_weights):\n",
    "    topics = sorted(list(topic_weights.keys()))\n",
    "    y_pos = np.arange(len(topics))\n",
    "    weight = [topic_weights[topic] for topic in topics]\n",
    "\n",
    "    for i, topic in enumerate(topics):\n",
    "        plt.bar(y_pos[i], weight[i], align='center', alpha=1, color=topic, edgecolor=\"k\")\n",
    "    plt.xticks(y_pos, topics)\n",
    "    plt.show()"
   ]
  },
  {
   "cell_type": "code",
   "execution_count": 93,
   "metadata": {},
   "outputs": [],
   "source": [
    "alpha = 1E0\n",
    "beta = 0.01\n",
    "eta = 1 # GEM alpha parameter - controls distribution along path"
   ]
  },
  {
   "cell_type": "code",
   "execution_count": 95,
   "metadata": {},
   "outputs": [
    {
     "data": {
      "image/png": "[encoded data removed]",
      "text/plain": [
       "<Figure size 432x288 with 5 Axes>"
      ]
     },
     "metadata": {},
     "output_type": "display_data"
    },
    {
     "data": {
      "image/png": "[encoded data removed]",
      "text/plain": [
       "<Figure size 432x288 with 1 Axes>"
      ]
     },
     "metadata": {
      "needs_background": "light"
     },
     "output_type": "display_data"
    },
    {
     "data": {
      "text/plain": [
       "<matplotlib.image.AxesImage at 0x7f43525d6898>"
      ]
     },
     "execution_count": 95,
     "metadata": {},
     "output_type": "execute_result"
    },
    {
     "data": {
      "image/png": "[encoded data removed]",
      "text/plain": [
       "<Figure size 432x288 with 1 Axes>"
      ]
     },
     "metadata": {
      "needs_background": "light"
     },
     "output_type": "display_data"
    }
   ],
   "source": [
    "img, topic_weights = generate_image(image_width, two_level_tree, alpha, beta, eta)\n",
    "\n",
    "display(two_level_tree_fig)\n",
    "plot_topic_histogram(topic_weights)\n",
    "plt.figure(1)\n",
    "plt.imshow(img)"
   ]
  },
  {
   "cell_type": "code",
   "execution_count": 97,
   "metadata": {
    "pycharm": {
     "is_executing": false,
     "metadata": false,
     "name": "#%%\n"
    }
   },
   "outputs": [
    {
     "data": {
      "image/png": "[encoded data removed]",
      "text/plain": [
       "<Figure size 432x288 with 5 Axes>"
      ]
     },
     "metadata": {},
     "output_type": "display_data"
    },
    {
     "data": {
      "image/png": "[encoded data removed]",
      "text/plain": [
       "<Figure size 432x288 with 1 Axes>"
      ]
     },
     "metadata": {
      "needs_background": "light"
     },
     "output_type": "display_data"
    },
    {
     "data": {
      "text/plain": [
       "<matplotlib.image.AxesImage at 0x7f4352447e48>"
      ]
     },
     "execution_count": 97,
     "metadata": {},
     "output_type": "execute_result"
    },
    {
     "data": {
      "image/png": "[encoded data removed]",
      "text/plain": [
       "<Figure size 432x288 with 1 Axes>"
      ]
     },
     "metadata": {
      "needs_background": "light"
     },
     "output_type": "display_data"
    }
   ],
   "source": [
    "img, topic_weights = generate_image(image_width, three_level_tree, alpha, beta, eta)\n",
    "\n",
    "display(three_level_tree_fig)\n",
    "plot_topic_histogram(topic_weights)\n",
    "plt.figure(2)\n",
    "plt.imshow(img)"
   ]
  },
  {
   "cell_type": "code",
   "execution_count": 100,
   "metadata": {
    "pycharm": {
     "metadata": false,
     "name": "#%%\n"
    }
   },
   "outputs": [
    {
     "data": {
      "image/png": "[encoded data removed]",
      "text/plain": [
       "<Figure size 432x288 with 5 Axes>"
      ]
     },
     "metadata": {},
     "output_type": "display_data"
    },
    {
     "data": {
      "image/png": "[encoded data removed]",
      "text/plain": [
       "<Figure size 432x288 with 1 Axes>"
      ]
     },
     "metadata": {
      "needs_background": "light"
     },
     "output_type": "display_data"
    },
    {
     "data": {
      "text/plain": [
       "<matplotlib.image.AxesImage at 0x7f435226d080>"
      ]
     },
     "execution_count": 100,
     "metadata": {},
     "output_type": "execute_result"
    },
    {
     "data": {
      "image/png": "[encoded data removed]",
      "text/plain": [
       "<Figure size 432x288 with 1 Axes>"
      ]
     },
     "metadata": {
      "needs_background": "light"
     },
     "output_type": "display_data"
    }
   ],
   "source": [
    "img, topic_weights = generate_image(image_width, four_level_tree, alpha, beta, eta)\n",
    "\n",
    "display(four_level_tree_fig)\n",
    "plot_topic_histogram(topic_weights)\n",
    "plt.figure(3)\n",
    "plt.imshow(img)"
   ]
  },
  {
   "cell_type": "code",
   "execution_count": null,
   "metadata": {},
   "outputs": [],
   "source": []
  }
 ],
 "metadata": {
  "kernelspec": {
   "display_name": "Python 3",
   "language": "python",
   "name": "python3"
  },
  "language_info": {
   "codemirror_mode": {
    "name": "ipython",
    "version": 3
   },
   "file_extension": ".py",
   "mimetype": "text/x-python",
   "name": "python",
   "nbconvert_exporter": "python",
   "pygments_lexer": "ipython3",
   "version": "3.6.8"
  }
 },
 "nbformat": 4,
 "nbformat_minor": 1
}
