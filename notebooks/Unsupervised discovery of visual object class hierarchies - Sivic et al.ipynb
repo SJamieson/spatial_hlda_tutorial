{
  "cells": [
    {
      "cell_type": "markdown",
      "metadata": {
        "collapsed": true,
        "pycharm": {
          "name": "#%% md\n"
        }
      },
      "source": [
        "## \"Unsupervised discovery of visual object class hierarchies\"\n",
        "Sivic, J., Russell, B. C., Zisserman, A., Freeman, W. T., \u0026 Efros, A. A. (2008). Unsupervised discovery of visual object class hierarchies. 2008 IEEE Conference on Computer Vision and Pattern Recognition, 1–8. https://doi.org/10.1109/CVPR.2008.4587622\n",
        "\n",
        "Make sure to run the following cell so that the dependencies are loaded!"
      ]
    },
    {
      "cell_type": "code",
      "execution_count": 78,
      "metadata": {
        "pycharm": {
          "is_executing": false,
          "metadata": false,
          "name": "#%%\n"
        }
      },
      "outputs": [],
      "source": "!pip install -q matplotlib pillow networkx pygraphviz\nimport networkx as nx\nfrom matplotlib import pyplot as plt\nimport numpy as np\nfrom PIL import Image\nfrom notebooks.hierarchy_plotting import *\nimport os\nos.chdir(os.getcwd() + \u0027/notebooks\u0027)\n%matplotlib inline"
    },
    {
      "cell_type": "markdown",
      "metadata": {
        "pycharm": {
          "metadata": false
        }
      },
      "source": "First, let\u0027s try to recreate figure #3 from the title reference (Sivic et al., 2008). The figure is the following:\n\n![Sivic et al. 2008 Figure #3](figures/sivic_fig3.png)\n\nSo, the first thing we need to be able to do is generate our training set data, which will be composed of \u0027word\u0027 observations. To do so, we use the generative model for hLDA presented in the paper:\n\n![Sivic et al. 2008 hLDA Graphical Model](figures/hlda_graphical_model.png)\n\nTo generate the visual words $\\{w_i\\}_{i\u003d1}^N$, we need to first generate:\n1. A set distributions of topics over words: $\\{\\beta_i\\}_{i\u003d1}^K$\n1. A tree structure $T$ with depth $L$ containing $K$ topics\n2. A path $\\mathbf{c}$ of length $L$ through the tree for each image (document)\n1. A topic distribution $\\theta$ over the topics in the path for every image (document)\n\nIn Figure #3 of the Sivic paper, the $\\beta$ distributions and $T$ are fixed, and we will replicate the same structure. Let\u0027s begin by representing the $\\beta$ distributions, which show the word distribution of each topic."
    },
    {
      "cell_type": "code",
      "execution_count": 79,
      "metadata": {
        "pycharm": {
          "is_executing": false,
          "name": "#%%\n"
        }
      },
      "outputs": [],
      "source": [
        "def create_band(x\u003dNone, y\u003dNone, save\u003dNone):\n",
        "    img \u003d Image.new(\u0027L\u0027, (5, 5), color\u003d255)\n",
        "    pix \u003d img.load()\n",
        "    if x is not None:\n",
        "        for i in range(img.height):\n",
        "            pix[x, i] \u003d 0\n",
        "    if y is not None:\n",
        "        for i in range(img.width):\n",
        "            pix[i, y] \u003d 0\n",
        "    if save:\n",
        "        plt.imsave(save + \u0027.png\u0027, np.array(img), cmap\u003d\u0027gray\u0027, vmin\u003d0, vmax\u003d255)\n",
        "    return img"
      ]
    },
    {
      "cell_type": "markdown",
      "metadata": {
        "pycharm": {
          "metadata": false,
          "name": "#%% md\n"
        }
      },
      "source": [
        "\n",
        "The `create_band()` function allows us to create an image of a single band, which will represent a topic. For example, to create a vertical band at x\u003d1, we do the following:\n"
      ]
    },
    {
      "cell_type": "code",
      "execution_count": 80,
      "metadata": {
        "pycharm": {
          "is_executing": false,
          "metadata": false,
          "name": "#%%\n"
        }
      },
      "outputs": [
        {
          "data": {
            "text/plain": "\u003cmatplotlib.image.AxesImage at 0x7f5ba295d9e8\u003e"
          },
          "metadata": {},
          "output_type": "execute_result",
          "execution_count": 80
        },
        {
          "data": {
            "text/plain": "\u003cFigure size 432x288 with 1 Axes\u003e",
            "image/png": "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\u003d\n"
          },
          "metadata": {
            "needs_background": "light"
          },
          "output_type": "display_data"
        }
      ],
      "source": "z1 \u003d create_band(x\u003d1, save\u003d\u0027figures/z1\u0027)\nplt.imshow(z1)"
    },
    {
      "cell_type": "markdown",
      "metadata": {
        "pycharm": {
          "metadata": false,
          "name": "#%% md\n"
        }
      },
      "source": [
        "Let\u0027s enumerate the bands used in the hierarchy from Figure #3:"
      ]
    },
    {
      "cell_type": "code",
      "execution_count": 81,
      "metadata": {
        "pycharm": {
          "is_executing": false,
          "metadata": false,
          "name": "#%%\n"
        }
      },
      "outputs": [],
      "source": "z2 \u003d create_band(y\u003d1, save\u003d\u0027figures/z2\u0027)\nz3 \u003d create_band(x\u003d3, save\u003d\u0027figures/z3\u0027)\nz4 \u003d create_band(y\u003d0, save\u003d\u0027figures/z4\u0027)\nz5 \u003d create_band(x\u003d4, save\u003d\u0027figures/z5\u0027) \nz6 \u003d create_band(y\u003d2, save\u003d\u0027figures/z6\u0027)\nz7 \u003d create_band(x\u003d0, save\u003d\u0027figures/z7\u0027)\nz8 \u003d create_band(y\u003d3, save\u003d\u0027figures/z8\u0027)"
    },
    {
      "cell_type": "markdown",
      "metadata": {
        "pycharm": {
          "metadata": false,
          "name": "#%% md\n"
        }
      },
      "source": [
        "To visualize them, it would help to have the tree structure. For that, let\u0027s recreate the tree from Figure #3 using the `networkx` package:\n"
      ]
    },
    {
      "cell_type": "code",
      "execution_count": 83,
      "metadata": {
        "pycharm": {
          "is_executing": false,
          "metadata": false,
          "name": "#%%\n"
        }
      },
      "outputs": [
        {
          "name": "stderr",
          "text": [
            "/home/stewart/anaconda3/envs/stats/lib/python3.6/site-packages/matplotlib/figure.py:445: UserWarning: Matplotlib is currently using module://ipykernel.pylab.backend_inline, which is a non-GUI backend, so cannot show the figure.\n  % get_backend())\n"
          ],
          "output_type": "stream"
        },
        {
          "data": {
            "text/plain": "\u003cFigure size 432x288 with 9 Axes\u003e",
            "image/png": "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\u003d\u003d\n"
          },
          "metadata": {
            "needs_background": "light"
          },
          "output_type": "display_data"
        }
      ],
      "source": "G \u003d nx.DiGraph()\nG.add_node(1, image\u003d\u0027figures/z1.png\u0027)\nG.add_node(2, image\u003d\u0027figures/z2.png\u0027)\nG.add_node(3, image\u003d\u0027figures/z3.png\u0027)\nG.add_node(4, image\u003d\u0027figures/z4.png\u0027)\nG.add_node(5, image\u003d\u0027figures/z5.png\u0027)\nG.add_node(6, image\u003d\u0027figures/z6.png\u0027)\nG.add_node(7, image\u003d\u0027figures/z7.png\u0027)\nG.add_node(8, image\u003d\u0027figures/z8.png\u0027)\n\nG.add_edge(1, 2)\nG.add_edge(1, 3)\nG.add_edge(2, 4)\nG.add_edge(2, 5)\nG.add_edge(3, 6)\nG.add_edge(3, 7)\nG.add_edge(3, 8)\n\nfig : plt.Figure \u003d plt.figure()\nplot_image_hierarchy(fig, G)\nfig.show()"
    },
    {
      "cell_type": "markdown",
      "metadata": {
        "pycharm": {
          "metadata": false,
          "name": "#%% md\n"
        }
      },
      "source": "\n"
    }
  ],
  "metadata": {
    "kernelspec": {
      "display_name": "Python 3",
      "language": "python",
      "name": "python3"
    },
    "language_info": {
      "codemirror_mode": {
        "name": "ipython",
        "version": 3
      },
      "file_extension": ".py",
      "mimetype": "text/x-python",
      "name": "python",
      "nbconvert_exporter": "python",
      "pygments_lexer": "ipython3",
      "version": "3.6.8"
    }
  },
  "nbformat": 4,
  "nbformat_minor": 1
}