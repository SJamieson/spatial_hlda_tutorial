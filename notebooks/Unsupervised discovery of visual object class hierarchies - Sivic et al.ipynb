{
  "cells": [
    {
      "cell_type": "markdown",
      "metadata": {
        "collapsed": true,
        "pycharm": {
          "name": "#%% md\n"
        }
      },
      "source": [
        "# Replicating \"Unsupervised discovery of visual object class hierarchies\" (Sivic et al., 2018)\n",
        "#### By: Stewart Jamieson\n",
        "Paper citation: Sivic, J., Russell, B. C., Zisserman, A., Freeman, W. T., \u0026 Efros, A. A. (2008). Unsupervised discovery of visual object class hierarchies. 2008 IEEE Conference on Computer Vision and Pattern Recognition, 1–8. https://doi.org/10.1109/CVPR.2008.4587622\n",
        "\n",
        "Make sure to run the following cell so that the dependencies are loaded!"
      ]
    },
    {
      "cell_type": "code",
      "execution_count": 2,
      "metadata": {
        "pycharm": {
          "is_executing": false,
          "metadata": false,
          "name": "#%%\n"
        }
      },
      "outputs": [],
      "source": "!pip install -q matplotlib pillow networkx pygraphviz hlda\nimport os\nimport networkx as nx\nfrom matplotlib import pyplot as plt\n%matplotlib inline\nimport numpy as np\nfrom PIL import Image\nimport sys\nsys.path.append(os.getcwd())\nfrom notebooks.hierarchy_plotting import *\nfrom IPython.display import display\nfrom hlda.sampler import HierarchicalLDA, NCRPNode\ntry:\n    os.chdir(os.getcwd() + \u0027/notebooks\u0027)\nexcept:\n    pass\nimport pickle\nimport gzip\n\ndef save_zipped_pickle(obj, filename, protocol\u003d-1):\n    with gzip.open(filename, \u0027wb\u0027) as f:\n        pickle.dump(obj, f, protocol)\n        \ndef load_zipped_pickle(filename):\n    with gzip.open(filename, \u0027rb\u0027) as f:\n        loaded_object \u003d pickle.load(f)\n        return loaded_object"
    },
    {
      "cell_type": "markdown",
      "metadata": {
        "pycharm": {
          "metadata": false
        }
      },
      "source": [
        "\n",
        "## The Generative Model\n",
        "First, let\u0027s try to recreate figure #3(a) from the title reference (Sivic et al., 2008). The figure is the following:\n",
        "\n",
        "![Sivic et al. 2008 Figure #3](figures/sivic_fig3.png)\n",
        "\n",
        "So, the first thing we need to be able to do is generate our training set data, which will be composed of \u0027word\u0027 observations. To do so, we use the generative model for hLDA presented in the paper:\n",
        "\n",
        "![Sivic et al. 2008 hLDA Graphical Model](figures/hlda_graphical_model.png)\n",
        "\n",
        "To generate the visual words $\\{w_i\\}_{i\u003d1}^N$, we need to first generate:\n",
        "1. A set distributions of topics over words: $\\{\\beta_i\\}_{i\u003d1}^K$\n",
        "1. A tree structure $T$ with depth $L$ containing $K$ topics\n",
        "2. A path $\\mathbf{c}$ of length $L$ through the tree for each image (document)\n",
        "1. A topic distribution $\\theta$ over the topics in the path for every image (document)\n",
        "\n",
        "In Figure #3 of the Sivic paper, the $\\beta$ distributions and $T$ are fixed, and we will replicate the same structure. Let\u0027s begin by representing the $\\beta$ distributions, which show the word distribution of each topic."
      ]
    },
    {
      "cell_type": "code",
      "execution_count": 3,
      "metadata": {
        "pycharm": {
          "is_executing": false,
          "name": "#%%\n"
        }
      },
      "outputs": [],
      "source": [
        "def create_band(x\u003dNone, y\u003dNone, save\u003dNone):\n",
        "    img \u003d Image.new(\u0027L\u0027, (5, 5), color\u003d255)\n",
        "    pix \u003d img.load()\n",
        "    if x is not None:\n",
        "        for i in range(img.height):\n",
        "            pix[x, i] \u003d 0\n",
        "    if y is not None:\n",
        "        for i in range(img.width):\n",
        "            pix[i, y] \u003d 0\n",
        "    if save:\n",
        "        plt.imsave(save + \u0027.png\u0027, np.array(img), cmap\u003d\u0027gray\u0027, vmin\u003d0, vmax\u003d255)\n",
        "    return np.array(img, dtype\u003dnp.uint8)"
      ]
    },
    {
      "cell_type": "markdown",
      "metadata": {
        "pycharm": {
          "metadata": false,
          "name": "#%% md\n"
        }
      },
      "source": [
        "\n",
        "The `create_band()` function allows us to create an image of a single band, which will represent a topic. For example, to create a vertical band at x\u003d1, we do the following:\n"
      ]
    },
    {
      "cell_type": "code",
      "execution_count": 4,
      "metadata": {
        "pycharm": {
          "is_executing": false,
          "metadata": false,
          "name": "#%%\n"
        }
      },
      "outputs": [
        {
          "data": {
            "text/plain": "\u003cmatplotlib.image.AxesImage at 0x7f3e3565f208\u003e"
          },
          "metadata": {},
          "output_type": "execute_result",
          "execution_count": 4
        },
        {
          "data": {
            "text/plain": "\u003cFigure size 432x288 with 1 Axes\u003e",
            "image/png": "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\u003d\n"
          },
          "metadata": {
            "needs_background": "light"
          },
          "output_type": "display_data"
        }
      ],
      "source": "topic \u003d {}\ntopic[1] \u003d create_band(x\u003d1, save\u003d\u0027output/z1\u0027)\nplt.imshow(Image.fromarray(topic[1]))"
    },
    {
      "cell_type": "markdown",
      "metadata": {
        "pycharm": {
          "metadata": false,
          "name": "#%% md\n"
        }
      },
      "source": [
        "Let\u0027s enumerate the bands used in the hierarchy from Figure #3:"
      ]
    },
    {
      "cell_type": "code",
      "execution_count": 5,
      "metadata": {
        "pycharm": {
          "is_executing": false,
          "metadata": false,
          "name": "#%%\n"
        }
      },
      "outputs": [],
      "source": "topic[2] \u003d create_band(y\u003d1, save\u003d\u0027output/z2\u0027)\ntopic[3] \u003d create_band(x\u003d3, save\u003d\u0027output/z3\u0027)\ntopic[4] \u003d create_band(y\u003d0, save\u003d\u0027output/z4\u0027)\ntopic[5] \u003d create_band(x\u003d4, save\u003d\u0027output/z5\u0027) \ntopic[6] \u003d create_band(y\u003d2, save\u003d\u0027output/z6\u0027)\ntopic[7] \u003d create_band(x\u003d0, save\u003d\u0027output/z7\u0027)\ntopic[8] \u003d create_band(y\u003d3, save\u003d\u0027output/z8\u0027)"
    },
    {
      "cell_type": "markdown",
      "metadata": {
        "pycharm": {
          "metadata": false,
          "name": "#%% md\n"
        }
      },
      "source": [
        "To visualize them, it would help to have the tree structure. For that, let\u0027s recreate the tree from Figure #3:\n"
      ]
    },
    {
      "cell_type": "code",
      "execution_count": 6,
      "metadata": {
        "pycharm": {
          "is_executing": false,
          "metadata": false,
          "name": "#%%\n"
        }
      },
      "outputs": [],
      "source": "class Node:\n    def __init__(self, name, children):\n        self.name \u003d name\n        self.children \u003d children\n        \n    def __getitem__(self, item):\n        if item \u003d\u003d 0:\n            return self.name\n        elif item \u003d\u003d 1:\n            return self.children\n\ntree \u003d\\\n[Node(1, [\n    Node(2, [\n        Node(4, None), Node(5, None)\n    ]),\n    Node(3, [\n        Node(6, None), Node(7, None), Node(8, None)\n    ])\n])]"
    },
    {
      "cell_type": "markdown",
      "metadata": {
        "pycharm": {
          "metadata": false,
          "name": "#%% md\n"
        }
      },
      "source": [
        "The next step is to plot the tree, which we can do using the `networkx` package:"
      ]
    },
    {
      "cell_type": "code",
      "execution_count": 7,
      "metadata": {
        "pycharm": {
          "is_executing": false,
          "metadata": false,
          "name": "#%%\n"
        }
      },
      "outputs": [
        {
          "name": "stderr",
          "text": [
            "/home/stewart/anaconda3/envs/stats/lib/python3.6/site-packages/matplotlib/figure.py:445: UserWarning: Matplotlib is currently using module://ipykernel.pylab.backend_inline, which is a non-GUI backend, so cannot show the figure.\n  % get_backend())\n"
          ],
          "output_type": "stream"
        },
        {
          "data": {
            "text/plain": "\u003cFigure size 432x288 with 9 Axes\u003e",
            "image/png": "iVBORw0KGgoAAAANSUhEUgAAAXoAAAECCAYAAADw0Rw8AAAABHNCSVQICAgIfAhkiAAAAAlwSFlzAAALEgAACxIB0t1+/AAAADl0RVh0U29mdHdhcmUAbWF0cGxvdGxpYiB2ZXJzaW9uIDMuMC4yLCBodHRwOi8vbWF0cGxvdGxpYi5vcmcvOIA7rQAACvVJREFUeJzt3U2IbOldx/HfY2Y0CiJx7oWYDE7hgKBgJqF6IrhRfEXGjYogg+Cssg3IGIjvIYHAuNAIisSXBBdudWdioltRukiyjG/MgIPgXIRh0ETNzOOi+pC6fd+6uqvqnPM/n8/qXqju80x13+/99enpuq33HgDq+oaxDwDAcQk9QHFCD1Cc0AMUJ/QAxQk9QHFCD1Cc0AMUJ/QAxT029gGYvlu3bvXVanXlx282mys/dr1eX+NEx7HZbO703m+PfQ44tOYlEHiUs7Ozfn5+fuXHt9au/Ngpff611ja997OxzwGH5tYNQHFCD1Cc0AMUJ/QAxQk9QHFCD1Cc0AMUJ/QAxQk9QHFCD1Cc0AMUJ/QAxQk9QHFCD1Cc0AMUJ/QAxQk9QHFCD1Cc0AMUJ/QAxQk9QHFCD1Cc0AMUJ/QAxQk9QHFCD1Cc0AMUJ/QAxQk9QHFCD1Cc0AMUJ/QAxQk9QHFCD1Cc0AMUJ/QAxQk9QHFCD1Cc0AMUJ/QAxQk9QHFCD1Cc0AMUJ/QAxQk9QHFCD1Cc0AMUJ/QAxQk9QHFCD1Cc0AMUJ/QAxQk9QHFCD1Cc0AMUJ/QAxbXe+9hnYOJaa68leeVY7z7J9yX5pyRf2ePtnkzyrUn+McmbBzrLU7332wd6XzAZQs+oWmsfTPJDvfef3vPtWpKXkvxIkh/tvf/nMc4HFQg9o2mtfXOSf0nyXO/9C9d4e7GHK3CPnjF9IMnfXyfySdK3K+VDSf4myedba99+yMNBFRY9o7jpmr/0vix7eAiLnrHcaM3vsuzh4Sx6Tu6Qa/7S+7Xs4T4sesZwsDW/y7KH+7PoOaljrflL17DsYYdFz6kdZc3vsuzhbhY9J3OKNX/pepY9xKLntI6+5ndZ9rBl0XMSp17zl65t2bNoFj2nctI1v8uyZ+kseo5uzDV/6RyWPYtk0XMKo635XZY9S2XRc1RTWfO7LHuWxqLn2Cax5ndZ9iyNRc/RTHHN77LsWQqLnmOa3JrfZdmzFBY9RzH1Nb/Lsqc6i55jmfSa32XZU51Fz8HNac3vsuypyqLnGGaz5ndZ9lRl0XNQc13zuyx7qrHoObRZrvldlj3VWPQcTIU1v8uypwqLnkOa/ZrfZdlThUXPQVRb87sse+bOoudQSq35XZY9c2fRc2OV1/wuy565sug5hLJrfpdlz1xZ9BN269atvlqtxj7GUb388su5c+dOG/sc+xiW/RNPPPHiVD4+m83myo9dr9dXfuwcPz7c67GxD8CDrVarnJ+fj32Mozo7Oxv7CHvrvffW2odWq9WLU/n4bP/uuZp9zjzHjw/3cusGrqH7UpgZEXqA4oQeoDihByhO6AGKE3qA4oQeoDihByhO6AGK85OxE7bZbPb6iUeA+7HoAYoTeoDihB6gOKEHKE7oAYoTeoDihB6gOKEHKE7oAYoTeoDivATChK3Xa/84OHBjFj1AcUIPUJzQAxQn9ADFCT1AcUIPUJzQAxQn9ADFCT1AcUIPUJzQAxQn9ADFCT1AcUIPUJzQAxQn9ADFCT1AcUIPUJzQAxQn9ADFCT1AcUIPUJzQAxQn9ADFCT3wUK21x8c+Azcj9MCj/ENr7ZmxD8H1CT3wKJ9I8rnW2m+21r5x7MOwP6EHHqr3/ukk70vy/mzX/XvHPRH7EnrgkXrvryb5qSS/m+Svrft5EXrgSvrWp2Pdz47QA3ux7udH6IG9WffzIvTAtVn38yD0E9Va+66xzwBXYd1PX+u9j30GLrmI/N8meSLJl0946fcl+VKSt054zad677dPeL2Daa29luSVPd/s6SRvJPmPw5/ogb43yatJXr/G2+718WmttSS/mOSlJL+f5OO99/+9xnU5IKGfmJ3Iv9R7/4MTX/uNJO/qvb9xyusuxcVPl34mydO99/8+4XV/NsmHkzzbT/QHvrX27iSfTPLuJC/03r94iutyf27dTMiYkeckfiPJb58y8hf+IsnjSZ471QXdu58WoZ8Ika/tYs3/QJI/PPW1e+9vJflIkt+6uLVyquu6dz8RQj8BIr8IY635wV/mxKt+YN2PT+hHJvL1jbnmB2Ot+p3rW/cjEvoRifxijL3mB6Ot+oF1Pw6hH4nIL8MU1vxg7FW/cw7r/sSEfgQivyhTWfOD0Vf9wLo/HaE/MZFfjimt+cFUVv3Oeaz7ExD6ExL5xZnamh9MZtUPrPvjEvoTEfllmeKaH0xt1Q+s++MR+hMQ+UWa6pofTG7VD6z7wxP6IxP55Znymh9MddUPHrDunxn3VPMl9Eck8os19TU/mOyqH1xa95+7WPePj3ys2RH6IxH5ZZrDmh9MfdUPrPubE/ojEPlFm8uaH0x+1Q921v0nYt3vRegPTOSXa05rfjCXVT+w7q9H6A9I5Bdvbmt+MJtVP7Du9yP0ByLyyzbHNT+Y26ofWPdXJ/QHIPJkvmt+MLtVP7DuH03ob0jkmfOaH8x11Q+s+4cT+hsQeS7Mfc0PZrvqB9b9/Qn9NYk8SY01P5j7qh9Y9/cS+msQeXZUWfOD2a/6gXX/dUK/J5FnUGnND6qs+sGldf/9Wei6F/o9VI18a+351tovZ7vkPtha+8DYZ5qJamt+UGbVDy7W/XNJfi/J55e27lvvfewzzELVyCdJa+0LSd6T7V/8bya503t/57inmqbW2k8m+fUkf5rko0meLhj6tNZ+JsmvJfnzJM8nebb3/ua4pzqM1tqTST6Z5DuSvNB7/9LIRzo6i/4KKkf+woeTfOXi119N8qsjnmXqvjPJs9nervlatrcDSmmtfUuSp5M8k+RjSd6b5G2jHuqAeu//loWte6F/gNbap1prP7GAyCfJZ5O8fPHr/0ryZ+MdZRa+lm34nkzymdbat418nkP7hSQvZduHb0pS7sv+i3v3n8pC7t0L/X1cfGn3fLb3Kv8utSOfvr1/9+LFbz/Se/+/Mc8zA49nG/tXk7y/9/76yOc5tD9K8kv5+ld5ZS1l3Qv9/f1ckreSvD3JO5L867jHOYnPJvmTJH889kEm7l3Zrvm/SvI9Fe/vXqzd30nyg0leT/FOPGjdt9be3lr7Ymvtx0c+4o35Zux9tNa+nOS7L377P9l+sr+ze7IWr7X2Y0l+OMmvLOHzobX2jmy/H/HzC/nvbUleyPbW1T8nOUvy79l+0322X+lOJvSttWkc5Mh671f+f5Nv3brVV6vVEU9zHJvNZq/HL+E52ddms7nTe799lcfu+2dnvV5f71Aj2+c58Xlyt8dOcRiuZ7Va5fz8fOxj7O2YP2cz1+dkX621V471vuf6/O3znPg8uVvpe28ACD1AeUIPUJzQAxQn9ADFCT1AcUIPUJzQAxQn9ADFTeYnY9frdfmfZDs7Oxv7CMACWfQAxQk9QHFCD1Cc0AMUJ/QAxQk9QHFCD1Cc0AMUJ/QAxQk9QHGTeQkEuIrNZnPUf3wcKrLoAYoTeoDihB6gOKEHKE7oAYoTeoDihB6gOKEHKE7oAYoTeoDihB6gOK91w6ys1+ucn5+PfYyj83o+N+M1ke5m0QMUJ/QAxQk9QHFCD1Cc0AMUJ/QAxQk9QHFCD1Cc0AMUJ/QAxXkJBKAcL5VxN4seoDihByhO6AGKE3qA4oQeoDihByhO6AGKE3qA4oQeoDihByhO6AGKa733sc+QJGmtvZbklbHPcWRP9d5vX/XBnpN7LeQ5SfZ4Xjwn9/Kc3G0yoQfgONy6AShO6AGKE3qA4oQeoDihByhO6AGKE3qA4oQeoDihByju/wFFT/0bPaEI4gAAAABJRU5ErkJggg\u003d\u003d\n"
          },
          "metadata": {
            "needs_background": "light"
          },
          "output_type": "display_data"
        }
      ],
      "source": "def build_graph_from_tree(G, level, image_pattern):\n    for node in level:\n        G.add_node(node[0], image\u003dimage_pattern.format(node[0]))\n        if node[1] is not None:\n            build_graph_from_tree(G, node[1], image_pattern)\n            for child in node[1]:\n                G.add_edge(node[0], child[0])\n\nG \u003d nx.DiGraph()\nbuild_graph_from_tree(G, tree, \u0027output/z{}.png\u0027)\ntree_fig : plt.Figure \u003d plt.figure()\nplot_image_hierarchy(tree_fig, G)\ntree_fig.savefig(\u0027output/sivic-3a-top.png\u0027)\ntree_fig.show()"
    },
    {
      "cell_type": "markdown",
      "metadata": {
        "pycharm": {
          "metadata": false,
          "name": "#%% md\n"
        }
      },
      "source": [
        "Now let\u0027s go ahead and sample an image from each path of the tree. As in the paper, we are going to use topic proportions sampled from a Dirichlet prior with $\\alpha \u003d [50, 30, 10]$. This means that the words will be drawn more often from the root node, less often from the middle node and even less often from the leaf node of the path. Also, since each $\\alpha_i \\gg 1$, each image will contain a mix of words from all topics."
      ]
    },
    {
      "cell_type": "code",
      "execution_count": 8,
      "metadata": {
        "pycharm": {
          "is_executing": false,
          "metadata": false,
          "name": "#%%\n"
        }
      },
      "outputs": [
        {
          "name": "stdout",
          "text": [
            "theta \u003d [0.58945315 0.29023936 0.12030749]\n"
          ],
          "output_type": "stream"
        }
      ],
      "source": [
        "alpha \u003d np.array([50, 30, 10])\n",
        "theta \u003d np.random.dirichlet(alpha)\n",
        "print(\u0027theta \u003d\u0027, theta)"
      ]
    },
    {
      "cell_type": "markdown",
      "metadata": {
        "pycharm": {
          "metadata": false,
          "name": "#%% md\n"
        }
      },
      "source": [
        "Now all that\u0027s left to do is to enumerate all the paths through the tree and generate the word distribution of each document using its topic distribution:"
      ]
    },
    {
      "cell_type": "code",
      "execution_count": 9,
      "metadata": {
        "pycharm": {
          "is_executing": false,
          "metadata": false,
          "name": "#%%\n"
        }
      },
      "outputs": [
        {
          "data": {
            "text/plain": "\u003cFigure size 432x288 with 5 Axes\u003e",
            "image/png": "[encoded data removed]"
          },
          "metadata": {},
          "output_type": "display_data"
        }
      ],
      "source": "def all_paths(root):\n    paths \u003d []\n    base_path \u003d [root[0]]\n    if root[1] is None:\n        return [base_path]\n    \n    for child in root[1]:\n        child_paths \u003d all_paths(child)\n        paths.extend([(base_path + child_path) for child_path in child_paths])\n    return paths\n\nunique_paths \u003d all_paths(tree[0])\nword_dists \u003d []\n\ndef get_word_dist(topics, path, alpha):\n    theta \u003d np.random.dirichlet(alpha)\n    weighted_components \u003d [(topic[z] * theta[i]) for i, z in enumerate(path)]\n    return np.sum(weighted_components, axis\u003d0)\n\n# display(tree_fig)\nfig \u003d plt.figure()\nfor i, path in enumerate(unique_paths):\n    fig.add_subplot(1, len(unique_paths), i+1)\n    word_dists.append(get_word_dist(topic, path, alpha))\n    plt.imshow(Image.fromarray(word_dists[-1]))\n    plt.title(f\u0027{path}\u0027)\n    plt.gca().set_xticks([])\n    plt.gca().set_yticks([])\n\nfig.show()"
    },
    {
      "cell_type": "markdown",
      "metadata": {
        "pycharm": {
          "metadata": false,
          "name": "#%% md\n"
        }
      },
      "source": [
        "\n",
        "We can tell that our our word distributions are good because they already resemble the sample images from Figure 3. Now all that\u0027s left to do is to sample documents from them. To do so, we will treat the pixel intensities as the weights of a categorical distribution:\n"
      ]
    },
    {
      "cell_type": "code",
      "execution_count": 10,
      "metadata": {
        "pycharm": {
          "is_executing": false,
          "metadata": false,
          "name": "#%%\n"
        }
      },
      "outputs": [
        {
          "data": {
            "text/plain": "\u003cFigure size 432x288 with 9 Axes\u003e",
            "image/png": "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\u003d\u003d\n"
          },
          "metadata": {},
          "output_type": "display_data"
        },
        {
          "data": {
            "text/plain": "\u003cFigure size 360x72 with 5 Axes\u003e",
            "image/png": "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\u003d\u003d\n"
          },
          "metadata": {},
          "output_type": "display_data"
        }
      ],
      "source": "n_words \u003d 250\n\ndef sample_document(word_dist, n_words\u003dn_words):\n    flat_word_dist \u003d 255 - word_dist.reshape(-1)\n    doc_words \u003d np.random.multinomial(n_words, flat_word_dist / np.sum(flat_word_dist))\n    doc_image \u003d 255 - (doc_words.reshape(word_dist.shape).astype(np.uint8) * (255 / np.max(doc_words)))\n    return doc_image, doc_words\n\ndisplay(tree_fig)\nfig :plt.Figure \u003d plt.figure(figsize\u003d(5,1))\nfor i, path in enumerate(unique_paths):\n    fig.add_subplot(1, len(unique_paths), i+1)\n    \n    sample_doc \u003d sample_document(word_dists[i])[0]\n    plt.imshow(Image.fromarray(sample_doc))\n    plt.title(f\u0027{path}\u0027)\n    plt.gca().set_xticks([])\n    plt.gca().set_yticks([])\n\nfig.tight_layout()\nfig.savefig(\u0027output/sivic-3a-bottom.png\u0027)\nfig.show()"
    },
    {
      "cell_type": "markdown",
      "metadata": {
        "pycharm": {
          "metadata": false,
          "name": "#%% md\n"
        }
      },
      "source": [
        "So, we can tell that our generative process works since the figure closely matches 3(a) from the paper:\n",
        "\n",
        "![Sivic et al. 2008 Figure #3](figures/sivic_fig3_small.png)\n"
      ]
    },
    {
      "cell_type": "markdown",
      "metadata": {
        "pycharm": {
          "metadata": false,
          "name": "#%% md\n"
        }
      },
      "source": [
        "## Inference on the Model\n",
        "\n",
        "Now that we can sample documents from arbitrary word distributions, let\u0027s generate a larger corpus of documents to use for inference. To do so, we\u0027ll need to randomly sample paths from the tree.\n",
        "\n",
        "For now, we will assume that at each branch the decision is made uniformly over the available choices:"
      ]
    },
    {
      "cell_type": "code",
      "execution_count": 11,
      "metadata": {
        "pycharm": {
          "is_executing": false,
          "metadata": false,
          "name": "#%%\n"
        }
      },
      "outputs": [
        {
          "data": {
            "text/plain": "\u003cFigure size 432x288 with 6 Axes\u003e",
            "image/png": "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\u003d\u003d\n"
          },
          "metadata": {},
          "output_type": "display_data"
        }
      ],
      "source": "n_documents \u003d 100\n\ndef sample_path(unique_paths):\n    child \u003d np.random.choice(len(unique_paths))\n    return unique_paths[child]\n\nrandom_paths \u003d [sample_path(unique_paths) for _ in range(n_documents)]\nword_dists \u003d [get_word_dist(topic, path, alpha) for path in random_paths]\ncorpus \u003d [sample_document(word_dist) for word_dist in word_dists]\n\nfig \u003d plt.figure()\nnum_plots \u003d 6\nfor i in range(num_plots):\n    fig.add_subplot(1, num_plots, i+1)\n    plt.imshow(Image.fromarray(corpus[i][0]))\n    plt.title(f\u0027{random_paths[i]}\u0027)\n    plt.gca().set_xticks([])\n    plt.gca().set_yticks([])"
    },
    {
      "cell_type": "markdown",
      "metadata": {
        "pycharm": {
          "metadata": false,
          "name": "#%% md\n"
        }
      },
      "source": "Now that we have a corpus, we perform inference using Gibbs sampling. This requires picking some hyperparameters and putting our corpus into a standard format."
    },
    {
      "cell_type": "code",
      "execution_count": 12,
      "metadata": {
        "pycharm": {
          "is_executing": false,
          "metadata": false,
          "name": "#%%\n"
        }
      },
      "outputs": [],
      "source": "word_corpus \u003d []\ncorpus_filename \u003d \u0027output/corpus.txt\u0027\nwith open(corpus_filename, \u0027w\u0027) as corpus_file:\n    for document in corpus:\n        words \u003d []\n        word_counts \u003d document[1]\n        nonzero_counts \u003d [(i, count) for i, count in enumerate(word_counts) if count \u003e 0]\n        corpus_file.write(str(len(nonzero_counts)) + \u0027 \u0027)\n        for id, count in nonzero_counts:\n            corpus_file.write(str(id) + \u0027:\u0027 + str(count) + \u0027 \u0027)\n        corpus_file.write(\u0027\\n\u0027)\n        for i in range(word_counts.size):\n            words +\u003d [i] * word_counts[i]\n        word_corpus.append(words)\nvocab \u003d list(range(25))\n\nn_samples \u003d 11000       # no of iterations for the sampler\nalpha \u003d 30.0          # smoothing over level ddddistributions\ngamma \u003d 0.3           # CRP smoothing parameter; number of imaginary customers at next, as yet unused table\neta \u003d 0.1             # smoothing over topic-word distributions\nnum_levels \u003d 3        # the number of levels in the tree\ndisplay_topics \u003d 100  # the number of iterations between printing a brief summary of the topics so far\nn_words \u003d 5           # the number of most probable words to print for each topic after model estimation\nwith_weights \u003d False  # whether to print the words with the weights"
    },
    {
      "cell_type": "markdown",
      "source": "\nAll that is left to do is to run the sampler and visualize the results:\n",
      "metadata": {
        "pycharm": {
          "metadata": false,
          "name": "#%% md\n"
        }
      }
    },
    {
      "cell_type": "code",
      "execution_count": 13,
      "outputs": [
        {
          "name": "stdout",
          "text": [
            "HierarchicalLDA sampling\n.",
            ".",
            ".",
            ".",
            ".",
            ".",
            ".",
            ".",
            ".",
            ".",
            ".",
            ".",
            ".",
            ".",
            ".",
            ".",
            ".",
            ".",
            ".",
            ".",
            "."
          ],
          "output_type": "stream"
        },
        {
          "traceback": [
            "\u001b[0;31m---------------------------------------------------------------------------\u001b[0m",
            "\u001b[0;31mKeyboardInterrupt\u001b[0m                         Traceback (most recent call last)",
            "\u001b[0;32m\u003cipython-input-13-19b4ec539a87\u003e\u001b[0m in \u001b[0;36m\u003cmodule\u003e\u001b[0;34m\u001b[0m\n\u001b[1;32m      6\u001b[0m \u001b[0;32mexcept\u001b[0m\u001b[0;34m:\u001b[0m\u001b[0;34m\u001b[0m\u001b[0;34m\u001b[0m\u001b[0m\n\u001b[1;32m      7\u001b[0m     \u001b[0mhlda\u001b[0m \u001b[0;34m\u003d\u001b[0m \u001b[0mHierarchicalLDA\u001b[0m\u001b[0;34m(\u001b[0m\u001b[0mword_corpus\u001b[0m\u001b[0;34m,\u001b[0m \u001b[0mvocab\u001b[0m\u001b[0;34m,\u001b[0m \u001b[0malpha\u001b[0m\u001b[0;34m\u003d\u001b[0m\u001b[0malpha\u001b[0m\u001b[0;34m,\u001b[0m \u001b[0mgamma\u001b[0m\u001b[0;34m\u003d\u001b[0m\u001b[0mgamma\u001b[0m\u001b[0;34m,\u001b[0m \u001b[0meta\u001b[0m\u001b[0;34m\u003d\u001b[0m\u001b[0meta\u001b[0m\u001b[0;34m,\u001b[0m \u001b[0mnum_levels\u001b[0m\u001b[0;34m\u003d\u001b[0m\u001b[0mnum_levels\u001b[0m\u001b[0;34m)\u001b[0m\u001b[0;34m\u001b[0m\u001b[0;34m\u001b[0m\u001b[0m\n\u001b[0;32m----\u003e 8\u001b[0;31m \u001b[0mhlda\u001b[0m\u001b[0;34m.\u001b[0m\u001b[0mestimate\u001b[0m\u001b[0;34m(\u001b[0m\u001b[0mn_samples\u001b[0m\u001b[0;34m,\u001b[0m \u001b[0mdisplay_topics\u001b[0m\u001b[0;34m\u003d\u001b[0m\u001b[0mdisplay_topics\u001b[0m\u001b[0;34m,\u001b[0m \u001b[0mn_words\u001b[0m\u001b[0;34m\u003d\u001b[0m\u001b[0mn_words\u001b[0m\u001b[0;34m,\u001b[0m \u001b[0mwith_weights\u001b[0m\u001b[0;34m\u003d\u001b[0m\u001b[0mwith_weights\u001b[0m\u001b[0;34m)\u001b[0m\u001b[0;34m\u001b[0m\u001b[0;34m\u001b[0m\u001b[0m\n\u001b[0m",
            "\u001b[0;32m~/anaconda3/envs/stats/lib/python3.6/site-packages/hlda/sampler.py\u001b[0m in \u001b[0;36mestimate\u001b[0;34m(self, num_samples, display_topics, n_words, with_weights)\u001b[0m\n\u001b[1;32m    196\u001b[0m \u001b[0;34m\u001b[0m\u001b[0m\n\u001b[1;32m    197\u001b[0m             \u001b[0;32mfor\u001b[0m \u001b[0md\u001b[0m \u001b[0;32min\u001b[0m \u001b[0mrange\u001b[0m\u001b[0;34m(\u001b[0m\u001b[0mlen\u001b[0m\u001b[0;34m(\u001b[0m\u001b[0mself\u001b[0m\u001b[0;34m.\u001b[0m\u001b[0mcorpus\u001b[0m\u001b[0;34m)\u001b[0m\u001b[0;34m)\u001b[0m\u001b[0;34m:\u001b[0m\u001b[0;34m\u001b[0m\u001b[0;34m\u001b[0m\u001b[0m\n\u001b[0;32m--\u003e 198\u001b[0;31m                 \u001b[0mself\u001b[0m\u001b[0;34m.\u001b[0m\u001b[0msample_topics\u001b[0m\u001b[0;34m(\u001b[0m\u001b[0md\u001b[0m\u001b[0;34m)\u001b[0m\u001b[0;34m\u001b[0m\u001b[0;34m\u001b[0m\u001b[0m\n\u001b[0m\u001b[1;32m    199\u001b[0m \u001b[0;34m\u001b[0m\u001b[0m\n\u001b[1;32m    200\u001b[0m             \u001b[0;32mif\u001b[0m \u001b[0;34m(\u001b[0m\u001b[0ms\u001b[0m \u001b[0;34m\u003e\u001b[0m \u001b[0;36m0\u001b[0m\u001b[0;34m)\u001b[0m \u001b[0;32mand\u001b[0m \u001b[0;34m(\u001b[0m\u001b[0;34m(\u001b[0m\u001b[0ms\u001b[0m\u001b[0;34m+\u001b[0m\u001b[0;36m1\u001b[0m\u001b[0;34m)\u001b[0m \u001b[0;34m%\u001b[0m \u001b[0mdisplay_topics\u001b[0m \u001b[0;34m\u003d\u003d\u001b[0m \u001b[0;36m0\u001b[0m\u001b[0;34m)\u001b[0m\u001b[0;34m:\u001b[0m\u001b[0;34m\u001b[0m\u001b[0;34m\u001b[0m\u001b[0m\n",
            "\u001b[0;32m~/anaconda3/envs/stats/lib/python3.6/site-packages/hlda/sampler.py\u001b[0m in \u001b[0;36msample_topics\u001b[0;34m(self, d)\u001b[0m\n\u001b[1;32m    366\u001b[0m             \u001b[0;32mfor\u001b[0m \u001b[0mlevel\u001b[0m \u001b[0;32min\u001b[0m \u001b[0mrange\u001b[0m\u001b[0;34m(\u001b[0m\u001b[0mself\u001b[0m\u001b[0;34m.\u001b[0m\u001b[0mnum_levels\u001b[0m\u001b[0;34m)\u001b[0m\u001b[0;34m:\u001b[0m\u001b[0;34m\u001b[0m\u001b[0;34m\u001b[0m\u001b[0m\n\u001b[1;32m    367\u001b[0m                 \u001b[0mlevel_weights\u001b[0m\u001b[0;34m[\u001b[0m\u001b[0mlevel\u001b[0m\u001b[0;34m]\u001b[0m \u001b[0;34m\u003d\u001b[0m \u001b[0;34m(\u001b[0m\u001b[0mself\u001b[0m\u001b[0;34m.\u001b[0m\u001b[0malpha\u001b[0m \u001b[0;34m+\u001b[0m \u001b[0mlevel_counts\u001b[0m\u001b[0;34m[\u001b[0m\u001b[0mlevel\u001b[0m\u001b[0;34m]\u001b[0m\u001b[0;34m)\u001b[0m \u001b[0;34m*\u001b[0m\u001b[0;31m \u001b[0m\u001b[0;31m \u001b[0m\u001b[0;31m \u001b[0m\u001b[0;31m \u001b[0m\u001b[0;31m \u001b[0m\u001b[0;31m \u001b[0m\u001b[0;31m \u001b[0m\u001b[0;31m \u001b[0m\u001b[0;31m \u001b[0m\u001b[0;31m \u001b[0m\u001b[0;31m \u001b[0m\u001b[0;31m \u001b[0m\u001b[0;31m \u001b[0m\u001b[0;31m \u001b[0m\u001b[0;31m \u001b[0m\u001b[0;31m \u001b[0m\u001b[0;31m \u001b[0m\u001b[0;31m \u001b[0m\u001b[0;31m \u001b[0m\u001b[0;31m \u001b[0m\u001b[0;31m \u001b[0m\u001b[0;31m\\\u001b[0m\u001b[0;34m\u001b[0m\u001b[0;34m\u001b[0m\u001b[0m\n\u001b[0;32m--\u003e 368\u001b[0;31m                     \u001b[0;34m(\u001b[0m\u001b[0mself\u001b[0m\u001b[0;34m.\u001b[0m\u001b[0meta\u001b[0m \u001b[0;34m+\u001b[0m \u001b[0mpath\u001b[0m\u001b[0;34m[\u001b[0m\u001b[0mlevel\u001b[0m\u001b[0;34m]\u001b[0m\u001b[0;34m.\u001b[0m\u001b[0mword_counts\u001b[0m\u001b[0;34m[\u001b[0m\u001b[0mw\u001b[0m\u001b[0;34m]\u001b[0m\u001b[0;34m)\u001b[0m \u001b[0;34m/\u001b[0m\u001b[0;31m \u001b[0m\u001b[0;31m \u001b[0m\u001b[0;31m \u001b[0m\u001b[0;31m \u001b[0m\u001b[0;31m \u001b[0m\u001b[0;31m \u001b[0m\u001b[0;31m \u001b[0m\u001b[0;31m \u001b[0m\u001b[0;31m \u001b[0m\u001b[0;31m \u001b[0m\u001b[0;31m \u001b[0m\u001b[0;31m \u001b[0m\u001b[0;31m \u001b[0m\u001b[0;31m \u001b[0m\u001b[0;31m \u001b[0m\u001b[0;31m \u001b[0m\u001b[0;31m \u001b[0m\u001b[0;31m \u001b[0m\u001b[0;31m \u001b[0m\u001b[0;31m \u001b[0m\u001b[0;31m \u001b[0m\u001b[0;31m \u001b[0m\u001b[0;31m \u001b[0m\u001b[0;31m \u001b[0m\u001b[0;31m \u001b[0m\u001b[0;31m \u001b[0m\u001b[0;31m \u001b[0m\u001b[0;31m \u001b[0m\u001b[0;31m \u001b[0m\u001b[0;31m \u001b[0m\u001b[0;31m \u001b[0m\u001b[0;31m \u001b[0m\u001b[0;31m \u001b[0m\u001b[0;31m \u001b[0m\u001b[0;31m \u001b[0m\u001b[0;31m\\\u001b[0m\u001b[0;34m\u001b[0m\u001b[0;34m\u001b[0m\u001b[0m\n\u001b[0m\u001b[1;32m    369\u001b[0m                     \u001b[0;34m(\u001b[0m\u001b[0mself\u001b[0m\u001b[0;34m.\u001b[0m\u001b[0meta_sum\u001b[0m \u001b[0;34m+\u001b[0m \u001b[0mpath\u001b[0m\u001b[0;34m[\u001b[0m\u001b[0mlevel\u001b[0m\u001b[0;34m]\u001b[0m\u001b[0;34m.\u001b[0m\u001b[0mtotal_words\u001b[0m\u001b[0;34m)\u001b[0m\u001b[0;34m\u001b[0m\u001b[0;34m\u001b[0m\u001b[0m\n\u001b[1;32m    370\u001b[0m             \u001b[0mlevel_weights\u001b[0m \u001b[0;34m\u003d\u001b[0m \u001b[0mlevel_weights\u001b[0m \u001b[0;34m/\u001b[0m \u001b[0mnp\u001b[0m\u001b[0;34m.\u001b[0m\u001b[0msum\u001b[0m\u001b[0;34m(\u001b[0m\u001b[0mlevel_weights\u001b[0m\u001b[0;34m)\u001b[0m\u001b[0;34m\u001b[0m\u001b[0;34m\u001b[0m\u001b[0m\n",
            "\u001b[0;31mKeyboardInterrupt\u001b[0m: "
          ],
          "ename": "KeyboardInterrupt",
          "evalue": "",
          "output_type": "error"
        }
      ],
      "source": "# Run inference:\nmodel_id \u003d 2\ntry:\n    hlda \u003d load_zipped_pickle(f\u0027hlda_{model_id}.p\u0027)\n    print(\u0027Found saved model! Continuing...\u0027)\nexcept:\n    hlda \u003d HierarchicalLDA(word_corpus, vocab, alpha\u003dalpha, gamma\u003dgamma, eta\u003deta, num_levels\u003dnum_levels)\nhlda.estimate(n_samples, display_topics\u003ddisplay_topics, n_words\u003dn_words, with_weights\u003dwith_weights)",
      "metadata": {
        "pycharm": {
          "metadata": false,
          "name": "#%%\n",
          "is_executing": false
        }
      }
    },
    {
      "cell_type": "code",
      "execution_count": 15,
      "outputs": [
        {
          "data": {
            "text/plain": "\u003cFigure size 432x288 with 9 Axes\u003e",
            "image/png": "[encoded data removed]"
          },
          "metadata": {
            "needs_background": "light"
          },
          "output_type": "display_data"
        }
      ],
      "source": "# Visualize results:\ndef word_counts_to_image(word_counts, save\u003dNone):\n    image \u003d word_counts.reshape((5,5))\n    image.reshape((5,5))\n    if np.max(image) \u003d\u003d 0:\n        image \u003d (255 - image).astype(np.uint8)\n    else:\n        image \u003d (255 - image * (255 / np.max(image))).astype(np.uint8)\n    if save is not None:\n        plt.imsave(save + \u0027.png\u0027, image, cmap\u003d\u0027gray\u0027, vmin\u003d0, vmax\u003d255)\n    return image\n\ndef build_tree_from_hlda(node : NCRPNode, topics \u003d None):\n    if topics is None:\n        topics \u003d {}\n    topics[node.node_id] \u003d word_counts_to_image(node.word_counts, save\u003df\u0027output/inference-z{node.node_id}\u0027)\n    if node.children is not None:\n        children \u003d []\n        for child in node.children:\n            child_node, topics \u003d build_tree_from_hlda(child, topics\u003dtopics)\n            children.append(child_node)\n    else:\n        children \u003d None\n    return Node(node.node_id, children), topics\n\ndef build_tree_from_file(filename : str, output_dir : str):\n    topics \u003d {}\n    nodes \u003d {}\n    root \u003d None\n    with open(filename, \u0027r\u0027) as tree_file:\n        for line in tree_file:\n            tokens \u003d line.split(\u0027 \u0027)\n            topic_id \u003d tokens[0]\n            if root is None:\n                root \u003d topic_id\n            if topic_id not in nodes:\n                nodes[topic_id] \u003d []\n            words \u003d np.ndarray((25,))\n            for token in tokens[1:-1]:\n                if \u0027:\u0027 not in token:\n                    nodes[topic_id].append(token)\n                else:\n                    word, count \u003d token.split(\u0027:\u0027)\n                    words[int(word)] \u003d int(count)\n            topics[topic_id] \u003d word_counts_to_image(words, save\u003doutput_dir + f\u0027/inference-z{topic_id}\u0027)\n    def get_node(node):\n        children \u003d [] if len(nodes[node]) \u003e 0 else None\n        for child in nodes[node]:\n            children.append(get_node(child))\n        return Node(node, children)\n    return get_node(root), topics\n    \n# tree, topics \u003d build_tree_from_hlda(hlda.root_node)\ntree, topics \u003d build_tree_from_file(\u0027output/model1555423889.txt\u0027, \u0027figures\u0027)\n\nG \u003d nx.DiGraph()\nbuild_graph_from_tree(G, [tree], \u0027figures/inference-z{}.png\u0027)\nresult_fig : plt.Figure \u003d plt.figure()\nplot_image_hierarchy(result_fig, G)\nresult_fig.show()",
      "metadata": {
        "pycharm": {
          "metadata": false,
          "name": "#%%\n",
          "is_executing": false
        }
      }
    },
    {
      "cell_type": "markdown",
      "source": "\nIt looks pretty good when compared to the paper reference (below)!\n\n![Sivic et al. 2008 Figure #3](figures/sivic_fig3_small.png)\n\nSince it is very slow to converge, it is good to save the result and model:\n",
      "metadata": {
        "pycharm": {
          "metadata": false,
          "name": "#%% md\n"
        }
      }
    },
    {
      "cell_type": "code",
      "execution_count": 46,
      "outputs": [],
      "source": "result_fig.savefig(f\u0027output/sivic-3b-{model_id}.png\u0027)\nsave_zipped_pickle(hlda, f\u0027hlda_{model_id}.p\u0027)\nimport scipy.ndimage\nscipy.ndimage.filters.gaussian_filter(RiskField, sigma\u003dsigma)",
      "metadata": {
        "pycharm": {
          "metadata": false,
          "name": "#%%\n",
          "is_executing": false
        }
      }
    },
    {
      "cell_type": "code",
      "execution_count": null,
      "outputs": [],
      "source": "\n",
      "metadata": {
        "pycharm": {
          "metadata": false,
          "name": "#%%\n"
        }
      }
    }
  ],
  "metadata": {
    "kernelspec": {
      "display_name": "Python 3",
      "language": "python",
      "name": "python3"
    },
    "language_info": {
      "codemirror_mode": {
        "name": "ipython",
        "version": 3
      },
      "file_extension": ".py",
      "mimetype": "text/x-python",
      "name": "python",
      "nbconvert_exporter": "python",
      "pygments_lexer": "ipython3",
      "version": "3.6.8"
    }
  },
  "nbformat": 4,
  "nbformat_minor": 1
}