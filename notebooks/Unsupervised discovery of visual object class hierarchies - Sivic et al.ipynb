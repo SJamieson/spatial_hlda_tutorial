{
  "cells": [
    {
      "cell_type": "markdown",
      "metadata": {
        "collapsed": true,
        "pycharm": {
          "name": "#%% md\n"
        }
      },
      "source": [
        "# Replicating \"Unsupervised discovery of visual object class hierarchies\" (Sivic et al., 2018)\n",
        "#### By: Stewart Jamieson\n",
        "Paper citation: Sivic, J., Russell, B. C., Zisserman, A., Freeman, W. T., \u0026 Efros, A. A. (2008). Unsupervised discovery of visual object class hierarchies. 2008 IEEE Conference on Computer Vision and Pattern Recognition, 1–8. https://doi.org/10.1109/CVPR.2008.4587622\n",
        "\n",
        "Make sure to run the following cell so that the dependencies are loaded!"
      ]
    },
    {
      "cell_type": "code",
      "execution_count": 17,
      "metadata": {
        "pycharm": {
          "is_executing": false,
          "metadata": false,
          "name": "#%%\n"
        }
      },
      "outputs": [],
      "source": "!pip install -q matplotlib pillow networkx pygraphviz hlda\nimport os\nimport networkx as nx\nfrom matplotlib import pyplot as plt\n%matplotlib inline\nimport numpy as np\nfrom PIL import Image\nimport sys\nsys.path.append(os.getcwd())\nfrom notebooks.hierarchy_plotting import *\nfrom IPython.display import display\nfrom hlda.sampler import HierarchicalLDA, NCRPNode\ntry:\n    os.chdir(os.getcwd() + \u0027/notebooks\u0027)\nexcept:\n    pass\nimport pickle\nimport gzip\n\ndef save_zipped_pickle(obj, filename, protocol\u003d-1):\n    with gzip.open(filename, \u0027wb\u0027) as f:\n        pickle.dump(obj, f, protocol)\n        \ndef load_zipped_pickle(filename):\n    with gzip.open(filename, \u0027rb\u0027) as f:\n        loaded_object \u003d pickle.load(f)\n        return loaded_object"
    },
    {
      "cell_type": "markdown",
      "metadata": {
        "pycharm": {
          "metadata": false
        }
      },
      "source": [
        "\n",
        "## The Generative Model\n",
        "First, let\u0027s try to recreate figure #3(a) from the title reference (Sivic et al., 2008). The figure is the following:\n",
        "\n",
        "![Sivic et al. 2008 Figure #3](figures/sivic_fig3.png)\n",
        "\n",
        "So, the first thing we need to be able to do is generate our training set data, which will be composed of \u0027word\u0027 observations. To do so, we use the generative model for hLDA presented in the paper:\n",
        "\n",
        "![Sivic et al. 2008 hLDA Graphical Model](figures/hlda_graphical_model.png)\n",
        "\n",
        "To generate the visual words $\\{w_i\\}_{i\u003d1}^N$, we need to first generate:\n",
        "1. A set distributions of topics over words: $\\{\\beta_i\\}_{i\u003d1}^K$\n",
        "1. A tree structure $T$ with depth $L$ containing $K$ topics\n",
        "2. A path $\\mathbf{c}$ of length $L$ through the tree for each image (document)\n",
        "1. A topic distribution $\\theta$ over the topics in the path for every image (document)\n",
        "\n",
        "In Figure #3 of the Sivic paper, the $\\beta$ distributions and $T$ are fixed, and we will replicate the same structure. Let\u0027s begin by representing the $\\beta$ distributions, which show the word distribution of each topic."
      ]
    },
    {
      "cell_type": "code",
      "execution_count": 18,
      "metadata": {
        "pycharm": {
          "is_executing": false,
          "name": "#%%\n"
        }
      },
      "outputs": [],
      "source": [
        "def create_band(x\u003dNone, y\u003dNone, save\u003dNone):\n",
        "    img \u003d Image.new(\u0027L\u0027, (5, 5), color\u003d255)\n",
        "    pix \u003d img.load()\n",
        "    if x is not None:\n",
        "        for i in range(img.height):\n",
        "            pix[x, i] \u003d 0\n",
        "    if y is not None:\n",
        "        for i in range(img.width):\n",
        "            pix[i, y] \u003d 0\n",
        "    if save:\n",
        "        plt.imsave(save + \u0027.png\u0027, np.array(img), cmap\u003d\u0027gray\u0027, vmin\u003d0, vmax\u003d255)\n",
        "    return np.array(img, dtype\u003dnp.uint8)"
      ]
    },
    {
      "cell_type": "markdown",
      "metadata": {
        "pycharm": {
          "metadata": false,
          "name": "#%% md\n"
        }
      },
      "source": [
        "\n",
        "The `create_band()` function allows us to create an image of a single band, which will represent a topic. For example, to create a vertical band at x\u003d1, we do the following:\n"
      ]
    },
    {
      "cell_type": "code",
      "execution_count": 19,
      "metadata": {
        "pycharm": {
          "is_executing": false,
          "metadata": false,
          "name": "#%%\n"
        }
      },
      "outputs": [
        {
          "data": {
            "text/plain": "\u003cmatplotlib.image.AxesImage at 0x7f627b34eb70\u003e"
          },
          "metadata": {},
          "output_type": "execute_result",
          "execution_count": 19
        },
        {
          "data": {
            "text/plain": "\u003cFigure size 432x288 with 1 Axes\u003e",
            "image/png": "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\u003d\n"
          },
          "metadata": {
            "needs_background": "light"
          },
          "output_type": "display_data"
        }
      ],
      "source": "topic \u003d {}\ntopic[1] \u003d create_band(x\u003d1, save\u003d\u0027output/z1\u0027)\nplt.imshow(Image.fromarray(topic[1]))"
    },
    {
      "cell_type": "markdown",
      "metadata": {
        "pycharm": {
          "metadata": false,
          "name": "#%% md\n"
        }
      },
      "source": [
        "Let\u0027s enumerate the bands used in the hierarchy from Figure #3:"
      ]
    },
    {
      "cell_type": "code",
      "execution_count": 20,
      "metadata": {
        "pycharm": {
          "is_executing": false,
          "metadata": false,
          "name": "#%%\n"
        }
      },
      "outputs": [],
      "source": "topic[2] \u003d create_band(y\u003d1, save\u003d\u0027output/z2\u0027)\ntopic[3] \u003d create_band(x\u003d3, save\u003d\u0027output/z3\u0027)\ntopic[4] \u003d create_band(y\u003d0, save\u003d\u0027output/z4\u0027)\ntopic[5] \u003d create_band(x\u003d4, save\u003d\u0027output/z5\u0027) \ntopic[6] \u003d create_band(y\u003d2, save\u003d\u0027output/z6\u0027)\ntopic[7] \u003d create_band(x\u003d0, save\u003d\u0027output/z7\u0027)\ntopic[8] \u003d create_band(y\u003d3, save\u003d\u0027output/z8\u0027)"
    },
    {
      "cell_type": "markdown",
      "metadata": {
        "pycharm": {
          "metadata": false,
          "name": "#%% md\n"
        }
      },
      "source": [
        "To visualize them, it would help to have the tree structure. For that, let\u0027s recreate the tree from Figure #3:\n"
      ]
    },
    {
      "cell_type": "code",
      "execution_count": 21,
      "metadata": {
        "pycharm": {
          "is_executing": false,
          "metadata": false,
          "name": "#%%\n"
        }
      },
      "outputs": [],
      "source": "class Node:\n    def __init__(self, name, children):\n        self.name \u003d name\n        self.children \u003d children\n        \n    def __getitem__(self, item):\n        if item \u003d\u003d 0:\n            return self.name\n        elif item \u003d\u003d 1:\n            return self.children\n\ntree \u003d\\\n[Node(1, [\n    Node(2, [\n        Node(4, None), Node(5, None)\n    ]),\n    Node(3, [\n        Node(6, None), Node(7, None), Node(8, None)\n    ])\n])]"
    },
    {
      "cell_type": "markdown",
      "metadata": {
        "pycharm": {
          "metadata": false,
          "name": "#%% md\n"
        }
      },
      "source": [
        "The next step is to plot the tree, which we can do using the `networkx` package:"
      ]
    },
    {
      "cell_type": "code",
      "execution_count": 22,
      "metadata": {
        "pycharm": {
          "is_executing": false,
          "metadata": false,
          "name": "#%%\n"
        }
      },
      "outputs": [
        {
          "data": {
            "text/plain": "\u003cFigure size 432x288 with 9 Axes\u003e",
            "image/png": "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\u003d\u003d\n"
          },
          "metadata": {
            "needs_background": "light"
          },
          "output_type": "display_data"
        }
      ],
      "source": "def build_graph_from_tree(G, level, image_pattern):\n    for node in level:\n        G.add_node(node[0], image\u003dimage_pattern.format(node[0]))\n        if node[1] is not None:\n            build_graph_from_tree(G, node[1], image_pattern)\n            for child in node[1]:\n                G.add_edge(node[0], child[0])\n\nG \u003d nx.DiGraph()\nbuild_graph_from_tree(G, tree, \u0027output/z{}.png\u0027)\ntree_fig : plt.Figure \u003d plt.figure()\nplot_image_hierarchy(tree_fig, G)\ntree_fig.savefig(\u0027output/sivic-3a-top.png\u0027)\ntree_fig.show()"
    },
    {
      "cell_type": "markdown",
      "metadata": {
        "pycharm": {
          "metadata": false,
          "name": "#%% md\n"
        }
      },
      "source": [
        "Now let\u0027s go ahead and sample an image from each path of the tree. As in the paper, we are going to use topic proportions sampled from a Dirichlet prior with $\\alpha \u003d [50, 30, 10]$. This means that the words will be drawn more often from the root node, less often from the middle node and even less often from the leaf node of the path. Also, since each $\\alpha_i \\gg 1$, each image will contain a mix of words from all topics."
      ]
    },
    {
      "cell_type": "code",
      "execution_count": 23,
      "metadata": {
        "pycharm": {
          "is_executing": false,
          "metadata": false,
          "name": "#%%\n"
        }
      },
      "outputs": [
        {
          "name": "stdout",
          "text": [
            "theta \u003d [0.53998489 0.34673747 0.11327764]\n"
          ],
          "output_type": "stream"
        }
      ],
      "source": [
        "alpha \u003d np.array([50, 30, 10])\n",
        "theta \u003d np.random.dirichlet(alpha)\n",
        "print(\u0027theta \u003d\u0027, theta)"
      ]
    },
    {
      "cell_type": "markdown",
      "metadata": {
        "pycharm": {
          "metadata": false,
          "name": "#%% md\n"
        }
      },
      "source": [
        "Now all that\u0027s left to do is to enumerate all the paths through the tree and generate the word distribution of each document using its topic distribution:"
      ]
    },
    {
      "cell_type": "code",
      "execution_count": 24,
      "metadata": {
        "pycharm": {
          "is_executing": false,
          "metadata": false,
          "name": "#%%\n"
        }
      },
      "outputs": [
        {
          "data": {
            "text/plain": "\u003cFigure size 432x288 with 5 Axes\u003e",
            "image/png": "[encoded data removed]"
          },
          "metadata": {},
          "output_type": "display_data"
        }
      ],
      "source": "def all_paths(root):\n    paths \u003d []\n    base_path \u003d [root[0]]\n    if root[1] is None:\n        return [base_path]\n    \n    for child in root[1]:\n        child_paths \u003d all_paths(child)\n        paths.extend([(base_path + child_path) for child_path in child_paths])\n    return paths\n\nunique_paths \u003d all_paths(tree[0])\nword_dists \u003d []\n\ndef get_word_dist(topics, path, alpha):\n    theta \u003d np.random.dirichlet(alpha)\n    weighted_components \u003d [(topic[z] * theta[i]) for i, z in enumerate(path)]\n    return np.sum(weighted_components, axis\u003d0)\n\n# display(tree_fig)\nfig \u003d plt.figure()\nfor i, path in enumerate(unique_paths):\n    fig.add_subplot(1, len(unique_paths), i+1)\n    word_dists.append(get_word_dist(topic, path, alpha))\n    plt.imshow(Image.fromarray(word_dists[-1]))\n    plt.title(f\u0027{path}\u0027)\n    plt.gca().set_xticks([])\n    plt.gca().set_yticks([])\n\nfig.show()"
    },
    {
      "cell_type": "markdown",
      "metadata": {
        "pycharm": {
          "metadata": false,
          "name": "#%% md\n"
        }
      },
      "source": [
        "\n",
        "We can tell that our our word distributions are good because they already resemble the sample images from Figure 3. Now all that\u0027s left to do is to sample documents from them. To do so, we will treat the pixel intensities as the weights of a categorical distribution:\n"
      ]
    },
    {
      "cell_type": "code",
      "execution_count": 25,
      "metadata": {
        "pycharm": {
          "is_executing": false,
          "metadata": false,
          "name": "#%%\n"
        }
      },
      "outputs": [
        {
          "data": {
            "text/plain": "\u003cFigure size 432x288 with 9 Axes\u003e",
            "image/png": "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\u003d\u003d\n"
          },
          "metadata": {},
          "output_type": "display_data"
        },
        {
          "data": {
            "text/plain": "\u003cFigure size 432x288 with 5 Axes\u003e",
            "image/png": "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\u003d\u003d\n"
          },
          "metadata": {},
          "output_type": "display_data"
        }
      ],
      "source": "n_words \u003d 250\n\ndef sample_document(word_dist):\n    flat_word_dist \u003d 255 - word_dist.reshape(-1)\n    doc_words \u003d np.random.multinomial(n_words, flat_word_dist / np.sum(flat_word_dist))\n    doc_image \u003d 255 - (doc_words.reshape(word_dist.shape).astype(np.uint8) * (255 / np.max(doc_words)))\n    return doc_image, doc_words\n\ndisplay(tree_fig)\nfig \u003d plt.figure()\nfor i, path in enumerate(unique_paths):\n    fig.add_subplot(1, len(unique_paths), i+1)\n    \n    sample_doc \u003d sample_document(word_dists[i])[0]\n    plt.imshow(Image.fromarray(sample_doc))\n    plt.title(f\u0027{path}\u0027)\n    plt.gca().set_xticks([])\n    plt.gca().set_yticks([])\n    \nfig.savefig(\u0027output/sivic-3a-bottom.png\u0027)\nfig.show()"
    },
    {
      "cell_type": "markdown",
      "metadata": {
        "pycharm": {
          "metadata": false,
          "name": "#%% md\n"
        }
      },
      "source": [
        "So, we can tell that our generative process works since the figure closely matches 3(a) from the paper:\n",
        "\n",
        "![Sivic et al. 2008 Figure #3](figures/sivic_fig3_small.png)\n"
      ]
    },
    {
      "cell_type": "markdown",
      "metadata": {
        "pycharm": {
          "metadata": false,
          "name": "#%% md\n"
        }
      },
      "source": [
        "## Inference on the Model\n",
        "\n",
        "Now that we can sample documents from arbitrary word distributions, let\u0027s generate a larger corpus of documents to use for inference. To do so, we\u0027ll need to randomly sample paths from the tree.\n",
        "\n",
        "For now, we will assume that at each branch the decision is made uniformly over the available choices:"
      ]
    },
    {
      "cell_type": "code",
      "execution_count": 26,
      "metadata": {
        "pycharm": {
          "is_executing": false,
          "metadata": false,
          "name": "#%%\n"
        }
      },
      "outputs": [
        {
          "data": {
            "text/plain": "\u003cFigure size 432x288 with 6 Axes\u003e",
            "image/png": "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\u003d\u003d\n"
          },
          "metadata": {},
          "output_type": "display_data"
        }
      ],
      "source": [
        "n_documents \u003d 100\n",
        "\n",
        "def sample_path(node):\n",
        "    path \u003d [node[0]]\n",
        "    if node[1] is not None:\n",
        "        child \u003d np.random.choice(len(node[1]))\n",
        "        path.extend(sample_path(node[1][child]))\n",
        "    return path\n",
        "\n",
        "random_paths \u003d [sample_path(tree[0]) for _ in range(n_documents)]\n",
        "word_dists \u003d [get_word_dist(topic, path, alpha) for path in random_paths]\n",
        "corpus \u003d [sample_document(word_dist) for word_dist in word_dists]\n",
        "\n",
        "fig \u003d plt.figure()\n",
        "num_plots \u003d 6\n",
        "for i in range(num_plots):\n",
        "    fig.add_subplot(1, num_plots, i+1)\n",
        "    plt.imshow(Image.fromarray(corpus[i][0]))\n",
        "    plt.title(f\u0027{random_paths[i]}\u0027)\n",
        "    plt.gca().set_xticks([])\n",
        "    plt.gca().set_yticks([])"
      ]
    },
    {
      "cell_type": "markdown",
      "metadata": {
        "pycharm": {
          "metadata": false,
          "name": "#%% md\n"
        }
      },
      "source": "Now that we have a corpus, we perform inference using Gibbs sampling. This requires picking some hyperparameters and putting our corpus into a standard format."
    },
    {
      "cell_type": "code",
      "execution_count": 27,
      "metadata": {
        "pycharm": {
          "is_executing": false,
          "metadata": false,
          "name": "#%%\n"
        }
      },
      "outputs": [],
      "source": "word_corpus \u003d []\nfor document in corpus:\n    words \u003d []\n    word_counts \u003d document[1]\n    for i in range(word_counts.size):\n        words +\u003d [i] * word_counts[i]\n    word_corpus.append(words)\nvocab \u003d list(range(word_counts.size))\n\nn_samples \u003d 11000       # no of iterations for the sampler\nalpha \u003d 30.0          # smoothing over level ddddistributions\ngamma \u003d 0.3           # CRP smoothing parameter; number of imaginary customers at next, as yet unused table\neta \u003d 0.1             # smoothing over topic-word distributions\nnum_levels \u003d 3        # the number of levels in the tree\ndisplay_topics \u003d 100  # the number of iterations between printing a brief summary of the topics so far\nn_words \u003d 5           # the number of most probable words to print for each topic after model estimation\nwith_weights \u003d False  # whether to print the words with the weights"
    },
    {
      "cell_type": "markdown",
      "source": "\nAll that is left to do is to run the sampler and visualize the results:\n",
      "metadata": {
        "pycharm": {
          "metadata": false,
          "name": "#%% md\n"
        }
      }
    },
    {
      "cell_type": "code",
      "execution_count": 14,
      "outputs": [
        {
          "name": "stdout",
          "text": [
            "Found saved model! Continuing...\nHierarchicalLDA sampling\n.",
            ".",
            ".",
            ".",
            ".",
            ".",
            ".",
            ".",
            ".",
            ".",
            ".",
            ".",
            ".",
            ".",
            ".",
            ".",
            ".",
            ".",
            ".",
            ".",
            ".",
            ".",
            ".",
            ".",
            ".",
            ".",
            ".",
            ".",
            ".",
            ".",
            ".",
            ".",
            ".",
            ".",
            ".",
            ".",
            ".",
            ".",
            ".",
            ".",
            ".",
            ".",
            ".",
            ".",
            ".",
            ".",
            ".",
            ".",
            ".",
            ".",
            ".",
            ".",
            ".",
            ".",
            ".",
            ".",
            ".",
            ".",
            ".",
            ".",
            ".",
            ".",
            ".",
            ".",
            ".",
            ".",
            ".",
            ".",
            ".",
            ".",
            ".",
            ".",
            ".",
            ".",
            ".",
            ".",
            ".",
            ".",
            ".",
            ".",
            ".",
            ".",
            ".",
            ".",
            ".",
            ".",
            ".",
            ".",
            ".",
            ".",
            ".",
            ".",
            ".",
            ".",
            ".",
            ".",
            ".",
            ".",
            ".",
            ".",
            " 100\ntopic 0 (level\u003d0, total_words\u003d8265, documents\u003d100): 16, 21, 6, 1, 11, \n    topic 1 (level\u003d1, total_words\u003d1999, documents\u003d24): 3, 13, 23, 8, 18, \n        topic 2 (level\u003d2, total_words\u003d1930, documents\u003d24): 11, 6, 1, 16, 21, \n    topic 3 (level\u003d1, total_words\u003d3608, documents\u003d43): 9, 11, 6, 5, 8, \n        topic 4 (level\u003d2, total_words\u003d3602, documents\u003d43): 6, 1, 21, 7, 8, \n    topic 5 (level\u003d1, total_words\u003d2840, documents\u003d33): 18, 23, 3, 8, 16, \n        topic 7 (level\u003d2, total_words\u003d2756, documents\u003d33): 11, 13, 6, 21, 1, \n.",
            ".",
            ".",
            ".",
            ".",
            ".",
            ".",
            ".",
            ".",
            "."
          ],
          "output_type": "stream"
        }
      ],
      "source": "# Run inference:\ntry:\n    hlda \u003d load_zipped_pickle(\u0027hlda.p\u0027)\n    print(\u0027Found saved model! Continuing...\u0027)\nexcept:\n    hlda \u003d HierarchicalLDA(word_corpus, vocab, alpha\u003dalpha, gamma\u003dgamma, eta\u003deta, num_levels\u003dnum_levels)\nhlda.estimate(n_samples, display_topics\u003ddisplay_topics, n_words\u003dn_words, with_weights\u003dwith_weights)",
      "metadata": {
        "pycharm": {
          "metadata": false,
          "name": "#%%\n",
          "is_executing": false
        }
      }
    },
    {
      "cell_type": "code",
      "execution_count": 28,
      "outputs": [
        {
          "data": {
            "text/plain": "\u003cFigure size 432x288 with 8 Axes\u003e",
            "image/png": "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\u003d\n"
          },
          "metadata": {
            "needs_background": "light"
          },
          "output_type": "display_data"
        }
      ],
      "source": "# Visualize results:\ndef word_counts_to_image(word_counts, save\u003dNone):\n    image \u003d word_counts.reshape((5,5))\n    image.reshape((5,5))\n    image \u003d (255 - image * (255 / np.max(image))).astype(np.uint8)\n    if save is not None:\n        plt.imsave(save + \u0027.png\u0027, image, cmap\u003d\u0027gray\u0027, vmin\u003d0, vmax\u003d255)\n    return image\n\ndef build_tree_from_hlda(node : NCRPNode, topics \u003d None):\n    if topics is None:\n        topics \u003d {}\n    topics[node.node_id] \u003d word_counts_to_image(node.word_counts, save\u003df\u0027output/inference-z{node.node_id}\u0027)\n    if node.children is not None:\n        children \u003d []\n        for child in node.children:\n            child_node, topics \u003d build_tree_from_hlda(child, topics\u003dtopics)\n            children.append(child_node)\n    else:\n        children \u003d None\n    return Node(node.node_id, children), topics\n    \ntree, topics \u003d build_tree_from_hlda(hlda.root_node)\n\nG \u003d nx.DiGraph()\nbuild_graph_from_tree(G, [tree], \u0027output/inference-z{}.png\u0027)\nresult_fig : plt.Figure \u003d plt.figure()\nplot_image_hierarchy(result_fig, G)\nresult_fig.show()",
      "metadata": {
        "pycharm": {
          "metadata": false,
          "name": "#%%\n",
          "is_executing": false
        }
      }
    },
    {
      "cell_type": "markdown",
      "source": "Since it is very slow to converge, it is good to save the result and model:\n",
      "metadata": {
        "pycharm": {
          "metadata": false,
          "name": "#%% md\n"
        }
      }
    },
    {
      "cell_type": "code",
      "execution_count": 16,
      "outputs": [],
      "source": "result_fig.savefig(\u0027output/sivic-3b.png\u0027)\nsave_zipped_pickle(hlda, \u0027hlda.p\u0027)",
      "metadata": {
        "pycharm": {
          "metadata": false,
          "name": "#%%\n",
          "is_executing": false
        }
      }
    },
    {
      "cell_type": "code",
      "execution_count": null,
      "outputs": [],
      "source": "\n",
      "metadata": {
        "pycharm": {
          "metadata": false,
          "name": "#%%\n"
        }
      }
    }
  ],
  "metadata": {
    "kernelspec": {
      "display_name": "Python 3",
      "language": "python",
      "name": "python3"
    },
    "language_info": {
      "codemirror_mode": {
        "name": "ipython",
        "version": 3
      },
      "file_extension": ".py",
      "mimetype": "text/x-python",
      "name": "python",
      "nbconvert_exporter": "python",
      "pygments_lexer": "ipython3",
      "version": "3.6.8"
    }
  },
  "nbformat": 4,
  "nbformat_minor": 1
}