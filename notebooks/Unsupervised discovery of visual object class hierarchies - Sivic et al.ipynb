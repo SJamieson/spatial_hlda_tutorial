{
  "cells": [
    {
      "cell_type": "markdown",
      "metadata": {
        "collapsed": true,
        "pycharm": {
          "name": "#%% md\n"
        }
      },
      "source": [
        "# Replicating \"Unsupervised discovery of visual object class hierarchies\" (Sivic et al., 2018)\n",
        "#### By: Stewart Jamieson\n",
        "Paper citation: Sivic, J., Russell, B. C., Zisserman, A., Freeman, W. T., \u0026 Efros, A. A. (2008). Unsupervised discovery of visual object class hierarchies. 2008 IEEE Conference on Computer Vision and Pattern Recognition, 1–8. https://doi.org/10.1109/CVPR.2008.4587622\n",
        "\n",
        "Make sure to run the following cell so that the dependencies are loaded!"
      ]
    },
    {
      "cell_type": "code",
      "execution_count": 2,
      "metadata": {
        "pycharm": {
          "is_executing": false,
          "metadata": false,
          "name": "#%%\n"
        }
      },
      "outputs": [],
      "source": [
        "!pip install -q matplotlib pillow networkx pygraphviz\n",
        "!pip install -q git+https://github.com/jreades/hlda.git\n",
        "import os\n",
        "import networkx as nx\n",
        "from matplotlib import pyplot as plt\n",
        "%matplotlib inline\n",
        "from PIL import Image\n",
        "try:\n",
        "    from notebooks.hierarchy_plotting import *\n",
        "except ModuleNotFoundError:\n",
        "    import sys\n",
        "    sys.path.append(os.getcwd())\n",
        "    from hierarchy_plotting import *\n",
        "from IPython.display import display\n",
        "from hlda.sampler import HierarchicalLDA\n",
        "try:\n",
        "    os.chdir(os.getcwd() + \u0027/notebooks\u0027)\n",
        "except:\n",
        "    pass\n",
        "import pickle\n",
        "import gzip\n",
        "\n",
        "def save_zipped_pickle(obj, filename, protocol\u003d-1):\n",
        "    with gzip.open(filename, \u0027wb\u0027) as f:\n",
        "        pickle.dump(obj, f, protocol)\n",
        "        \n",
        "def load_zipped_pickle(filename):\n",
        "    with gzip.open(filename, \u0027rb\u0027) as f:\n",
        "        loaded_object \u003d pickle.load(f)\n",
        "        return loaded_object"
      ]
    },
    {
      "cell_type": "markdown",
      "metadata": {
        "pycharm": {
          "metadata": false
        }
      },
      "source": [
        "\n",
        "## The Generative Model\n",
        "First, let\u0027s try to recreate figure #3(a) from the title reference (Sivic et al., 2008). The figure is the following:\n",
        "\n",
        "![Sivic et al. 2008 Figure #3](figures/sivic_fig3.png)\n",
        "\n",
        "So, the first thing we need to be able to do is generate our training set data, which will be composed of \u0027word\u0027 observations. To do so, we use the generative model for hLDA presented in the paper:\n",
        "\n",
        "![Sivic et al. 2008 hLDA Graphical Model](figures/hlda_graphical_model.png)\n",
        "\n",
        "To generate the visual words $\\{w_i\\}_{i\u003d1}^N$, we need to first generate:\n",
        "1. A set distributions of topics over words: $\\{\\beta_i\\}_{i\u003d1}^K$\n",
        "1. A tree structure $T$ with depth $L$ containing $K$ topics\n",
        "2. A path $\\mathbf{c}$ of length $L$ through the tree for each image (document)\n",
        "1. A topic distribution $\\theta$ over the topics in the path for every image (document)\n",
        "\n",
        "In Figure #3 of the Sivic paper, the $\\beta$ distributions and $T$ are fixed, and we will replicate the same structure. Let\u0027s begin by representing the $\\beta$ distributions, which show the word distribution of each topic."
      ]
    },
    {
      "cell_type": "code",
      "execution_count": 3,
      "metadata": {
        "pycharm": {
          "is_executing": false,
          "name": "#%%\n"
        }
      },
      "outputs": [],
      "source": [
        "def create_band(x\u003dNone, y\u003dNone, save\u003dNone):\n",
        "    img \u003d Image.new(\u0027L\u0027, (5, 5), color\u003d255)\n",
        "    pix \u003d img.load()\n",
        "    if x is not None:\n",
        "        for i in range(img.height):\n",
        "            pix[x, i] \u003d 0\n",
        "    if y is not None:\n",
        "        for i in range(img.width):\n",
        "            pix[i, y] \u003d 0\n",
        "    if save:\n",
        "        plt.imsave(save + \u0027.png\u0027, np.array(img), cmap\u003d\u0027gray\u0027, vmin\u003d0, vmax\u003d255)\n",
        "    return np.array(img, dtype\u003dnp.uint8)"
      ]
    },
    {
      "cell_type": "markdown",
      "metadata": {
        "pycharm": {
          "metadata": false,
          "name": "#%% md\n"
        }
      },
      "source": [
        "\n",
        "The `create_band()` function allows us to create an image of a single band, which will represent a topic. For example, to create a vertical band at x\u003d1, we do the following:\n"
      ]
    },
    {
      "cell_type": "code",
      "execution_count": 4,
      "metadata": {
        "pycharm": {
          "is_executing": false,
          "metadata": false,
          "name": "#%%\n"
        }
      },
      "outputs": [
        {
          "data": {
            "text/plain": "\u003cmatplotlib.image.AxesImage at 0x7f6b5083ce10\u003e"
          },
          "metadata": {},
          "output_type": "execute_result",
          "execution_count": 4
        },
        {
          "data": {
            "text/plain": "\u003cFigure size 432x288 with 1 Axes\u003e",
            "image/png": "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\u003d\n"
          },
          "metadata": {
            "needs_background": "light"
          },
          "output_type": "display_data"
        }
      ],
      "source": [
        "topic \u003d {}\n",
        "topic[1] \u003d create_band(x\u003d1, save\u003d\u0027output/z1\u0027)\n",
        "plt.imshow(Image.fromarray(topic[1]), cmap\u003d\u0027gray\u0027)"
      ]
    },
    {
      "cell_type": "markdown",
      "metadata": {
        "pycharm": {
          "metadata": false,
          "name": "#%% md\n"
        }
      },
      "source": [
        "Let\u0027s enumerate the bands used in the hierarchy from Figure #3:"
      ]
    },
    {
      "cell_type": "code",
      "execution_count": 5,
      "metadata": {
        "pycharm": {
          "is_executing": false,
          "metadata": false,
          "name": "#%%\n"
        }
      },
      "outputs": [],
      "source": [
        "topic[2] \u003d create_band(y\u003d1, save\u003d\u0027output/z2\u0027)\n",
        "topic[3] \u003d create_band(x\u003d3, save\u003d\u0027output/z3\u0027)\n",
        "topic[4] \u003d create_band(y\u003d0, save\u003d\u0027output/z4\u0027)\n",
        "topic[5] \u003d create_band(x\u003d4, save\u003d\u0027output/z5\u0027) \n",
        "topic[6] \u003d create_band(y\u003d2, save\u003d\u0027output/z6\u0027)\n",
        "topic[7] \u003d create_band(x\u003d0, save\u003d\u0027output/z7\u0027)\n",
        "topic[8] \u003d create_band(y\u003d3, save\u003d\u0027output/z8\u0027)"
      ]
    },
    {
      "cell_type": "markdown",
      "metadata": {
        "pycharm": {
          "metadata": false,
          "name": "#%% md\n"
        }
      },
      "source": [
        "To visualize them, it would help to have the tree structure. For that, let\u0027s recreate the tree from Figure #3:\n"
      ]
    },
    {
      "cell_type": "code",
      "execution_count": 6,
      "metadata": {
        "pycharm": {
          "is_executing": false,
          "metadata": false,
          "name": "#%%\n"
        }
      },
      "outputs": [],
      "source": [
        "tree \u003d\\\n",
        "[Node(1, [\n",
        "    Node(2, [\n",
        "        Node(4, None), Node(5, None)\n",
        "    ]),\n",
        "    Node(3, [\n",
        "        Node(6, None), Node(7, None), Node(8, None)\n",
        "    ])\n",
        "])]"
      ]
    },
    {
      "cell_type": "markdown",
      "metadata": {
        "pycharm": {
          "metadata": false,
          "name": "#%% md\n"
        }
      },
      "source": [
        "The next step is to plot the tree, which we can do using the `networkx` package:"
      ]
    },
    {
      "cell_type": "code",
      "execution_count": 7,
      "metadata": {
        "pycharm": {
          "is_executing": false,
          "metadata": false,
          "name": "#%%\n"
        }
      },
      "outputs": [
        {
          "name": "stderr",
          "text": [
            "/home/stewart/anaconda3/envs/ml/lib/python3.7/site-packages/matplotlib/figure.py:445: UserWarning: Matplotlib is currently using module://ipykernel.pylab.backend_inline, which is a non-GUI backend, so cannot show the figure.\n  % get_backend())\n"
          ],
          "output_type": "stream"
        },
        {
          "data": {
            "text/plain": "\u003cFigure size 432x288 with 9 Axes\u003e",
            "image/png": "[encoded data removed]"
          },
          "metadata": {},
          "output_type": "display_data"
        }
      ],
      "source": [
        "G \u003d nx.DiGraph()\n",
        "build_graph_from_tree(G, tree, \u0027output/z{}.png\u0027)\n",
        "tree_fig : plt.Figure \u003d plt.figure()\n",
        "plot_image_hierarchy(tree_fig, G)\n",
        "tree_fig.savefig(\u0027output/sivic-3a-top.png\u0027)\n",
        "tree_fig.show()"
      ]
    },
    {
      "cell_type": "markdown",
      "metadata": {
        "pycharm": {
          "metadata": false,
          "name": "#%% md\n"
        }
      },
      "source": [
        "Now let\u0027s go ahead and sample an image from each path of the tree. As in the paper, we are going to use topic proportions sampled from a Dirichlet prior with $\\alpha \u003d [50, 30, 10]$. This means that the words will be drawn more often from the root node, less often from the middle node and even less often from the leaf node of the path. Also, since each $\\alpha_i \\gg 1$, each image will contain a mix of words from all topics."
      ]
    },
    {
      "cell_type": "code",
      "execution_count": 8,
      "metadata": {
        "pycharm": {
          "is_executing": false,
          "metadata": false,
          "name": "#%%\n"
        }
      },
      "outputs": [
        {
          "name": "stdout",
          "text": [
            "theta \u003d [0.49109386 0.40059427 0.10831187]\n"
          ],
          "output_type": "stream"
        }
      ],
      "source": [
        "alpha \u003d np.array([50, 30, 10])\n",
        "theta \u003d np.random.dirichlet(alpha)\n",
        "print(\u0027theta \u003d\u0027, theta)"
      ]
    },
    {
      "cell_type": "markdown",
      "metadata": {
        "pycharm": {
          "metadata": false,
          "name": "#%% md\n"
        }
      },
      "source": [
        "Now all that\u0027s left to do is to enumerate all the paths through the tree and generate the word distribution of each document using its topic distribution:"
      ]
    },
    {
      "cell_type": "code",
      "execution_count": 9,
      "metadata": {
        "pycharm": {
          "is_executing": false,
          "metadata": false,
          "name": "#%%\n"
        }
      },
      "outputs": [
        {
          "data": {
            "text/plain": "\u003cFigure size 432x288 with 5 Axes\u003e",
            "image/png": "[encoded data removed]"
          },
          "metadata": {},
          "output_type": "display_data"
        }
      ],
      "source": [
        "def all_paths(root):\n",
        "    paths \u003d []\n",
        "    base_path \u003d [root[0]]\n",
        "    if root[1] is None:\n",
        "        return [base_path]\n",
        "    \n",
        "    for child in root[1]:\n",
        "        child_paths \u003d all_paths(child)\n",
        "        paths.extend([(base_path + child_path) for child_path in child_paths])\n",
        "    return paths\n",
        "\n",
        "unique_paths \u003d all_paths(tree[0])\n",
        "word_dists \u003d []\n",
        "\n",
        "def get_word_dist(topics, path, alpha):\n",
        "    theta \u003d np.random.dirichlet(alpha)\n",
        "    weighted_components \u003d [(topics[z] * theta[i]) for i, z in enumerate(path)]\n",
        "    return np.sum(weighted_components, axis\u003d0)\n",
        "\n",
        "# display(tree_fig)\n",
        "fig \u003d plt.figure()\n",
        "for i, path in enumerate(unique_paths):\n",
        "    fig.add_subplot(1, len(unique_paths), i+1)\n",
        "    word_dists.append(get_word_dist(topic, path, alpha))\n",
        "    plt.imshow(Image.fromarray(word_dists[-1]), cmap\u003d\u0027gray\u0027)\n",
        "    plt.title(f\u0027{path}\u0027)\n",
        "    plt.gca().set_xticks([])\n",
        "    plt.gca().set_yticks([])\n",
        "\n",
        "fig.show()"
      ]
    },
    {
      "cell_type": "markdown",
      "metadata": {
        "pycharm": {
          "metadata": false,
          "name": "#%% md\n"
        }
      },
      "source": [
        "\n",
        "We can tell that our our word distributions are good because they already resemble the sample images from Figure 3. Now all that\u0027s left to do is to sample documents from them. To do so, we will treat the pixel intensities as the weights of a categorical distribution:\n"
      ]
    },
    {
      "cell_type": "code",
      "execution_count": 10,
      "metadata": {
        "pycharm": {
          "is_executing": false,
          "metadata": false,
          "name": "#%%\n"
        }
      },
      "outputs": [
        {
          "data": {
            "text/plain": "\u003cFigure size 432x288 with 9 Axes\u003e",
            "image/png": "[encoded data removed]"
          },
          "metadata": {},
          "output_type": "display_data"
        },
        {
          "data": {
            "text/plain": "\u003cFigure size 360x72 with 5 Axes\u003e",
            "image/png": "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\u003d\n"
          },
          "metadata": {},
          "output_type": "display_data"
        }
      ],
      "source": [
        "n_words \u003d 250\n",
        "\n",
        "def sample_document(word_dist, n_words\u003dn_words):\n",
        "    flat_word_dist \u003d 255 - word_dist.reshape(-1)\n",
        "    doc_words \u003d np.random.multinomial(n_words, flat_word_dist / np.sum(flat_word_dist))\n",
        "    doc_image \u003d 255 - (doc_words.reshape(word_dist.shape).astype(np.uint8) * (255 / np.max(doc_words)))\n",
        "    return doc_image, doc_words\n",
        "\n",
        "display(tree_fig)\n",
        "fig :plt.Figure \u003d plt.figure(figsize\u003d(5,1))\n",
        "for i, path in enumerate(unique_paths):\n",
        "    fig.add_subplot(1, len(unique_paths), i+1)\n",
        "    \n",
        "    sample_doc \u003d sample_document(word_dists[i])[0]\n",
        "    plt.imshow(Image.fromarray(sample_doc), cmap\u003d\u0027gray\u0027)\n",
        "    plt.title(f\u0027{path}\u0027)\n",
        "    plt.gca().set_xticks([])\n",
        "    plt.gca().set_yticks([])\n",
        "\n",
        "fig.tight_layout()\n",
        "fig.savefig(\u0027output/sivic-3a-bottom.png\u0027)\n",
        "fig.show()"
      ]
    },
    {
      "cell_type": "markdown",
      "metadata": {
        "pycharm": {
          "metadata": false,
          "name": "#%% md\n"
        }
      },
      "source": [
        "So, we can tell that our generative process works since the figure closely matches 3(a) from the paper:\n",
        "\n",
        "![Sivic et al. 2008 Figure #3](figures/sivic_fig3_small.png)\n"
      ]
    },
    {
      "cell_type": "markdown",
      "metadata": {
        "pycharm": {
          "metadata": false,
          "name": "#%% md\n"
        }
      },
      "source": [
        "## Inference on the Model\n",
        "\n",
        "Now that we can sample documents from arbitrary word distributions, let\u0027s generate a larger corpus of documents to use for inference. To do so, we\u0027ll need to randomly sample paths from the tree.\n",
        "\n",
        "For now, we will assume that at each branch the decision is made uniformly over the available choices:"
      ]
    },
    {
      "cell_type": "code",
      "execution_count": 11,
      "metadata": {
        "pycharm": {
          "is_executing": false,
          "metadata": false,
          "name": "#%%\n"
        }
      },
      "outputs": [
        {
          "data": {
            "text/plain": "\u003cFigure size 432x288 with 6 Axes\u003e",
            "image/png": "[encoded data removed]"
          },
          "metadata": {},
          "output_type": "display_data"
        }
      ],
      "source": [
        "n_documents \u003d 100\n",
        "\n",
        "def sample_path(unique_paths):\n",
        "    child \u003d np.random.choice(len(unique_paths))\n",
        "    return unique_paths[child]\n",
        "\n",
        "random_paths \u003d [sample_path(unique_paths) for _ in range(n_documents)]\n",
        "word_dists \u003d [get_word_dist(topic, path, alpha) for path in random_paths]\n",
        "corpus \u003d [sample_document(word_dist) for word_dist in word_dists]\n",
        "\n",
        "fig \u003d plt.figure()\n",
        "num_plots \u003d 6\n",
        "for i in range(num_plots):\n",
        "    fig.add_subplot(1, num_plots, i+1)\n",
        "    plt.imshow(Image.fromarray(corpus[i][0]), cmap\u003d\u0027gray\u0027)\n",
        "    plt.title(f\u0027{random_paths[i]}\u0027)\n",
        "    plt.gca().set_xticks([])\n",
        "    plt.gca().set_yticks([])"
      ]
    },
    {
      "cell_type": "markdown",
      "metadata": {
        "pycharm": {
          "metadata": false,
          "name": "#%% md\n"
        }
      },
      "source": [
        "Now that we have a corpus, we perform inference using Gibbs sampling. This requires picking some hyperparameters and putting our corpus into a standard format."
      ]
    },
    {
      "cell_type": "code",
      "execution_count": 12,
      "metadata": {
        "pycharm": {
          "is_executing": false,
          "metadata": false,
          "name": "#%%\n"
        }
      },
      "outputs": [],
      "source": [
        "def create_corpus(filename, include_level\u003dFalse):\n",
        "    def get_level(word):\n",
        "        if word % 5 \u003d\u003d 1:\n",
        "            return 0\n",
        "        elif word // 5 \u003d\u003d 1 or word % 5 \u003d\u003d 3:\n",
        "            return 1\n",
        "        else:\n",
        "            return 2\n",
        "    word_corpus \u003d []\n",
        "    with open(filename, \u0027w\u0027) as corpus_file:\n",
        "        for document in corpus:\n",
        "            words \u003d []\n",
        "            word_counts \u003d document[1]\n",
        "            nonzero_counts \u003d [(i, count) for i, count in enumerate(word_counts) if count \u003e 0]\n",
        "            corpus_file.write(str(len(nonzero_counts)))\n",
        "            for word_id, count in nonzero_counts:\n",
        "                corpus_file.write(\u0027 \u0027 + str(word_id) + \u0027:\u0027 + str(count))\n",
        "                if include_level:\n",
        "                    corpus_file.write(\u0027:\u0027 + str(get_level(word_id)))\n",
        "            corpus_file.write(\u0027\\n\u0027)\n",
        "            for i in range(word_counts.size):\n",
        "                words +\u003d [i] * word_counts[i]\n",
        "            word_corpus.append(words)\n",
        "\n",
        "corpus_filename \u003d \u0027output/corpus.txt\u0027\n",
        "word_corpus \u003d create_corpus(corpus_filename)\n",
        "vocab \u003d list(range(25))\n",
        "\n",
        "n_samples \u003d 11000       # no of iterations for the sampler\n",
        "hlda_alpha \u003d 30.0          # smoothing over level ddddistributions\n",
        "gamma \u003d 0.3           # CRP smoothing parameter; number of imaginary customers at next, as yet unused table\n",
        "beta \u003d 0.1             # smoothing over topic-word distributions\n",
        "num_levels \u003d 3        # the number of levels in the tree\n",
        "display_topics \u003d 100  # the number of iterations between printing a brief summary of the topics so far\n",
        "n_words \u003d 5           # the number of most probable words to print for each topic after model estimation\n",
        "with_weights \u003d False  # whether to print the words with the weights"
      ]
    },
    {
      "cell_type": "markdown",
      "metadata": {
        "pycharm": {
          "metadata": false,
          "name": "#%% md\n"
        }
      },
      "source": [
        "\n",
        "All that is left to do is to run the sampler and visualize the results. However, since hLDA is very slow (especially using the Python implementation!) here we will instead use saved results from running the C++ implementation. If you have the time, setting `run_hlda \u003d True` will re-enable and use the Python implementation.\n"
      ]
    },
    {
      "cell_type": "code",
      "execution_count": 13,
      "metadata": {
        "pycharm": {
          "is_executing": false,
          "metadata": false,
          "name": "#%%\n"
        }
      },
      "outputs": [
        {
          "name": "stdout",
          "text": [
            "Found saved model! Continuing...\n"
          ],
          "output_type": "stream"
        }
      ],
      "source": [
        "run_hlda \u003d False\n",
        "\n",
        "# Run inference:\n",
        "model_id \u003d 2\n",
        "try:\n",
        "    hlda \u003d load_zipped_pickle(f\u0027hlda_{model_id}.p\u0027)\n",
        "    print(\u0027Found saved model! Continuing...\u0027)\n",
        "except:\n",
        "    # Note that I call eta \u0027beta\u0027 instead (to be consistent with Girdhar et al notation)\n",
        "    hlda \u003d HierarchicalLDA(word_corpus, vocab, alpha\u003dhlda_alpha, gamma\u003dgamma, eta\u003dbeta, num_levels\u003dnum_levels)\n",
        "\n",
        "if run_hlda:\n",
        "    hlda.estimate(n_samples, display_topics\u003ddisplay_topics, n_words\u003dn_words, with_weights\u003dwith_weights)\n",
        "    tree, topics \u003d build_tree_from_hlda(hlda.root_node)\n",
        "else:\n",
        "    cached_model \u003d \u0027output/model1555423889.txt\u0027\n",
        "    tree, topics \u003d build_tree_from_file(cached_model, \u0027figures\u0027)"
      ]
    },
    {
      "cell_type": "code",
      "execution_count": 14,
      "metadata": {
        "pycharm": {
          "is_executing": false,
          "metadata": false,
          "name": "#%%\n"
        }
      },
      "outputs": [
        {
          "data": {
            "text/plain": "\u003cFigure size 432x288 with 9 Axes\u003e",
            "image/png": "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\u003d\n"
          },
          "metadata": {},
          "output_type": "display_data"
        }
      ],
      "source": [
        "# Visualize results:\n",
        "G \u003d nx.DiGraph()\n",
        "build_graph_from_tree(G, [tree], \u0027figures/inference-z{}.png\u0027)\n",
        "result_fig : plt.Figure \u003d plt.figure()\n",
        "plot_image_hierarchy(result_fig, G)\n",
        "result_fig.show()"
      ]
    },
    {
      "cell_type": "markdown",
      "metadata": {
        "pycharm": {
          "metadata": false,
          "name": "#%% md\n"
        }
      },
      "source": [
        "\n",
        "It looks pretty good when compared to the paper reference (below)!\n",
        "\n",
        "![Sivic et al. 2008 Figure #3](figures/sivic_fig3_small.png)\n",
        "\n",
        "Since it is very slow to converge, it is good to save the result and model:\n"
      ]
    },
    {
      "cell_type": "code",
      "execution_count": 15,
      "metadata": {
        "pycharm": {
          "is_executing": false,
          "metadata": false,
          "name": "#%%\n"
        }
      },
      "outputs": [],
      "source": [
        "result_fig.savefig(f\u0027output/sivic-3b-{model_id}.png\u0027)\n",
        "save_zipped_pickle(hlda, f\u0027hlda_{model_id}.p\u0027)"
      ]
    },
    {
      "cell_type": "markdown",
      "metadata": {
        "pycharm": {}
      },
      "source": [
        "## Level Hinting\n",
        "\n",
        "One more improvement that we can employ is \u0027level hinting\u0027. This means initializing the hLDA algorithm with a guess for which level in the tree a word was generated. It may seem that this is unrealistic, because in practice we do not know the tree structure a priori. However, in some cases the vocabulary of image features that we use may have some notion of a hierarchy built-in, so we can guess the appropriate level for each word in advance without knowing the topics at each level.\n",
        "\n",
        "An example is the vocabulary developed in section 3 of the Sivic et al paper, in which words are extracted at various image scales. The larger scale words are assumed to belong to higher levels in the hierarchy, while words representing smaller regions were assumed to be lower in the hierarchy. These assignments were only used for initialization, to speed up convergence, and do not prevent hLDA from changing the levels of words as it sees fit."
      ]
    },
    {
      "cell_type": "code",
      "execution_count": 21,
      "metadata": {
        "pycharm": {
          "metadata": false,
          "name": "#%%\n",
          "is_executing": false
        }
      },
      "outputs": [
        {
          "data": {
            "text/plain": "\u003cFigure size 432x288 with 9 Axes\u003e",
            "image/png": "[encoded data removed]"
          },
          "metadata": {},
          "output_type": "display_data"
        }
      ],
      "source": "corpus_filename \u003d \u0027output/corpus-with-levels.txt\u0027\nword_corpus \u003d create_corpus(corpus_filename, include_level\u003dTrue)\n\n# Note that word hinting is only supported by the C++ implementation, so we rely on a cached model\ncached_model_with_level_hints \u003d \u0027output/model1557987074.txt\u0027\ntree, topics \u003d build_tree_from_file(cached_model_with_level_hints, \u0027figures\u0027, label\u003d\u0027hinted\u0027)\n\n# Visualize results:\nG \u003d nx.DiGraph()\nbuild_graph_from_tree(G, [tree], \u0027figures/hinted-z{}.png\u0027)\nresult_fig : plt.Figure \u003d plt.figure()\nplot_image_hierarchy(result_fig, G)\nresult_fig.show()"
    },
    {
      "cell_type": "markdown",
      "metadata": {
        "pycharm": {}
      },
      "source": [
        "In this simple problem, we can see that level hinting did not significantly change the output of the inference process. However, level hinting is highly effective when we are dealing with much larger vocabularies, such as those used in topic models for colored photos."
      ]
    }
  ],
  "metadata": {
    "kernelspec": {
      "display_name": "Python 3",
      "language": "python",
      "name": "python3"
    },
    "language_info": {
      "codemirror_mode": {
        "name": "ipython",
        "version": 3
      },
      "file_extension": ".py",
      "mimetype": "text/x-python",
      "name": "python",
      "nbconvert_exporter": "python",
      "pygments_lexer": "ipython3",
      "version": "3.7.3"
    }
  },
  "nbformat": 4,
  "nbformat_minor": 1
}