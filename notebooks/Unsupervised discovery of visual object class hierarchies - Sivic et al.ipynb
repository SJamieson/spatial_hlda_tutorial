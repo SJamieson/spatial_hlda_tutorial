{
 "cells": [
  {
   "cell_type": "markdown",
   "metadata": {
    "collapsed": true,
    "pycharm": {
     "name": "#%% md\n"
    }
   },
   "source": [
    "# Replicating \"Unsupervised discovery of visual object class hierarchies\" (Sivic et al., 2018)\n",
    "#### By: Stewart Jamieson\n",
    "Paper citation: Sivic, J., Russell, B. C., Zisserman, A., Freeman, W. T., & Efros, A. A. (2008). Unsupervised discovery of visual object class hierarchies. 2008 IEEE Conference on Computer Vision and Pattern Recognition, 1–8. https://doi.org/10.1109/CVPR.2008.4587622\n",
    "\n",
    "Make sure to run the following cell so that the dependencies are loaded!"
   ]
  },
  {
   "cell_type": "code",
   "execution_count": 1,
   "metadata": {
    "pycharm": {
     "is_executing": true,
     "metadata": false,
     "name": "#%%\n"
    }
   },
   "outputs": [],
   "source": [
    "!pip install -q matplotlib pillow networkx pygraphviz\n",
    "!pip install -q git+https://github.com/jreades/hlda.git\n",
    "import os\n",
    "import networkx as nx\n",
    "from matplotlib import pyplot as plt\n",
    "%matplotlib inline\n",
    "from PIL import Image\n",
    "try:\n",
    "    from notebooks.hierarchy_plotting import *\n",
    "except ModuleNotFoundError:\n",
    "    import sys\n",
    "    sys.path.append(os.getcwd())\n",
    "    from hierarchy_plotting import *\n",
    "from IPython.display import display\n",
    "from hlda.sampler import HierarchicalLDA\n",
    "try:\n",
    "    os.chdir(os.getcwd() + '/notebooks')\n",
    "except:\n",
    "    pass\n",
    "import pickle\n",
    "import gzip\n",
    "\n",
    "def save_zipped_pickle(obj, filename, protocol=-1):\n",
    "    with gzip.open(filename, 'wb') as f:\n",
    "        pickle.dump(obj, f, protocol)\n",
    "        \n",
    "def load_zipped_pickle(filename):\n",
    "    with gzip.open(filename, 'rb') as f:\n",
    "        loaded_object = pickle.load(f)\n",
    "        return loaded_object"
   ]
  },
  {
   "cell_type": "markdown",
   "metadata": {
    "pycharm": {
     "metadata": false
    }
   },
   "source": [
    "\n",
    "## The Generative Model\n",
    "First, let's try to recreate figure #3(a) from the title reference (Sivic et al., 2008). The figure is the following:\n",
    "\n",
    "![Sivic et al. 2008 Figure #3](figures/sivic_fig3.png)\n",
    "\n",
    "So, the first thing we need to be able to do is generate our training set data, which will be composed of 'word' observations. To do so, we use the generative model for hLDA presented in the paper:\n",
    "\n",
    "![Sivic et al. 2008 hLDA Graphical Model](figures/hlda_graphical_model.png)\n",
    "\n",
    "To generate the visual words $\\{w_i\\}_{i=1}^N$, we need to first generate:\n",
    "1. A set distributions of topics over words: $\\{\\beta_i\\}_{i=1}^K$\n",
    "1. A tree structure $T$ with depth $L$ containing $K$ topics\n",
    "2. A path $\\mathbf{c}$ of length $L$ through the tree for each image (document)\n",
    "1. A topic distribution $\\theta$ over the topics in the path for every image (document)\n",
    "\n",
    "In Figure #3 of the Sivic paper, the $\\beta$ distributions and $T$ are fixed, and we will replicate the same structure. Let's begin by representing the $\\beta$ distributions, which show the word distribution of each topic."
   ]
  },
  {
   "cell_type": "code",
   "execution_count": 2,
   "metadata": {
    "pycharm": {
     "is_executing": false,
     "name": "#%%\n"
    }
   },
   "outputs": [],
   "source": [
    "def create_band(x=None, y=None, save=None):\n",
    "    img = Image.new('L', (5, 5), color=255)\n",
    "    pix = img.load()\n",
    "    if x is not None:\n",
    "        for i in range(img.height):\n",
    "            pix[x, i] = 0\n",
    "    if y is not None:\n",
    "        for i in range(img.width):\n",
    "            pix[i, y] = 0\n",
    "    if save:\n",
    "        plt.imsave(save + '.png', np.array(img), cmap='gray', vmin=0, vmax=255)\n",
    "    return np.array(img, dtype=np.uint8)"
   ]
  },
  {
   "cell_type": "markdown",
   "metadata": {
    "pycharm": {
     "metadata": false,
     "name": "#%% md\n"
    }
   },
   "source": [
    "\n",
    "The `create_band()` function allows us to create an image of a single band, which will represent a topic. For example, to create a vertical band at x=1, we do the following:\n"
   ]
  },
  {
   "cell_type": "code",
   "execution_count": 3,
   "metadata": {
    "pycharm": {
     "is_executing": false,
     "metadata": false,
     "name": "#%%\n"
    }
   },
   "outputs": [
    {
     "data": {
      "text/plain": [
       "<matplotlib.image.AxesImage at 0x7fc9791b06a0>"
      ]
     },
     "execution_count": 3,
     "metadata": {},
     "output_type": "execute_result"
    },
    {
     "data": {
      "image/png": "[encoded data removed]",
      "text/plain": [
       "<Figure size 432x288 with 1 Axes>"
      ]
     },
     "metadata": {
      "needs_background": "light"
     },
     "output_type": "display_data"
    }
   ],
   "source": [
    "topic = {}\n",
    "topic[1] = create_band(x=1, save='output/z1')\n",
    "plt.imshow(Image.fromarray(topic[1]), cmap='gray')"
   ]
  },
  {
   "cell_type": "markdown",
   "metadata": {
    "pycharm": {
     "metadata": false,
     "name": "#%% md\n"
    }
   },
   "source": [
    "Let's enumerate the bands used in the hierarchy from Figure #3:"
   ]
  },
  {
   "cell_type": "code",
   "execution_count": 4,
   "metadata": {
    "pycharm": {
     "is_executing": false,
     "metadata": false,
     "name": "#%%\n"
    }
   },
   "outputs": [],
   "source": [
    "topic[2] = create_band(y=1, save='output/z2')\n",
    "topic[3] = create_band(x=3, save='output/z3')\n",
    "topic[4] = create_band(y=0, save='output/z4')\n",
    "topic[5] = create_band(x=4, save='output/z5') \n",
    "topic[6] = create_band(y=2, save='output/z6')\n",
    "topic[7] = create_band(x=0, save='output/z7')\n",
    "topic[8] = create_band(y=3, save='output/z8')"
   ]
  },
  {
   "cell_type": "markdown",
   "metadata": {
    "pycharm": {
     "metadata": false,
     "name": "#%% md\n"
    }
   },
   "source": [
    "To visualize them, it would help to have the tree structure. For that, let's recreate the tree from Figure #3:\n"
   ]
  },
  {
   "cell_type": "code",
   "execution_count": 5,
   "metadata": {
    "pycharm": {
     "is_executing": false,
     "metadata": false,
     "name": "#%%\n"
    }
   },
   "outputs": [],
   "source": [
    "tree =\\\n",
    "[Node(1, [\n",
    "    Node(2, [\n",
    "        Node(4, None), Node(5, None)\n",
    "    ]),\n",
    "    Node(3, [\n",
    "        Node(6, None), Node(7, None), Node(8, None)\n",
    "    ])\n",
    "])]"
   ]
  },
  {
   "cell_type": "markdown",
   "metadata": {
    "pycharm": {
     "metadata": false,
     "name": "#%% md\n"
    }
   },
   "source": [
    "The next step is to plot the tree, which we can do using the `networkx` package:"
   ]
  },
  {
   "cell_type": "code",
   "execution_count": 6,
   "metadata": {
    "pycharm": {
     "is_executing": true,
     "metadata": false,
     "name": "#%%\n"
    }
   },
   "outputs": [
    {
     "name": "stderr",
     "output_type": "stream",
     "text": [
      "/home/stewart/anaconda3/envs/ml/lib/python3.7/site-packages/matplotlib/figure.py:445: UserWarning: Matplotlib is currently using module://ipykernel.pylab.backend_inline, which is a non-GUI backend, so cannot show the figure.\n",
      "  % get_backend())\n"
     ]
    },
    {
     "data": {
      "image/png": "[encoded data removed]",
      "text/plain": [
       "<Figure size 432x288 with 9 Axes>"
      ]
     },
     "metadata": {},
     "output_type": "display_data"
    }
   ],
   "source": [
    "G = nx.DiGraph()\n",
    "build_graph_from_tree(G, tree, 'output/z{}.png')\n",
    "tree_fig : plt.Figure = plt.figure()\n",
    "plot_image_hierarchy(tree_fig, G)\n",
    "tree_fig.savefig('output/sivic-3a-top.png')\n",
    "tree_fig.show()"
   ]
  },
  {
   "cell_type": "markdown",
   "metadata": {
    "pycharm": {
     "metadata": false,
     "name": "#%% md\n"
    }
   },
   "source": [
    "Now let's go ahead and sample an image from each path of the tree. As in the paper, we are going to use topic proportions sampled from a Dirichlet prior with $\\alpha = [50, 30, 10]$. This means that the words will be drawn more often from the root node, less often from the middle node and even less often from the leaf node of the path. Also, since each $\\alpha_i \\gg 1$, each image will contain a mix of words from all topics."
   ]
  },
  {
   "cell_type": "code",
   "execution_count": 7,
   "metadata": {
    "pycharm": {
     "is_executing": false,
     "metadata": false,
     "name": "#%%\n"
    }
   },
   "outputs": [
    {
     "name": "stdout",
     "output_type": "stream",
     "text": [
      "theta = [0.59500534 0.31924272 0.08575194]\n"
     ]
    }
   ],
   "source": [
    "alpha = np.array([50, 30, 10])\n",
    "theta = np.random.dirichlet(alpha)\n",
    "print('theta =', theta)"
   ]
  },
  {
   "cell_type": "markdown",
   "metadata": {
    "pycharm": {
     "metadata": false,
     "name": "#%% md\n"
    }
   },
   "source": [
    "Now all that's left to do is to enumerate all the paths through the tree and generate the word distribution of each document using its topic distribution:"
   ]
  },
  {
   "cell_type": "code",
   "execution_count": 8,
   "metadata": {
    "pycharm": {
     "is_executing": false,
     "metadata": false,
     "name": "#%%\n"
    }
   },
   "outputs": [
    {
     "data": {
      "image/png": "[encoded data removed]",
      "text/plain": [
       "<Figure size 432x288 with 5 Axes>"
      ]
     },
     "metadata": {},
     "output_type": "display_data"
    }
   ],
   "source": [
    "def all_paths(root):\n",
    "    paths = []\n",
    "    base_path = [root[0]]\n",
    "    if root[1] is None:\n",
    "        return [base_path]\n",
    "    \n",
    "    for child in root[1]:\n",
    "        child_paths = all_paths(child)\n",
    "        paths.extend([(base_path + child_path) for child_path in child_paths])\n",
    "    return paths\n",
    "\n",
    "unique_paths = all_paths(tree[0])\n",
    "word_dists = []\n",
    "\n",
    "def get_word_dist(topics, path, alpha):\n",
    "    theta = np.random.dirichlet(alpha)\n",
    "    weighted_components = [(topics[z] * theta[i]) for i, z in enumerate(path)]\n",
    "    return np.sum(weighted_components, axis=0)\n",
    "\n",
    "# display(tree_fig)\n",
    "fig = plt.figure()\n",
    "for i, path in enumerate(unique_paths):\n",
    "    fig.add_subplot(1, len(unique_paths), i+1)\n",
    "    word_dists.append(get_word_dist(topic, path, alpha))\n",
    "    plt.imshow(Image.fromarray(word_dists[-1]), cmap='gray')\n",
    "    plt.title(f'{path}')\n",
    "    plt.gca().set_xticks([])\n",
    "    plt.gca().set_yticks([])\n",
    "\n",
    "fig.show()"
   ]
  },
  {
   "cell_type": "markdown",
   "metadata": {
    "pycharm": {
     "metadata": false,
     "name": "#%% md\n"
    }
   },
   "source": [
    "\n",
    "We can tell that our our word distributions are good because they already resemble the sample images from Figure 3. Now all that's left to do is to sample documents from them. To do so, we will treat the pixel intensities as the weights of a categorical distribution:\n"
   ]
  },
  {
   "cell_type": "code",
   "execution_count": 9,
   "metadata": {
    "pycharm": {
     "is_executing": false,
     "metadata": false,
     "name": "#%%\n"
    }
   },
   "outputs": [
    {
     "data": {
      "image/png": "[encoded data removed]",
      "text/plain": [
       "<Figure size 432x288 with 9 Axes>"
      ]
     },
     "metadata": {},
     "output_type": "display_data"
    },
    {
     "data": {
      "image/png": "[encoded data removed]",
      "text/plain": [
       "<Figure size 360x72 with 5 Axes>"
      ]
     },
     "metadata": {},
     "output_type": "display_data"
    }
   ],
   "source": [
    "n_words = 250\n",
    "\n",
    "def sample_document(word_dist, n_words=n_words):\n",
    "    flat_word_dist = 255 - word_dist.reshape(-1)\n",
    "    doc_words = np.random.multinomial(n_words, flat_word_dist / np.sum(flat_word_dist))\n",
    "    doc_image = 255 - (doc_words.reshape(word_dist.shape).astype(np.uint8) * (255 / np.max(doc_words)))\n",
    "    return doc_image, doc_words\n",
    "\n",
    "display(tree_fig)\n",
    "fig :plt.Figure = plt.figure(figsize=(5,1))\n",
    "for i, path in enumerate(unique_paths):\n",
    "    fig.add_subplot(1, len(unique_paths), i+1)\n",
    "    \n",
    "    sample_doc = sample_document(word_dists[i])[0]\n",
    "    plt.imshow(Image.fromarray(sample_doc), cmap='gray')\n",
    "    plt.title(f'{path}')\n",
    "    plt.gca().set_xticks([])\n",
    "    plt.gca().set_yticks([])\n",
    "\n",
    "fig.tight_layout()\n",
    "fig.savefig('output/sivic-3a-bottom.png')\n",
    "fig.show()"
   ]
  },
  {
   "cell_type": "markdown",
   "metadata": {
    "pycharm": {
     "metadata": false,
     "name": "#%% md\n"
    }
   },
   "source": [
    "So, we can tell that our generative process works since the figure closely matches 3(a) from the paper:\n",
    "\n",
    "![Sivic et al. 2008 Figure #3](figures/sivic_fig3_small.png)\n"
   ]
  },
  {
   "cell_type": "markdown",
   "metadata": {
    "pycharm": {
     "metadata": false,
     "name": "#%% md\n"
    }
   },
   "source": [
    "## Inference on the Model\n",
    "\n",
    "Now that we can sample documents from arbitrary word distributions, let's generate a larger corpus of documents to use for inference. To do so, we'll need to randomly sample paths from the tree.\n",
    "\n",
    "For now, we will assume that at each branch the decision is made uniformly over the available choices:"
   ]
  },
  {
   "cell_type": "code",
   "execution_count": 10,
   "metadata": {
    "pycharm": {
     "is_executing": false,
     "metadata": false,
     "name": "#%%\n"
    }
   },
   "outputs": [
    {
     "data": {
      "image/png": "[encoded data removed]",
      "text/plain": [
       "<Figure size 432x288 with 6 Axes>"
      ]
     },
     "metadata": {},
     "output_type": "display_data"
    }
   ],
   "source": [
    "n_documents = 100\n",
    "\n",
    "def sample_path(unique_paths):\n",
    "    child = np.random.choice(len(unique_paths))\n",
    "    return unique_paths[child]\n",
    "\n",
    "random_paths = [sample_path(unique_paths) for _ in range(n_documents)]\n",
    "word_dists = [get_word_dist(topic, path, alpha) for path in random_paths]\n",
    "corpus = [sample_document(word_dist) for word_dist in word_dists]\n",
    "\n",
    "fig = plt.figure()\n",
    "num_plots = 6\n",
    "for i in range(num_plots):\n",
    "    fig.add_subplot(1, num_plots, i+1)\n",
    "    plt.imshow(Image.fromarray(corpus[i][0]), cmap='gray')\n",
    "    plt.title(f'{random_paths[i]}')\n",
    "    plt.gca().set_xticks([])\n",
    "    plt.gca().set_yticks([])"
   ]
  },
  {
   "cell_type": "markdown",
   "metadata": {
    "pycharm": {
     "metadata": false,
     "name": "#%% md\n"
    }
   },
   "source": [
    "Now that we have a corpus, we perform inference using Gibbs sampling. This requires picking some hyperparameters and putting our corpus into a standard format."
   ]
  },
  {
   "cell_type": "code",
   "execution_count": 11,
   "metadata": {
    "pycharm": {
     "is_executing": false,
     "metadata": false,
     "name": "#%%\n"
    }
   },
   "outputs": [],
   "source": [
    "def create_corpus(filename, include_level=False):\n",
    "    def get_level(word):\n",
    "        if word % 5 == 1:\n",
    "            return 0\n",
    "        elif word // 5 == 1 or word % 5 == 3:\n",
    "            return 1\n",
    "        else:\n",
    "            return 2\n",
    "    word_corpus = []\n",
    "    with open(filename, 'w') as corpus_file:\n",
    "        for document in corpus:\n",
    "            words = []\n",
    "            word_counts = document[1]\n",
    "            nonzero_counts = [(i, count) for i, count in enumerate(word_counts) if count > 0]\n",
    "            corpus_file.write(str(len(nonzero_counts)))\n",
    "            for word_id, count in nonzero_counts:\n",
    "                corpus_file.write(' ' + str(word_id) + ':' + str(count))\n",
    "                if include_level:\n",
    "                    corpus_file.write(':' + str(get_level(word_id)))\n",
    "            corpus_file.write('\\n')\n",
    "            for i in range(word_counts.size):\n",
    "                words += [i] * word_counts[i]\n",
    "            word_corpus.append(words)\n",
    "\n",
    "corpus_filename = 'output/corpus.txt'\n",
    "word_corpus = create_corpus(corpus_filename)\n",
    "vocab = list(range(25))\n",
    "\n",
    "n_samples = 11000       # no of iterations for the sampler\n",
    "hlda_alpha = 30.0          # smoothing over level ddddistributions\n",
    "gamma = 0.3           # CRP smoothing parameter; number of imaginary customers at next, as yet unused table\n",
    "beta = 0.1             # smoothing over topic-word distributions\n",
    "num_levels = 3        # the number of levels in the tree\n",
    "display_topics = 100  # the number of iterations between printing a brief summary of the topics so far\n",
    "n_words = 5           # the number of most probable words to print for each topic after model estimation\n",
    "with_weights = False  # whether to print the words with the weights"
   ]
  },
  {
   "cell_type": "markdown",
   "metadata": {
    "pycharm": {
     "metadata": false,
     "name": "#%% md\n"
    }
   },
   "source": [
    "\n",
    "All that is left to do is to run the sampler and visualize the results. However, since hLDA is very slow (especially using the Python implementation!) here we will instead use saved results from running the C++ implementation. If you have the time, setting `run_hlda = True` will re-enable and use the Python implementation.\n"
   ]
  },
  {
   "cell_type": "code",
   "execution_count": 12,
   "metadata": {
    "pycharm": {
     "is_executing": false,
     "metadata": false,
     "name": "#%%\n"
    }
   },
   "outputs": [
    {
     "name": "stdout",
     "output_type": "stream",
     "text": [
      "Found saved model! Continuing...\n"
     ]
    }
   ],
   "source": [
    "run_hlda = False\n",
    "\n",
    "# Run inference:\n",
    "model_id = 2\n",
    "try:\n",
    "    hlda = load_zipped_pickle(f'hlda_{model_id}.p')\n",
    "    print('Found saved model! Continuing...')\n",
    "except:\n",
    "    # Note that I call eta 'beta' instead (to be consistent with Girdhar et al notation)\n",
    "    hlda = HierarchicalLDA(word_corpus, vocab, alpha=hlda_alpha, gamma=gamma, eta=beta, num_levels=num_levels)\n",
    "\n",
    "if run_hlda:\n",
    "    hlda.estimate(n_samples, display_topics=display_topics, n_words=n_words, with_weights=with_weights)\n",
    "    tree, topics = build_tree_from_hlda(hlda.root_node)\n",
    "else:\n",
    "    cached_model = 'output/model1555423889.txt'\n",
    "    tree, topics = build_tree_from_file(cached_model, 'figures')"
   ]
  },
  {
   "cell_type": "code",
   "execution_count": 13,
   "metadata": {
    "pycharm": {
     "is_executing": false,
     "metadata": false,
     "name": "#%%\n"
    }
   },
   "outputs": [
    {
     "data": {
      "image/png": "[encoded data removed]",
      "text/plain": [
       "<Figure size 432x288 with 9 Axes>"
      ]
     },
     "metadata": {},
     "output_type": "display_data"
    }
   ],
   "source": [
    "# Visualize results:\n",
    "G = nx.DiGraph()\n",
    "build_graph_from_tree(G, [tree], 'figures/inference-z{}.png')\n",
    "result_fig : plt.Figure = plt.figure()\n",
    "plot_image_hierarchy(result_fig, G)\n",
    "result_fig.show()"
   ]
  },
  {
   "cell_type": "markdown",
   "metadata": {
    "pycharm": {
     "metadata": false,
     "name": "#%% md\n"
    }
   },
   "source": [
    "\n",
    "It looks pretty good when compared to the paper reference (below)!\n",
    "\n",
    "![Sivic et al. 2008 Figure #3](figures/sivic_fig3_small.png)\n",
    "\n",
    "Since it is very slow to converge, it is good to save the result and model:\n"
   ]
  },
  {
   "cell_type": "code",
   "execution_count": 14,
   "metadata": {
    "pycharm": {
     "is_executing": false,
     "metadata": false,
     "name": "#%%\n"
    }
   },
   "outputs": [],
   "source": [
    "result_fig.savefig(f'output/sivic-3b-{model_id}.png')\n",
    "save_zipped_pickle(hlda, f'hlda_{model_id}.p')"
   ]
  },
  {
   "cell_type": "markdown",
   "metadata": {
    "pycharm": {}
   },
   "source": [
    "## Level Hinting\n",
    "\n",
    "One more improvement that we can employ is 'level hinting'. This means initializing the hLDA algorithm with a guess for which level in the tree a word was generated. It may seem that this is unrealistic, because in practice we do not know the tree structure a priori. However, in some cases the vocabulary of image features that we use may have some notion of a hierarchy built-in, so we can guess the appropriate level for each word in advance without knowing the topics at each level.\n",
    "\n",
    "An example is the vocabulary developed in section 3 of the Sivic et al paper, in which words are extracted at various image scales. The larger scale words are assumed to belong to higher levels in the hierarchy, while words representing smaller regions were assumed to be lower in the hierarchy. These assignments were only used for initialization, to speed up convergence, and do not prevent hLDA from changing the levels of words as it sees fit."
   ]
  },
  {
   "cell_type": "code",
   "execution_count": 15,
   "metadata": {
    "pycharm": {
     "metadata": false,
     "name": "#%%\n"
    }
   },
   "outputs": [
    {
     "data": {
      "image/png": "[encoded data removed]",
      "text/plain": [
       "<Figure size 432x288 with 9 Axes>"
      ]
     },
     "metadata": {},
     "output_type": "display_data"
    }
   ],
   "source": [
    "corpus_filename = 'output/corpus-with-levels.txt'\n",
    "word_corpus = create_corpus(corpus_filename, include_level=True)\n",
    "\n",
    "# Note that word hinting is only supported by the C++ implementation, so we rely on a cached model\n",
    "cached_model_with_level_hints = 'output/model1557447833.txt'\n",
    "tree, topics = build_tree_from_file(cached_model_with_level_hints, 'figures', label='hinted')\n",
    "\n",
    "# Visualize results:\n",
    "G = nx.DiGraph()\n",
    "build_graph_from_tree(G, [tree], 'figures/hinted-z{}.png')\n",
    "result_fig : plt.Figure = plt.figure()\n",
    "plot_image_hierarchy(result_fig, G)\n",
    "result_fig.show()"
   ]
  },
  {
   "cell_type": "markdown",
   "metadata": {
    "pycharm": {}
   },
   "source": [
    "In this simple problem, we can see that level hinting did not significantly change the output of the inference process. However, level hinting is highly effective when we are dealing with much larger vocabularies, such as those used in topic models for colored photos."
   ]
  }
 ],
 "metadata": {
  "kernelspec": {
   "display_name": "Python 3",
   "language": "python",
   "name": "python3"
  },
  "language_info": {
   "codemirror_mode": {
    "name": "ipython",
    "version": 3
   },
   "file_extension": ".py",
   "mimetype": "text/x-python",
   "name": "python",
   "nbconvert_exporter": "python",
   "pygments_lexer": "ipython3",
   "version": "3.7.3"
  }
 },
 "nbformat": 4,
 "nbformat_minor": 1
}
