{
 "cells": [
  {
   "cell_type": "markdown",
   "metadata": {
    "collapsed": true,
    "pycharm": {
     "name": "#%% md\n"
    }
   },
   "source": [
    "# Replicating \"Unsupervised discovery of visual object class hierarchies\" (Sivic et al., 2018)\n",
    "#### By: Stewart Jamieson\n",
    "Paper citation: Sivic, J., Russell, B. C., Zisserman, A., Freeman, W. T., & Efros, A. A. (2008). Unsupervised discovery of visual object class hierarchies. 2008 IEEE Conference on Computer Vision and Pattern Recognition, 1–8. https://doi.org/10.1109/CVPR.2008.4587622\n",
    "\n",
    "Make sure to run the following cell so that the dependencies are loaded!"
   ]
  },
  {
   "cell_type": "code",
   "execution_count": 2,
   "metadata": {
    "pycharm": {
     "is_executing": false,
     "metadata": false,
     "name": "#%%\n"
    }
   },
   "outputs": [],
   "source": [
    "!pip install -q matplotlib pillow networkx pygraphviz hlda\n",
    "import os\n",
    "try:\n",
    "    os.chdir(os.getcwd() + '/notebooks')\n",
    "except:\n",
    "    pass\n",
    "import networkx as nx\n",
    "from matplotlib import pyplot as plt\n",
    "import numpy as np\n",
    "from PIL import Image\n",
    "from hierarchy_plotting import *\n",
    "from IPython.display import display\n",
    "from hlda.sampler import HierarchicalLDA\n",
    "%matplotlib inline"
   ]
  },
  {
   "cell_type": "markdown",
   "metadata": {
    "pycharm": {
     "metadata": false
    }
   },
   "source": [
    "\n",
    "## The Generative Model\n",
    "First, let's try to recreate figure #3(a) from the title reference (Sivic et al., 2008). The figure is the following:\n",
    "\n",
    "![Sivic et al. 2008 Figure #3](figures/sivic_fig3.png)\n",
    "\n",
    "So, the first thing we need to be able to do is generate our training set data, which will be composed of 'word' observations. To do so, we use the generative model for hLDA presented in the paper:\n",
    "\n",
    "![Sivic et al. 2008 hLDA Graphical Model](figures/hlda_graphical_model.png)\n",
    "\n",
    "To generate the visual words $\\{w_i\\}_{i=1}^N$, we need to first generate:\n",
    "1. A set distributions of topics over words: $\\{\\beta_i\\}_{i=1}^K$\n",
    "1. A tree structure $T$ with depth $L$ containing $K$ topics\n",
    "2. A path $\\mathbf{c}$ of length $L$ through the tree for each image (document)\n",
    "1. A topic distribution $\\theta$ over the topics in the path for every image (document)\n",
    "\n",
    "In Figure #3 of the Sivic paper, the $\\beta$ distributions and $T$ are fixed, and we will replicate the same structure. Let's begin by representing the $\\beta$ distributions, which show the word distribution of each topic."
   ]
  },
  {
   "cell_type": "code",
   "execution_count": 3,
   "metadata": {
    "pycharm": {
     "is_executing": false,
     "name": "#%%\n"
    }
   },
   "outputs": [],
   "source": [
    "def create_band(x=None, y=None, save=None):\n",
    "    img = Image.new('L', (5, 5), color=255)\n",
    "    pix = img.load()\n",
    "    if x is not None:\n",
    "        for i in range(img.height):\n",
    "            pix[x, i] = 0\n",
    "    if y is not None:\n",
    "        for i in range(img.width):\n",
    "            pix[i, y] = 0\n",
    "    if save:\n",
    "        plt.imsave(save + '.png', np.array(img), cmap='gray', vmin=0, vmax=255)\n",
    "    return np.array(img, dtype=np.uint8)"
   ]
  },
  {
   "cell_type": "markdown",
   "metadata": {
    "pycharm": {
     "metadata": false,
     "name": "#%% md\n"
    }
   },
   "source": [
    "\n",
    "The `create_band()` function allows us to create an image of a single band, which will represent a topic. For example, to create a vertical band at x=1, we do the following:\n"
   ]
  },
  {
   "cell_type": "code",
   "execution_count": 4,
   "metadata": {
    "pycharm": {
     "is_executing": false,
     "metadata": false,
     "name": "#%%\n"
    }
   },
   "outputs": [
    {
     "data": {
      "text/plain": [
       "<matplotlib.image.AxesImage at 0x7f70256a2198>"
      ]
     },
     "execution_count": 4,
     "metadata": {},
     "output_type": "execute_result"
    },
    {
     "data": {
      "image/png": "[encoded data removed]",
      "text/plain": [
       "<Figure size 432x288 with 1 Axes>"
      ]
     },
     "metadata": {
      "needs_background": "light"
     },
     "output_type": "display_data"
    }
   ],
   "source": [
    "topic = {}\n",
    "topic[1] = create_band(x=1, save='figures/z1')\n",
    "plt.imshow(Image.fromarray(topic[1]))"
   ]
  },
  {
   "cell_type": "markdown",
   "metadata": {
    "pycharm": {
     "metadata": false,
     "name": "#%% md\n"
    }
   },
   "source": [
    "Let's enumerate the bands used in the hierarchy from Figure #3:"
   ]
  },
  {
   "cell_type": "code",
   "execution_count": 5,
   "metadata": {
    "pycharm": {
     "is_executing": false,
     "metadata": false,
     "name": "#%%\n"
    }
   },
   "outputs": [],
   "source": [
    "topic[2] = create_band(y=1, save='figures/z2')\n",
    "topic[3] = create_band(x=3, save='figures/z3')\n",
    "topic[4] = create_band(y=0, save='figures/z4')\n",
    "topic[5] = create_band(x=4, save='figures/z5') \n",
    "topic[6] = create_band(y=2, save='figures/z6')\n",
    "topic[7] = create_band(x=0, save='figures/z7')\n",
    "topic[8] = create_band(y=3, save='figures/z8')"
   ]
  },
  {
   "cell_type": "markdown",
   "metadata": {
    "pycharm": {
     "metadata": false,
     "name": "#%% md\n"
    }
   },
   "source": [
    "To visualize them, it would help to have the tree structure. For that, let's recreate the tree from Figure #3:\n"
   ]
  },
  {
   "cell_type": "code",
   "execution_count": 6,
   "metadata": {
    "pycharm": {
     "is_executing": false,
     "metadata": false,
     "name": "#%%\n"
    }
   },
   "outputs": [],
   "source": [
    "class Node:\n",
    "    def __init__(self, name, children):\n",
    "        self.name = name\n",
    "        self.children = children\n",
    "        self.weight = 0\n",
    "        \n",
    "    def __getitem__(self, item):\n",
    "        if item == 0:\n",
    "            return self.name\n",
    "        elif item == 1:\n",
    "            return self.children\n",
    "        elif item == 2:\n",
    "            return self.weight\n",
    "\n",
    "tree =\\\n",
    "[Node(1, [\n",
    "    Node(2, [\n",
    "        Node(4, None), Node(5, None)\n",
    "    ]),\n",
    "    Node(3, [\n",
    "        Node(6, None), Node(7, None), Node(8, None)\n",
    "    ])\n",
    "])]"
   ]
  },
  {
   "cell_type": "markdown",
   "metadata": {
    "pycharm": {
     "metadata": false,
     "name": "#%% md\n"
    }
   },
   "source": [
    "The next step is to plot the tree, which we can do using the `networkx` package:"
   ]
  },
  {
   "cell_type": "code",
   "execution_count": 7,
   "metadata": {
    "pycharm": {
     "is_executing": false,
     "metadata": false,
     "name": "#%%\n"
    }
   },
   "outputs": [
    {
     "name": "stderr",
     "output_type": "stream",
     "text": [
      "/home/stewart/anaconda3/envs/stats/lib/python3.6/site-packages/matplotlib/figure.py:445: UserWarning: Matplotlib is currently using module://ipykernel.pylab.backend_inline, which is a non-GUI backend, so cannot show the figure.\n",
      "  % get_backend())\n"
     ]
    },
    {
     "data": {
      "image/png": "[encoded data removed]",
      "text/plain": [
       "<Figure size 432x288 with 9 Axes>"
      ]
     },
     "metadata": {
      "needs_background": "light"
     },
     "output_type": "display_data"
    }
   ],
   "source": [
    "def build_graph_from_tree(G, level):\n",
    "    for node in level:\n",
    "        G.add_node(node[0], image=f'figures/z{node[0]}.png')\n",
    "        if node[1] is not None:\n",
    "            build_graph_from_tree(G, node[1])\n",
    "            for child in node[1]:\n",
    "                G.add_edge(node[0], child[0])\n",
    "\n",
    "G = nx.DiGraph()\n",
    "build_graph_from_tree(G, tree)\n",
    "tree_fig : plt.Figure = plt.figure()\n",
    "plot_image_hierarchy(tree_fig, G)\n",
    "tree_fig.show()"
   ]
  },
  {
   "cell_type": "markdown",
   "metadata": {
    "pycharm": {
     "metadata": false,
     "name": "#%% md\n"
    }
   },
   "source": [
    "Now let's go ahead and sample an image from each path of the tree. As in the paper, we are going to use topic proportions sampled from a Dirichlet prior with $\\alpha = [50, 30, 10]$. This means that the words will be drawn more often from the root node, less often from the middle node and even less often from the leaf node of the path. Also, since each $\\alpha_i \\gg 1$, each image will contain a mix of words from all topics."
   ]
  },
  {
   "cell_type": "code",
   "execution_count": 8,
   "metadata": {
    "pycharm": {
     "is_executing": false,
     "metadata": false,
     "name": "#%%\n"
    }
   },
   "outputs": [
    {
     "name": "stdout",
     "output_type": "stream",
     "text": [
      "theta = [0.6322987  0.27853168 0.08916963]\n"
     ]
    }
   ],
   "source": [
    "alpha = np.array([50, 30, 10])\n",
    "theta = np.random.dirichlet(alpha)\n",
    "print('theta =', theta)"
   ]
  },
  {
   "cell_type": "markdown",
   "metadata": {
    "pycharm": {
     "metadata": false,
     "name": "#%% md\n"
    }
   },
   "source": [
    "Now all that's left to do is to enumerate all the paths through the tree and generate the word distribution of each document using its topic distribution:"
   ]
  },
  {
   "cell_type": "code",
   "execution_count": 9,
   "metadata": {
    "pycharm": {
     "is_executing": false,
     "metadata": false,
     "name": "#%%\n"
    }
   },
   "outputs": [
    {
     "data": {
      "image/png": "[encoded data removed]",
      "text/plain": [
       "<Figure size 432x288 with 5 Axes>"
      ]
     },
     "metadata": {},
     "output_type": "display_data"
    }
   ],
   "source": [
    "def all_paths(root):\n",
    "    paths = []\n",
    "    base_path = [root[0]]\n",
    "    if root[1] is None:\n",
    "        return [base_path]\n",
    "    \n",
    "    for child in root[1]:\n",
    "        child_paths = all_paths(child)\n",
    "        paths.extend([(base_path + child_path) for child_path in child_paths])\n",
    "    return paths\n",
    "\n",
    "unique_paths = all_paths(tree[0])\n",
    "word_dists = []\n",
    "\n",
    "def get_word_dist(topics, path, alpha):\n",
    "    theta = np.random.dirichlet(alpha)\n",
    "    weighted_components = [(topic[z] * theta[i]) for i, z in enumerate(path)]\n",
    "    return np.sum(weighted_components, axis=0)\n",
    "\n",
    "# display(tree_fig)\n",
    "fig = plt.figure()\n",
    "for i, path in enumerate(unique_paths):\n",
    "    fig.add_subplot(1, len(unique_paths), i+1)\n",
    "    word_dists.append(get_word_dist(topic, path, alpha))\n",
    "    plt.imshow(Image.fromarray(word_dists[-1]))\n",
    "    plt.title(f'{path}')\n",
    "    plt.gca().set_xticks([])\n",
    "    plt.gca().set_yticks([])\n"
   ]
  },
  {
   "cell_type": "markdown",
   "metadata": {
    "pycharm": {
     "metadata": false,
     "name": "#%% md\n"
    }
   },
   "source": [
    "\n",
    "We can tell that our our word distributions are good because they already resemble the sample images from Figure 3. Now all that's left to do is to sample documents from them. To do so, we will treat the pixel intensities as the weights of a categorical distribution:\n"
   ]
  },
  {
   "cell_type": "code",
   "execution_count": 10,
   "metadata": {
    "pycharm": {
     "is_executing": false,
     "metadata": false,
     "name": "#%%\n"
    }
   },
   "outputs": [
    {
     "data": {
      "image/png": "[encoded data removed]",
      "text/plain": [
       "<Figure size 432x288 with 9 Axes>"
      ]
     },
     "metadata": {},
     "output_type": "display_data"
    },
    {
     "data": {
      "image/png": "[encoded data removed]",
      "text/plain": [
       "<Figure size 432x288 with 5 Axes>"
      ]
     },
     "metadata": {},
     "output_type": "display_data"
    }
   ],
   "source": [
    "n_words = 250\n",
    "\n",
    "def sample_document(word_dist):\n",
    "    flat_word_dist = 255 - word_dist.reshape(-1)\n",
    "    doc_words = np.random.multinomial(n_words, flat_word_dist / np.sum(flat_word_dist))\n",
    "    doc_image = 255 - (doc_words.reshape(word_dist.shape).astype(np.uint8) * (255 / np.max(doc_words)))\n",
    "    return doc_image, doc_words\n",
    "\n",
    "display(tree_fig)\n",
    "fig = plt.figure()\n",
    "for i, path in enumerate(unique_paths):\n",
    "    fig.add_subplot(1, len(unique_paths), i+1)\n",
    "    \n",
    "    sample_doc = sample_document(word_dists[i])[0]\n",
    "    plt.imshow(Image.fromarray(sample_doc))\n",
    "    plt.title(f'{path}')\n",
    "    plt.gca().set_xticks([])\n",
    "    plt.gca().set_yticks([])"
   ]
  },
  {
   "cell_type": "markdown",
   "metadata": {
    "pycharm": {
     "metadata": false,
     "name": "#%% md\n"
    }
   },
   "source": [
    "So, we can tell that our generative process works since the figure closely matches 3(a) from the paper:\n",
    "\n",
    "![Sivic et al. 2008 Figure #3](figures/sivic_fig3_small.png)\n"
   ]
  },
  {
   "cell_type": "markdown",
   "metadata": {
    "pycharm": {
     "metadata": false,
     "name": "#%% md\n"
    }
   },
   "source": [
    "## Inference on the Model\n",
    "\n",
    "Now that we can sample documents from arbitrary word distributions, let's generate a larger corpus of documents to use for inference. To do so, we'll need to randomly sample paths from the tree.\n",
    "\n",
    "For now, we will assume that at each branch the decision is made uniformly over the available choices:"
   ]
  },
  {
   "cell_type": "code",
   "execution_count": 11,
   "metadata": {
    "pycharm": {
     "is_executing": false,
     "metadata": false,
     "name": "#%%\n"
    }
   },
   "outputs": [
    {
     "data": {
      "image/png": "[encoded data removed]",
      "text/plain": [
       "<Figure size 432x288 with 6 Axes>"
      ]
     },
     "metadata": {},
     "output_type": "display_data"
    }
   ],
   "source": [
    "n_documents = 100\n",
    "\n",
    "def sample_path(node):\n",
    "    path = [node[0]]\n",
    "    if node[1] is not None:\n",
    "        child = np.random.choice(len(node[1]))\n",
    "        path.extend(sample_path(node[1][child]))\n",
    "    return path\n",
    "\n",
    "random_paths = [sample_path(tree[0]) for _ in range(n_documents)]\n",
    "word_dists = [get_word_dist(topic, path, alpha) for path in random_paths]\n",
    "corpus = [sample_document(word_dist) for word_dist in word_dists]\n",
    "\n",
    "fig = plt.figure()\n",
    "num_plots = 6\n",
    "for i in range(num_plots):\n",
    "    fig.add_subplot(1, num_plots, i+1)\n",
    "    plt.imshow(Image.fromarray(corpus[i][0]))\n",
    "    plt.title(f'{random_paths[i]}')\n",
    "    plt.gca().set_xticks([])\n",
    "    plt.gca().set_yticks([])"
   ]
  },
  {
   "cell_type": "markdown",
   "metadata": {
    "pycharm": {
     "metadata": false,
     "name": "#%% md\n"
    }
   },
   "source": [
    "Now that we have a corpus, we perform inference using Gibbs sampling."
   ]
  },
  {
   "cell_type": "code",
   "execution_count": 12,
   "metadata": {
    "pycharm": {
     "is_executing": false,
     "metadata": false,
     "name": "#%%\n"
    }
   },
   "outputs": [
    {
     "name": "stdout",
     "output_type": "stream",
     "text": [
      "HierarchicalLDA sampling\n",
      ".................................................. 50\n",
      "topic 0 (level=0, total_words=7770, documents=100): 1, 6, 21, 16, 11, \n",
      "    topic 3 (level=1, total_words=5415, documents=68): 11, 21, 16, 1, 6, \n",
      "        topic 6 (level=2, total_words=2288, documents=23): 18, 23, 3, 13, 19, \n",
      "        topic 13 (level=2, total_words=250, documents=2): 18, 13, 3, 23, 8, \n",
      "        topic 14 (level=2, total_words=2073, documents=22): 9, 6, 7, 5, 19, \n",
      "        topic 15 (level=2, total_words=1888, documents=21): 6, 7, 9, 5, 0, \n",
      "    topic 7 (level=1, total_words=1234, documents=13): 13, 11, 21, 18, 3, \n",
      "        topic 11 (level=2, total_words=999, documents=13): 23, 16, 18, 20, 0, \n",
      "    topic 9 (level=1, total_words=1646, documents=19): 11, 21, 6, 1, 13, \n",
      "        topic 12 (level=2, total_words=1437, documents=19): 13, 3, 18, 23, 8, \n",
      ".................................................. 100\n",
      "topic 0 (level=0, total_words=8024, documents=100): 6, 21, 1, 16, 11, \n",
      "    topic 3 (level=1, total_words=5512, documents=68): 11, 1, 16, 21, 6, \n",
      "        topic 6 (level=2, total_words=2261, documents=23): 18, 23, 3, 13, 19, \n",
      "        topic 13 (level=2, total_words=252, documents=2): 18, 13, 3, 23, 8, \n",
      "        topic 14 (level=2, total_words=1937, documents=22): 9, 7, 5, 6, 19, \n",
      "        topic 15 (level=2, total_words=1844, documents=21): 7, 6, 9, 5, 0, \n",
      "    topic 7 (level=1, total_words=1000, documents=13): 23, 13, 3, 11, 8, \n",
      "        topic 11 (level=2, total_words=943, documents=13): 16, 18, 21, 20, 5, \n",
      "    topic 9 (level=1, total_words=1644, documents=19): 11, 1, 21, 6, 13, \n",
      "        topic 12 (level=2, total_words=1583, documents=19): 13, 3, 23, 18, 16, \n",
      ".................................................. 150\n",
      "topic 0 (level=0, total_words=8282, documents=100): 6, 1, 21, 16, 11, \n",
      "    topic 3 (level=1, total_words=5110, documents=68): 11, 16, 21, 1, 6, \n",
      "        topic 6 (level=2, total_words=2244, documents=23): 18, 23, 3, 13, 19, \n",
      "        topic 13 (level=2, total_words=260, documents=2): 18, 13, 3, 23, 8, \n",
      "        topic 14 (level=2, total_words=2068, documents=22): 9, 6, 7, 5, 19, \n",
      "        topic 15 (level=2, total_words=1669, documents=21): 7, 9, 5, 6, 0, \n",
      "    topic 7 (level=1, total_words=1196, documents=13): 11, 3, 13, 18, 8, \n",
      "        topic 11 (level=2, total_words=987, documents=13): 16, 6, 21, 0, 23, \n",
      "    topic 9 (level=1, total_words=1642, documents=19): 11, 21, 13, 1, 6, \n",
      "        topic 12 (level=2, total_words=1542, documents=19): 3, 23, 18, 16, 13, \n",
      ".................................................. 200\n",
      "topic 0 (level=0, total_words=7942, documents=100): 6, 1, 21, 16, 11, \n",
      "    topic 3 (level=1, total_words=5383, documents=68): 11, 16, 21, 1, 6, \n",
      "        topic 6 (level=2, total_words=2248, documents=23): 18, 23, 3, 13, 19, \n",
      "        topic 13 (level=2, total_words=258, documents=2): 18, 13, 3, 23, 8, \n",
      "        topic 14 (level=2, total_words=2078, documents=22): 9, 7, 5, 6, 8, \n",
      "        topic 15 (level=2, total_words=1867, documents=21): 7, 9, 6, 5, 0, \n",
      "    topic 7 (level=1, total_words=1106, documents=13): 13, 11, 3, 18, 8, \n",
      "        topic 11 (level=2, total_words=1024, documents=13): 16, 6, 21, 23, 18, \n",
      "    topic 9 (level=1, total_words=1519, documents=19): 11, 21, 1, 6, 12, \n",
      "        topic 12 (level=2, total_words=1575, documents=19): 13, 3, 23, 18, 8, \n",
      ".................................................. 250\n",
      "topic 0 (level=0, total_words=7740, documents=100): 1, 6, 21, 16, 11, \n",
      "    topic 3 (level=1, total_words=5217, documents=68): 11, 16, 21, 6, 1, \n",
      "        topic 6 (level=2, total_words=2264, documents=23): 18, 23, 3, 13, 8, \n",
      "        topic 13 (level=2, total_words=260, documents=2): 18, 13, 3, 23, 8, \n",
      "        topic 14 (level=2, total_words=2209, documents=22): 9, 6, 7, 5, 8, \n",
      "        topic 15 (level=2, total_words=1955, documents=21): 6, 7, 9, 5, 0, \n",
      "    topic 7 (level=1, total_words=1061, documents=13): 13, 3, 8, 18, 11, \n",
      "        topic 11 (level=2, total_words=1105, documents=13): 16, 23, 21, 6, 18, \n",
      "    topic 9 (level=1, total_words=1636, documents=19): 11, 21, 6, 1, 12, \n",
      "        topic 12 (level=2, total_words=1553, documents=19): 13, 3, 18, 16, 8, \n",
      ".................................................. 300\n",
      "topic 0 (level=0, total_words=8202, documents=100): 6, 21, 1, 16, 11, \n",
      "    topic 3 (level=1, total_words=5200, documents=68): 11, 16, 1, 21, 8, \n",
      "        topic 6 (level=2, total_words=2171, documents=23): 18, 23, 3, 13, 19, \n",
      "        topic 13 (level=2, total_words=246, documents=2): 18, 13, 3, 23, 8, \n",
      "        topic 14 (level=2, total_words=2033, documents=22): 9, 7, 5, 6, 19, \n",
      "        topic 15 (level=2, total_words=1880, documents=21): 6, 7, 9, 5, 0, \n",
      "    topic 7 (level=1, total_words=1124, documents=13): 13, 3, 8, 18, 23, \n",
      "        topic 11 (level=2, total_words=1093, documents=13): 16, 21, 1, 6, 20, \n",
      "    topic 9 (level=1, total_words=1565, documents=19): 11, 13, 21, 1, 12, \n",
      "        topic 12 (level=2, total_words=1486, documents=19): 3, 18, 8, 13, 16, \n",
      ".................................................. 350\n",
      "topic 0 (level=0, total_words=8083, documents=100): 6, 1, 21, 16, 11, \n",
      "    topic 3 (level=1, total_words=5552, documents=68): 11, 16, 1, 21, 6, \n",
      "        topic 6 (level=2, total_words=2067, documents=23): 18, 23, 3, 13, 19, \n",
      "        topic 13 (level=2, total_words=255, documents=2): 18, 13, 3, 23, 8, \n",
      "        topic 14 (level=2, total_words=1983, documents=22): 9, 7, 5, 6, 19, \n",
      "        topic 15 (level=2, total_words=1817, documents=21): 7, 9, 6, 5, 0, \n",
      "    topic 7 (level=1, total_words=1180, documents=13): 23, 13, 18, 3, 8, \n",
      "        topic 11 (level=2, total_words=1002, documents=13): 6, 16, 11, 1, 20, \n",
      "    topic 9 (level=1, total_words=1606, documents=19): 11, 13, 1, 21, 6, \n",
      "        topic 12 (level=2, total_words=1455, documents=19): 3, 18, 23, 8, 13, \n",
      ".................................................. 400\n",
      "topic 0 (level=0, total_words=8474, documents=100): 6, 21, 11, 16, 1, \n",
      "    topic 3 (level=1, total_words=5134, documents=68): 8, 16, 1, 11, 21, \n",
      "        topic 6 (level=2, total_words=2071, documents=23): 18, 23, 3, 13, 19, \n",
      "        topic 13 (level=2, total_words=281, documents=2): 18, 13, 3, 23, 8, \n",
      "        topic 14 (level=2, total_words=2072, documents=22): 9, 6, 7, 5, 19, \n",
      "        topic 15 (level=2, total_words=1916, documents=21): 6, 7, 9, 5, 1, \n",
      "    topic 7 (level=1, total_words=1119, documents=13): 23, 8, 13, 3, 18, \n",
      "        topic 11 (level=2, total_words=946, documents=13): 16, 11, 1, 6, 20, \n",
      "    topic 9 (level=1, total_words=1458, documents=19): 11, 13, 1, 21, 12, \n",
      "        topic 12 (level=2, total_words=1529, documents=19): 8, 3, 23, 18, 13, \n",
      ".................................................. 450\n",
      "topic 0 (level=0, total_words=8096, documents=100): 11, 6, 1, 16, 21, \n",
      "    topic 3 (level=1, total_words=5432, documents=68): 21, 8, 16, 1, 6, \n",
      "        topic 6 (level=2, total_words=2085, documents=23): 18, 23, 3, 13, 19, \n",
      "        topic 13 (level=2, total_words=230, documents=2): 18, 13, 3, 23, 10, \n",
      "        topic 14 (level=2, total_words=2066, documents=22): 9, 6, 7, 5, 19, \n",
      "        topic 15 (level=2, total_words=1955, documents=21): 6, 7, 9, 5, 1, \n",
      "    topic 7 (level=1, total_words=1104, documents=13): 23, 18, 8, 13, 3, \n",
      "        topic 11 (level=2, total_words=1031, documents=13): 16, 6, 21, 1, 20, \n",
      "    topic 9 (level=1, total_words=1591, documents=19): 11, 13, 21, 1, 10, \n",
      "        topic 12 (level=2, total_words=1410, documents=19): 23, 8, 18, 3, 16, \n",
      ".................................................. 500\n",
      "topic 0 (level=0, total_words=7855, documents=100): 6, 1, 11, 16, 21, \n",
      "    topic 3 (level=1, total_words=5645, documents=68): 21, 8, 16, 11, 1, \n",
      "        topic 6 (level=2, total_words=2077, documents=23): 18, 23, 3, 13, 19, \n",
      "        topic 13 (level=2, total_words=245, documents=2): 18, 13, 3, 23, 10, \n",
      "        topic 14 (level=2, total_words=2000, documents=22): 9, 7, 5, 6, 19, \n",
      "        topic 15 (level=2, total_words=1906, documents=21): 6, 7, 9, 5, 1, \n",
      "    topic 7 (level=1, total_words=1196, documents=13): 23, 18, 8, 13, 3, \n",
      "        topic 11 (level=2, total_words=971, documents=13): 21, 16, 6, 11, 20, \n",
      "    topic 9 (level=1, total_words=1478, documents=19): 11, 21, 1, 13, 12, \n",
      "        topic 12 (level=2, total_words=1627, documents=19): 8, 23, 3, 18, 13, \n"
     ]
    }
   ],
   "source": [
    "word_corpus = []\n",
    "for document in corpus:\n",
    "    words = []\n",
    "    word_counts = document[1]\n",
    "    for i in range(word_counts.size):\n",
    "        words += [i] * word_counts[i]\n",
    "    word_corpus.append(words)\n",
    "vocab = list(range(word_counts.size))\n",
    "\n",
    "n_samples = 500       # no of iterations for the sampler\n",
    "alpha = 10.0          # smoothing over level ddddistributions\n",
    "gamma = 1.0           # CRP smoothing parameter; number of imaginary customers at next, as yet unused table\n",
    "eta = 0.1             # smoothing over topic-word distributions\n",
    "num_levels = 3        # the number of levels in the tree\n",
    "display_topics = 50   # the number of iterations between printing a brief summary of the topics so far\n",
    "n_words = 5           # the number of most probable words to print for each topic after model estimation\n",
    "with_weights = False  # whether to print the words with the weights\n",
    "\n",
    "hlda = HierarchicalLDA(word_corpus, vocab, alpha=alpha, gamma=gamma, eta=eta, num_levels=num_levels)\n",
    "hlda.estimate(n_samples, display_topics=display_topics, n_words=n_words, with_weights=with_weights)\n"
   ]
  },
  {
   "cell_type": "code",
   "execution_count": null,
   "metadata": {
    "pycharm": {
     "metadata": false,
     "name": "#%%\n"
    }
   },
   "outputs": [],
   "source": [
    "\n"
   ]
  }
 ],
 "metadata": {
  "kernelspec": {
   "display_name": "Python 3",
   "language": "python",
   "name": "python3"
  },
  "language_info": {
   "codemirror_mode": {
    "name": "ipython",
    "version": 3
   },
   "file_extension": ".py",
   "mimetype": "text/x-python",
   "name": "python",
   "nbconvert_exporter": "python",
   "pygments_lexer": "ipython3",
   "version": "3.6.8"
  }
 },
 "nbformat": 4,
 "nbformat_minor": 1
}
