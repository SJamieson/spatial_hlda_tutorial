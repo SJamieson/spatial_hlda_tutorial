{
 "cells": [
  {
   "cell_type": "markdown",
   "metadata": {
    "collapsed": true,
    "pycharm": {
     "name": "#%% md\n"
    }
   },
   "source": [
    "## \"Unsupervised discovery of visual object class hierarchies\"\n",
    "Sivic, J., Russell, B. C., Zisserman, A., Freeman, W. T., & Efros, A. A. (2008). Unsupervised discovery of visual object class hierarchies. 2008 IEEE Conference on Computer Vision and Pattern Recognition, 1–8. https://doi.org/10.1109/CVPR.2008.4587622\n",
    "\n",
    "Make sure to run the following cell so that the dependencies are loaded!"
   ]
  },
  {
   "cell_type": "code",
   "execution_count": 1,
   "metadata": {
    "pycharm": {
     "is_executing": false,
     "metadata": false,
     "name": "#%%\n"
    }
   },
   "outputs": [],
   "source": [
    "!pip install -q matplotlib pillow networkx pygraphviz\n",
    "import networkx as nx\n",
    "from networkx.drawing.nx_agraph import write_dot, graphviz_layout\n",
    "from matplotlib import pyplot as plt\n",
    "import numpy as np\n",
    "from PIL import Image\n",
    "%matplotlib inline"
   ]
  },
  {
   "cell_type": "markdown",
   "metadata": {
    "pycharm": {
     "metadata": false
    }
   },
   "source": [
    "First, let's try to recreate figure #3 from the title reference (Sivic et al., 2008). The figure is the following:\n",
    "\n",
    "![Sivic et al. 2008 Figure #3](sivic_fig3.png)\n",
    "\n",
    "So, the first thing we need to be able to do is generate our training set data, which will be composed of 'word' observations. To do so, we use the generative model for hLDA presented in the paper:\n",
    "\n",
    "![Sivic et al. 2008 hLDA Graphical Model](hlda_graphical_model.png)\n",
    "\n",
    "To generate the visual words $\\{w_i\\}_{i=1}^N$, we need to first generate:\n",
    "1. A set distributions of topics over words: $\\{\\beta_i\\}_{i=1}^K$\n",
    "1. A tree structure $T$ with depth $L$ containing $K$ topics\n",
    "2. A path $\\mathbf{c}$ of length $L$ through the tree for each image (document)\n",
    "1. A topic distribution $\\theta$ over the topics in the path for every image (document)\n",
    "\n",
    "In Figure #3 of the Sivic paper, the $\\beta$ distributions and $T$ are fixed, and we will replicate the same structure. Let's begin by representing the $\\beta$ distributions, which show the word distribution of each topic."
   ]
  },
  {
   "cell_type": "code",
   "execution_count": 2,
   "metadata": {
    "pycharm": {
     "is_executing": false,
     "name": "#%%\n"
    }
   },
   "outputs": [],
   "source": [
    "def create_band(x=None, y=None, save=None):\n",
    "    img = Image.new('L', (5, 5), color=255)\n",
    "    pix = img.load()\n",
    "    if x is not None:\n",
    "        for i in range(img.height):\n",
    "            pix[x, i] = 0\n",
    "    if y is not None:\n",
    "        for i in range(img.width):\n",
    "            pix[i, y] = 0\n",
    "    if save:\n",
    "        plt.imsave(save + '.png', np.array(img), cmap='gray', vmin=0, vmax=255)\n",
    "    return img"
   ]
  },
  {
   "cell_type": "markdown",
   "metadata": {
    "pycharm": {
     "metadata": false,
     "name": "#%% md\n"
    }
   },
   "source": [
    "\n",
    "The `create_band()` function allows us to create an image of a single band, which will represent a topic. For example, to create a vertical band at x=1, we do the following:\n"
   ]
  },
  {
   "cell_type": "code",
   "execution_count": 3,
   "metadata": {
    "pycharm": {
     "is_executing": false,
     "metadata": false,
     "name": "#%%\n"
    }
   },
   "outputs": [
    {
     "data": {
      "text/plain": [
       "<matplotlib.image.AxesImage at 0x7f589d4d0208>"
      ]
     },
     "execution_count": 3,
     "metadata": {},
     "output_type": "execute_result"
    },
    {
     "data": {
      "image/png": "[encoded data removed]",
      "text/plain": [
       "<Figure size 432x288 with 1 Axes>"
      ]
     },
     "metadata": {
      "needs_background": "light"
     },
     "output_type": "display_data"
    }
   ],
   "source": [
    "z1 = create_band(x=1, save='z1')\n",
    "plt.imshow(z1)"
   ]
  },
  {
   "cell_type": "markdown",
   "metadata": {
    "pycharm": {
     "metadata": false,
     "name": "#%% md\n"
    }
   },
   "source": [
    "Let's enumerate the bands used in the hierarchy from Figure #3:"
   ]
  },
  {
   "cell_type": "code",
   "execution_count": 4,
   "metadata": {
    "pycharm": {
     "is_executing": false,
     "metadata": false,
     "name": "#%%\n"
    }
   },
   "outputs": [],
   "source": [
    "z2 = create_band(y=1, save='z2')\n",
    "z3 = create_band(x=3, save='z3')\n",
    "z4 = create_band(y=0, save='z4')\n",
    "z5 = create_band(x=4, save='z5') \n",
    "z6 = create_band(y=2, save='z6')\n",
    "z7 = create_band(x=0, save='z7')\n",
    "z8 = create_band(y=1, save='z8')"
   ]
  },
  {
   "cell_type": "markdown",
   "metadata": {
    "pycharm": {
     "metadata": false,
     "name": "#%% md\n"
    }
   },
   "source": [
    "To visualize them, it would help to have the tree structure. For that, let's recreate the tree from Figure #3 using the `networkx` package:\n"
   ]
  },
  {
   "cell_type": "code",
   "execution_count": 42,
   "metadata": {
    "pycharm": {
     "is_executing": false,
     "metadata": false,
     "name": "#%%\n"
    }
   },
   "outputs": [
    {
     "name": "stdout",
     "output_type": "stream",
     "text": [
      "0.43243801652892566 0.1 0.8144834710743801 0.1 0.2 186.8132231404959 234.5712396694215 135.0 162.0\n",
      "0.35237603305785126 0.1 0.5025 0.1 0.2 152.22644628099175 144.72 99.0 90.0\n",
      "0.5925619834710744 0.1 0.5025 0.1 0.2 255.98677685950415 144.72 207.0 90.0\n",
      "0.19225206611570247 0.1 0.19051652892561982 0.1 0.2 83.05289256198347 54.86876033057851 27.0 18.0\n",
      "0.35237603305785126 0.1 0.19051652892561982 0.1 0.2 152.22644628099175 54.86876033057851 99.0 18.0\n",
      "0.5125 0.1 0.19051652892561982 0.1 0.2 221.4 54.86876033057851 171.0 18.0\n",
      "0.6726239669421488 0.1 0.19051652892561982 0.1 0.2 290.57355371900826 54.86876033057851 243.0 18.0\n",
      "0.8327479338842975 0.1 0.19051652892561982 0.1 0.2 359.74710743801654 54.86876033057851 315.0 18.0\n"
     ]
    },
    {
     "data": {
      "image/png": "[encoded data removed]",
      "text/plain": [
       "<Figure size 432x288 with 9 Axes>"
      ]
     },
     "metadata": {
      "needs_background": "light"
     },
     "output_type": "display_data"
    }
   ],
   "source": [
    "G = nx.DiGraph()\n",
    "G.add_node(1, image='z1.png')\n",
    "G.add_node(2, image='z2.png')\n",
    "G.add_node(3, image='z3.png')\n",
    "G.add_node(4, image='z4.png')\n",
    "G.add_node(5, image='z5.png')\n",
    "G.add_node(6, image='z6.png')\n",
    "G.add_node(7, image='z7.png')\n",
    "G.add_node(8, image='z8.png')\n",
    "\n",
    "G.add_edge(1, 2)\n",
    "G.add_edge(1, 3)\n",
    "G.add_edge(2, 4)\n",
    "G.add_edge(2, 5)\n",
    "G.add_edge(3, 6)\n",
    "G.add_edge(3, 7)\n",
    "G.add_edge(3, 8)\n",
    "\n",
    "fig=plt.figure()\n",
    "ax=plt.gca()\n",
    "ax.set_aspect('equal', adjustable='box')\n",
    "\n",
    "write_dot(G,'test.dot')\n",
    "pos =graphviz_layout(G, prog='dot', args='sep=\"+25,25\";')\n",
    "nx.draw_networkx_edges(G,pos,ax=ax)\n",
    "\n",
    "# plt.xlim(-1.5,1.5)\n",
    "# plt.ylim(-1.5,1.5)\n",
    "\n",
    "trans=ax.transData.transform\n",
    "trans2=fig.transFigure.inverted().transform\n",
    "\n",
    "axis_to_data = ax.transAxes + ax.transData.inverted()\n",
    "data_to_axis = axis_to_data.inverted()\n",
    "\n",
    "piesize=0.2 # this is the image size\n",
    "p2=piesize/2.0\n",
    "for n in G:\n",
    "    xx,yy=trans(pos[n]) # figure coordinates\n",
    "    xa,ya=trans2((xx,yy)) # axes coordinates\n",
    "#     xa,ya = data_to_axis.transform(pos[n])\n",
    "#     a = plt.axes([xa,ya, piesize, piesize])\n",
    "    a = plt.axes([xa-p2,ya-p2, piesize, piesize])\n",
    "    print(xa, p2, ya, p2, piesize, xx, yy, pos[n][0], pos[n][1])\n",
    "#     a.set_aspect('equal')\n",
    "#     a.imshow(plt.imread(G.node[n]['image']))\n",
    "    a.set_xticks([])\n",
    "    a.set_yticks([])\n",
    "\n",
    "ax.axis('off')\n",
    "plt.show()"
   ]
  },
  {
   "cell_type": "code",
   "execution_count": null,
   "metadata": {
    "pycharm": {
     "metadata": false,
     "name": "#%%\n"
    }
   },
   "outputs": [],
   "source": [
    "\n"
   ]
  }
 ],
 "metadata": {
  "kernelspec": {
   "display_name": "Python 3",
   "language": "python",
   "name": "python3"
  },
  "language_info": {
   "codemirror_mode": {
    "name": "ipython",
    "version": 3
   },
   "file_extension": ".py",
   "mimetype": "text/x-python",
   "name": "python",
   "nbconvert_exporter": "python",
   "pygments_lexer": "ipython3",
   "version": "3.6.8"
  }
 },
 "nbformat": 4,
 "nbformat_minor": 1
}
